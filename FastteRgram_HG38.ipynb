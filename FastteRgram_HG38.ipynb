{
 "cells": [
  {
   "cell_type": "markdown",
   "metadata": {},
   "source": [
    "### Necessary imports"
   ]
  },
  {
   "cell_type": "code",
   "execution_count": 1,
   "metadata": {},
   "outputs": [],
   "source": [
    "import os\n",
    "import umap\n",
    "import itertools\n",
    "import smart_open\n",
    "import numpy as np\n",
    "import pandas as pd\n",
    "import pickle as pkl\n",
    "import os.path as op\n",
    "from Bio import SeqIO\n",
    "from Bio import pairwise2\n",
    "from textwrap import wrap\n",
    "from itertools import groupby\n",
    "import matplotlib.pyplot as plt\n",
    "from rgramlib.rgramlib import *\n",
    "from scipy.stats import spearmanr\n",
    "from gensim.models import FastText\n",
    "from gensim.models import KeyedVectors\n",
    "from gensim.test.utils import get_tmpfile\n",
    "from scipy.spatial.distance import cosine"
   ]
  },
  {
   "cell_type": "markdown",
   "metadata": {},
   "source": [
    "### Rgram instance definition"
   ]
  },
  {
   "cell_type": "code",
   "execution_count": 2,
   "metadata": {},
   "outputs": [],
   "source": [
    "rgram = RGramMaker(min_num=1, alphabet=\"ATGC\")"
   ]
  },
  {
   "cell_type": "code",
   "execution_count": 3,
   "metadata": {},
   "outputs": [
    {
     "ename": "AttributeError",
     "evalue": "Can't get attribute 'RGramMaker' on <module 'rgramlib' (namespace)>",
     "output_type": "error",
     "traceback": [
      "\u001b[0;31m---------------------------------------------------------------------------\u001b[0m",
      "\u001b[0;31mAttributeError\u001b[0m                            Traceback (most recent call last)",
      "\u001b[0;32m<ipython-input-3-d21709f207ff>\u001b[0m in \u001b[0;36m<module>\u001b[0;34m\u001b[0m\n\u001b[1;32m      1\u001b[0m \u001b[0;32mwith\u001b[0m \u001b[0mopen\u001b[0m\u001b[0;34m(\u001b[0m\u001b[0;34m\"rgram_hg38.pkl\"\u001b[0m\u001b[0;34m,\u001b[0m \u001b[0;34m\"rb\"\u001b[0m\u001b[0;34m)\u001b[0m \u001b[0;32mas\u001b[0m \u001b[0mih\u001b[0m\u001b[0;34m:\u001b[0m\u001b[0;34m\u001b[0m\u001b[0;34m\u001b[0m\u001b[0m\n\u001b[0;32m----> 2\u001b[0;31m     \u001b[0mrgram\u001b[0m \u001b[0;34m=\u001b[0m \u001b[0mpkl\u001b[0m\u001b[0;34m.\u001b[0m\u001b[0mload\u001b[0m\u001b[0;34m(\u001b[0m\u001b[0mih\u001b[0m\u001b[0;34m)\u001b[0m\u001b[0;34m\u001b[0m\u001b[0;34m\u001b[0m\u001b[0m\n\u001b[0m",
      "\u001b[0;31mAttributeError\u001b[0m: Can't get attribute 'RGramMaker' on <module 'rgramlib' (namespace)>"
     ]
    }
   ],
   "source": [
    "with open(\"rgram_hg38.pkl\", \"rb\") as ih:\n",
    "    rgram = pkl.load(ih)"
   ]
  },
  {
   "cell_type": "markdown",
   "metadata": {},
   "source": [
    "### Rgram training"
   ]
  },
  {
   "cell_type": "code",
   "execution_count": 4,
   "metadata": {},
   "outputs": [],
   "source": [
    "HG38PATH = \"/home/bakirillov/HDD/data/genomes/HumanHG38_dna2vec/chroms/\""
   ]
  },
  {
   "cell_type": "code",
   "execution_count": 5,
   "metadata": {},
   "outputs": [],
   "source": [
    "def chunk(in_string,num_chunks):\n",
    "    chunk_size = len(in_string)//num_chunks\n",
    "    if len(in_string) % num_chunks: \n",
    "        chunk_size += 1\n",
    "    iterator = iter(in_string)\n",
    "    for _ in range(num_chunks):\n",
    "        accumulator = list()\n",
    "        for _ in range(chunk_size):\n",
    "            try: accumulator.append(next(iterator))\n",
    "            except StopIteration: break\n",
    "        yield(''.join(accumulator))"
   ]
  },
  {
   "cell_type": "code",
   "execution_count": 6,
   "metadata": {},
   "outputs": [],
   "source": [
    "filenames = np.random.permutation(\n",
    "    list(filter(lambda x: len(x) < 9 and \"M\" not in x, [b for b in os.walk(HG38PATH)][0][2]))\n",
    ")"
   ]
  },
  {
   "cell_type": "code",
   "execution_count": 7,
   "metadata": {},
   "outputs": [],
   "source": [
    "def train_rgram(filenames, match=None):\n",
    "    rgram = RGramMaker(min_num=1, alphabet=\"ATGC\")\n",
    "    error_chunks = []\n",
    "    break_all = False\n",
    "    for i,a in enumerate(filenames):\n",
    "        print(i,a)\n",
    "        #print(list(set(str([l for l in SeqIO.parse(op.join(HG38PATH, a), \"fasta\")][0].seq).upper())))\n",
    "        current_chr = list(\n",
    "            filter(\n",
    "                lambda x: len(x) != 0,\n",
    "                str([l for l in SeqIO.parse(op.join(HG38PATH, a), \"fasta\")][0].seq).upper().split(\"N\")\n",
    "            )\n",
    "        )\n",
    "        total_segments = len(current_chr)\n",
    "        for cnt, non_overlapping in enumerate(current_chr):\n",
    "            if len(non_overlapping) < 10000:\n",
    "                chunk_size = len(non_overlapping)\n",
    "            else:\n",
    "                chunk_size = 10000\n",
    "            num_chunks = int(len(non_overlapping)/chunk_size)\n",
    "            print(\"Segment #\"+str(cnt)+\" of \"+str(total_segments)+\": \"+str(num_chunks))\n",
    "            for w in tqdm(chunk(non_overlapping, num_chunks)):\n",
    "                try:\n",
    "                    rgram.compress(w)\n",
    "                except Exception as e:\n",
    "                    print(\"Chunk raised an exception\", e)\n",
    "                    error_chunks.append((i, a, w))\n",
    "                if match:\n",
    "                    known = len(match.B.keys())\n",
    "                    if len(rgram.B.keys()) == len(match.B.keys()):\n",
    "                        print(\"All r-grams are constructed\")\n",
    "                        break_all = True\n",
    "                        break\n",
    "            if break_all:\n",
    "                break\n",
    "        if break_all:\n",
    "            break\n",
    "    return(rgram, error_chunks)"
   ]
  },
  {
   "cell_type": "code",
   "execution_count": 8,
   "metadata": {},
   "outputs": [
    {
     "data": {
      "text/plain": [
       "'/home/bakirillov/HDD/data/genomes/HumanHG38_dna2vec/chroms/'"
      ]
     },
     "execution_count": 8,
     "metadata": {},
     "output_type": "execute_result"
    }
   ],
   "source": [
    "HG38PATH"
   ]
  },
  {
   "cell_type": "code",
   "execution_count": 9,
   "metadata": {
    "scrolled": true
   },
   "outputs": [
    {
     "name": "stdout",
     "output_type": "stream",
     "text": [
      "0 chr12.fa\n"
     ]
    },
    {
     "name": "stderr",
     "output_type": "stream",
     "text": [
      "\r",
      "0it [00:00, ?it/s]"
     ]
    },
    {
     "name": "stdout",
     "output_type": "stream",
     "text": [
      "Segment #0 of 29: 679\n"
     ]
    },
    {
     "name": "stderr",
     "output_type": "stream",
     "text": [
      "679it [00:19, 34.94it/s]\n",
      "1it [00:00, 1846.90it/s]\n",
      "2it [00:00, 15.02it/s]"
     ]
    },
    {
     "name": "stdout",
     "output_type": "stream",
     "text": [
      "Segment #1 of 29: 1\n",
      "Segment #2 of 29: 28\n"
     ]
    },
    {
     "name": "stderr",
     "output_type": "stream",
     "text": [
      "28it [00:01, 25.37it/s]\n",
      "4it [00:00, 31.44it/s]"
     ]
    },
    {
     "name": "stdout",
     "output_type": "stream",
     "text": [
      "Segment #3 of 29: 2763\n"
     ]
    },
    {
     "name": "stderr",
     "output_type": "stream",
     "text": [
      "2763it [01:05, 41.96it/s]\n",
      "2it [00:00, 30.95it/s]\n",
      "1it [00:00, 20.99it/s]\n",
      "1it [00:00, 120.29it/s]\n",
      "1it [00:00, 207.55it/s]\n",
      "1it [00:00, 134.27it/s]\n",
      "1it [00:00, 131.10it/s]\n",
      "1it [00:00, 26.24it/s]\n",
      "0it [00:00, ?it/s]"
     ]
    },
    {
     "name": "stdout",
     "output_type": "stream",
     "text": [
      "Segment #4 of 29: 2\n",
      "Segment #5 of 29: 1\n",
      "Segment #6 of 29: 1\n",
      "Segment #7 of 29: 1\n",
      "Segment #8 of 29: 1\n",
      "Segment #9 of 29: 1\n",
      "Segment #10 of 29: 1\n",
      "Segment #11 of 29: 182\n"
     ]
    },
    {
     "name": "stderr",
     "output_type": "stream",
     "text": [
      "182it [00:03, 46.04it/s]\n",
      "5it [00:00, 43.37it/s]"
     ]
    },
    {
     "name": "stdout",
     "output_type": "stream",
     "text": [
      "Segment #12 of 29: 10\n"
     ]
    },
    {
     "name": "stderr",
     "output_type": "stream",
     "text": [
      "10it [00:00, 43.06it/s]\n",
      "1it [00:00, 23.88it/s]\n",
      "5it [00:00, 41.36it/s]"
     ]
    },
    {
     "name": "stdout",
     "output_type": "stream",
     "text": [
      "Segment #13 of 29: 1\n",
      "Segment #14 of 29: 16\n"
     ]
    },
    {
     "name": "stderr",
     "output_type": "stream",
     "text": [
      "16it [00:00, 42.37it/s]\n",
      "5it [00:00, 43.53it/s]"
     ]
    },
    {
     "name": "stdout",
     "output_type": "stream",
     "text": [
      "Segment #15 of 29: 21\n"
     ]
    },
    {
     "name": "stderr",
     "output_type": "stream",
     "text": [
      "21it [00:00, 43.78it/s]\n",
      "1it [00:00, 76.01it/s]\n",
      "1it [00:00, 46.85it/s]\n",
      "7it [00:00, 42.91it/s]"
     ]
    },
    {
     "name": "stdout",
     "output_type": "stream",
     "text": [
      "Segment #16 of 29: 1\n",
      "Segment #17 of 29: 1\n",
      "Segment #18 of 29: 7\n"
     ]
    },
    {
     "name": "stderr",
     "output_type": "stream",
     "text": [
      "\n",
      "1it [00:00, 262.14it/s]\n",
      "4it [00:00, 38.90it/s]\n",
      "0it [00:00, ?it/s]"
     ]
    },
    {
     "name": "stdout",
     "output_type": "stream",
     "text": [
      "Segment #19 of 29: 1\n",
      "Segment #20 of 29: 4\n",
      "Segment #21 of 29: 7\n"
     ]
    },
    {
     "name": "stderr",
     "output_type": "stream",
     "text": [
      "7it [00:00, 36.87it/s]\n",
      "5it [00:00, 43.97it/s]"
     ]
    },
    {
     "name": "stdout",
     "output_type": "stream",
     "text": [
      "Segment #22 of 29: 8463\n"
     ]
    },
    {
     "name": "stderr",
     "output_type": "stream",
     "text": [
      "8463it [03:32, 39.74it/s]\n",
      "5it [00:00, 48.51it/s]"
     ]
    },
    {
     "name": "stdout",
     "output_type": "stream",
     "text": [
      "Segment #23 of 29: 135\n"
     ]
    },
    {
     "name": "stderr",
     "output_type": "stream",
     "text": [
      "135it [00:04, 30.16it/s]\n",
      "3it [00:00, 41.79it/s]\n",
      "3it [00:00, 25.72it/s]"
     ]
    },
    {
     "name": "stdout",
     "output_type": "stream",
     "text": [
      "Segment #24 of 29: 3\n",
      "Segment #25 of 29: 874\n"
     ]
    },
    {
     "name": "stderr",
     "output_type": "stream",
     "text": [
      "874it [00:23, 37.12it/s]\n",
      "1it [00:00, 865.16it/s]\n",
      "1it [00:00, 1065.90it/s]\n",
      "2it [00:00, 15.57it/s]"
     ]
    },
    {
     "name": "stdout",
     "output_type": "stream",
     "text": [
      "Segment #26 of 29: 1\n",
      "Segment #27 of 29: 1\n",
      "Segment #28 of 29: 104\n"
     ]
    },
    {
     "name": "stderr",
     "output_type": "stream",
     "text": [
      "104it [00:04, 31.22it/s]\n"
     ]
    },
    {
     "name": "stdout",
     "output_type": "stream",
     "text": [
      "1 chr19.fa\n"
     ]
    },
    {
     "name": "stderr",
     "output_type": "stream",
     "text": [
      "4it [00:00, 36.20it/s]"
     ]
    },
    {
     "name": "stdout",
     "output_type": "stream",
     "text": [
      "Segment #0 of 8: 2438\n"
     ]
    },
    {
     "name": "stderr",
     "output_type": "stream",
     "text": [
      "2438it [01:35, 25.46it/s]\n",
      "5it [00:00, 43.16it/s]\n",
      "0it [00:00, ?it/s]"
     ]
    },
    {
     "name": "stdout",
     "output_type": "stream",
     "text": [
      "Segment #1 of 8: 5\n",
      "Segment #2 of 8: 33\n"
     ]
    },
    {
     "name": "stderr",
     "output_type": "stream",
     "text": [
      "33it [00:00, 44.11it/s]\n",
      "1it [00:00, 99.28it/s]\n",
      "1it [00:00, 158.89it/s]\n",
      "1it [00:00, 104.67it/s]\n",
      "5it [00:00, 46.16it/s]"
     ]
    },
    {
     "name": "stdout",
     "output_type": "stream",
     "text": [
      "Segment #3 of 8: 1\n",
      "Segment #4 of 8: 1\n",
      "Segment #5 of 8: 1\n",
      "Segment #6 of 8: 228\n"
     ]
    },
    {
     "name": "stderr",
     "output_type": "stream",
     "text": [
      "228it [00:04, 46.07it/s]\n",
      "5it [00:00, 46.48it/s]"
     ]
    },
    {
     "name": "stdout",
     "output_type": "stream",
     "text": [
      "Segment #7 of 8: 3136\n"
     ]
    },
    {
     "name": "stderr",
     "output_type": "stream",
     "text": [
      "3136it [01:41, 30.95it/s]\n"
     ]
    },
    {
     "name": "stdout",
     "output_type": "stream",
     "text": [
      "2 chr22.fa\n"
     ]
    },
    {
     "name": "stderr",
     "output_type": "stream",
     "text": [
      "4it [00:00, 38.14it/s]"
     ]
    },
    {
     "name": "stdout",
     "output_type": "stream",
     "text": [
      "Segment #0 of 48: 27\n"
     ]
    },
    {
     "name": "stderr",
     "output_type": "stream",
     "text": [
      "27it [00:00, 41.69it/s]\n",
      "3it [00:00, 20.55it/s]\n",
      "0it [00:00, ?it/s]"
     ]
    },
    {
     "name": "stdout",
     "output_type": "stream",
     "text": [
      "Segment #1 of 48: 3\n",
      "Segment #2 of 48: 4\n"
     ]
    },
    {
     "name": "stderr",
     "output_type": "stream",
     "text": [
      "4it [00:00, 42.43it/s]\n",
      "3it [00:00, 24.72it/s]"
     ]
    },
    {
     "name": "stdout",
     "output_type": "stream",
     "text": [
      "Segment #3 of 48: 5\n"
     ]
    },
    {
     "name": "stderr",
     "output_type": "stream",
     "text": [
      "5it [00:00, 22.60it/s]\n",
      "4it [00:00, 37.79it/s]\n",
      "0it [00:00, ?it/s]"
     ]
    },
    {
     "name": "stdout",
     "output_type": "stream",
     "text": [
      "Segment #4 of 48: 4\n",
      "Segment #5 of 48: 16\n"
     ]
    },
    {
     "name": "stderr",
     "output_type": "stream",
     "text": [
      "16it [00:00, 39.78it/s]\n",
      "6it [00:00, 42.95it/s]\n",
      "0it [00:00, ?it/s]"
     ]
    },
    {
     "name": "stdout",
     "output_type": "stream",
     "text": [
      "Segment #6 of 48: 6\n",
      "Segment #7 of 48: 8\n"
     ]
    },
    {
     "name": "stderr",
     "output_type": "stream",
     "text": [
      "8it [00:00, 30.08it/s]\n",
      "4it [00:00, 29.88it/s]\n",
      "0it [00:00, ?it/s]"
     ]
    },
    {
     "name": "stdout",
     "output_type": "stream",
     "text": [
      "Segment #8 of 48: 4\n",
      "Segment #9 of 48: 20\n"
     ]
    },
    {
     "name": "stderr",
     "output_type": "stream",
     "text": [
      "20it [00:00, 36.60it/s]\n",
      "4it [00:00, 39.64it/s]"
     ]
    },
    {
     "name": "stdout",
     "output_type": "stream",
     "text": [
      "Segment #10 of 48: 19\n"
     ]
    },
    {
     "name": "stderr",
     "output_type": "stream",
     "text": [
      "19it [00:00, 35.93it/s]\n",
      "5it [00:00, 47.75it/s]"
     ]
    },
    {
     "name": "stdout",
     "output_type": "stream",
     "text": [
      "Segment #11 of 48: 16\n"
     ]
    },
    {
     "name": "stderr",
     "output_type": "stream",
     "text": [
      "16it [00:00, 45.35it/s]\n",
      "5it [00:00, 40.28it/s]"
     ]
    },
    {
     "name": "stdout",
     "output_type": "stream",
     "text": [
      "Segment #12 of 48: 15\n"
     ]
    },
    {
     "name": "stderr",
     "output_type": "stream",
     "text": [
      "15it [00:00, 36.79it/s]\n",
      "3it [00:00, 36.17it/s]\n",
      "4it [00:00, 50.31it/s]\n",
      "0it [00:00, ?it/s]"
     ]
    },
    {
     "name": "stdout",
     "output_type": "stream",
     "text": [
      "Segment #13 of 48: 3\n",
      "Segment #14 of 48: 4\n",
      "Segment #15 of 48: 3\n"
     ]
    },
    {
     "name": "stderr",
     "output_type": "stream",
     "text": [
      "3it [00:00, 33.71it/s]\n",
      "2it [00:00, 41.02it/s]\n",
      "1it [00:00, 131.12it/s]\n",
      "1it [00:00, 25.94it/s]\n",
      "1it [00:00, 62.68it/s]\n",
      "0it [00:00, ?it/s]"
     ]
    },
    {
     "name": "stdout",
     "output_type": "stream",
     "text": [
      "Segment #16 of 48: 2\n",
      "Segment #17 of 48: 1\n",
      "Segment #18 of 48: 1\n",
      "Segment #19 of 48: 1\n",
      "Segment #20 of 48: 8\n"
     ]
    },
    {
     "name": "stderr",
     "output_type": "stream",
     "text": [
      "8it [00:00, 42.01it/s]\n",
      "5it [00:00, 42.61it/s]\n",
      "0it [00:00, ?it/s]"
     ]
    },
    {
     "name": "stdout",
     "output_type": "stream",
     "text": [
      "Segment #21 of 48: 5\n",
      "Segment #22 of 48: 6\n"
     ]
    },
    {
     "name": "stderr",
     "output_type": "stream",
     "text": [
      "6it [00:00, 40.05it/s]\n",
      "2it [00:00, 39.07it/s]\n",
      "1it [00:00, 56.35it/s]\n",
      "1it [00:00, 134.68it/s]\n",
      "2it [00:00, 39.38it/s]\n",
      "1it [00:00, 100.80it/s]\n",
      "0it [00:00, ?it/s]"
     ]
    },
    {
     "name": "stdout",
     "output_type": "stream",
     "text": [
      "Segment #23 of 48: 2\n",
      "Segment #24 of 48: 1\n",
      "Segment #25 of 48: 1\n",
      "Segment #26 of 48: 2\n",
      "Segment #27 of 48: 1\n",
      "Segment #28 of 48: 113\n"
     ]
    },
    {
     "name": "stderr",
     "output_type": "stream",
     "text": [
      "113it [00:02, 45.25it/s]\n",
      "1it [00:00, 1417.95it/s]\n",
      "1it [00:00, 1065.36it/s]\n",
      "1it [00:00, 362.95it/s]\n",
      "5it [00:00, 46.07it/s]"
     ]
    },
    {
     "name": "stdout",
     "output_type": "stream",
     "text": [
      "Segment #29 of 48: 1\n",
      "Segment #30 of 48: 1\n",
      "Segment #31 of 48: 1\n",
      "Segment #32 of 48: 63\n"
     ]
    },
    {
     "name": "stderr",
     "output_type": "stream",
     "text": [
      "63it [00:01, 44.35it/s]\n",
      "5it [00:00, 44.41it/s]"
     ]
    },
    {
     "name": "stdout",
     "output_type": "stream",
     "text": [
      "Segment #33 of 48: 112\n"
     ]
    },
    {
     "name": "stderr",
     "output_type": "stream",
     "text": [
      "112it [00:02, 45.40it/s]\n",
      "1it [00:00, 264.47it/s]\n",
      "1it [00:00, 215.70it/s]\n",
      "1it [00:00, 112.60it/s]\n",
      "1it [00:00, 316.15it/s]\n",
      "1it [00:00, 93.49it/s]\n",
      "1it [00:00, 46.25it/s]\n",
      "1it [00:00, 58.05it/s]\n",
      "1it [00:00, 122.71it/s]\n",
      "1it [00:00, 1416.04it/s]\n",
      "0it [00:00, ?it/s]"
     ]
    },
    {
     "name": "stdout",
     "output_type": "stream",
     "text": [
      "Segment #34 of 48: 1\n",
      "Segment #35 of 48: 1\n",
      "Segment #36 of 48: 1\n",
      "Segment #37 of 48: 1\n",
      "Segment #38 of 48: 1\n",
      "Segment #39 of 48: 1\n",
      "Segment #40 of 48: 1\n",
      "Segment #41 of 48: 1\n",
      "Segment #42 of 48: 1\n",
      "Segment #43 of 48: 191\n"
     ]
    },
    {
     "name": "stderr",
     "output_type": "stream",
     "text": [
      "191it [00:05, 34.51it/s]\n",
      "3it [00:00, 29.57it/s]"
     ]
    },
    {
     "name": "stdout",
     "output_type": "stream",
     "text": [
      "Segment #44 of 48: 9\n"
     ]
    },
    {
     "name": "stderr",
     "output_type": "stream",
     "text": [
      "9it [00:00, 36.69it/s]\n",
      "4it [00:00, 24.48it/s]"
     ]
    },
    {
     "name": "stdout",
     "output_type": "stream",
     "text": [
      "Segment #45 of 48: 17\n"
     ]
    },
    {
     "name": "stderr",
     "output_type": "stream",
     "text": [
      "17it [00:00, 19.37it/s]\n",
      "5it [00:00, 47.20it/s]"
     ]
    },
    {
     "name": "stdout",
     "output_type": "stream",
     "text": [
      "Segment #46 of 48: 3126\n"
     ]
    },
    {
     "name": "stderr",
     "output_type": "stream",
     "text": [
      "3126it [01:48, 28.85it/s]\n",
      "4it [00:00, 26.62it/s]"
     ]
    },
    {
     "name": "stdout",
     "output_type": "stream",
     "text": [
      "Segment #47 of 48: 83\n"
     ]
    },
    {
     "name": "stderr",
     "output_type": "stream",
     "text": [
      "83it [00:03, 21.44it/s]\n"
     ]
    },
    {
     "name": "stdout",
     "output_type": "stream",
     "text": [
      "3 chr4.fa\n"
     ]
    },
    {
     "name": "stderr",
     "output_type": "stream",
     "text": [
      "5it [00:00, 45.47it/s]"
     ]
    },
    {
     "name": "stdout",
     "output_type": "stream",
     "text": [
      "Segment #0 of 17: 141\n"
     ]
    },
    {
     "name": "stderr",
     "output_type": "stream",
     "text": [
      "141it [00:04, 28.58it/s]\n",
      "1it [00:00, 323.43it/s]\n",
      "3it [00:00, 28.09it/s]"
     ]
    },
    {
     "name": "stdout",
     "output_type": "stream",
     "text": [
      "Segment #1 of 17: 1\n",
      "Segment #2 of 17: 735\n"
     ]
    },
    {
     "name": "stderr",
     "output_type": "stream",
     "text": [
      "735it [00:26, 18.86it/s]\n",
      "2it [00:00, 19.32it/s]"
     ]
    },
    {
     "name": "stdout",
     "output_type": "stream",
     "text": [
      "Segment #3 of 17: 45\n"
     ]
    },
    {
     "name": "stderr",
     "output_type": "stream",
     "text": [
      "45it [00:01, 31.33it/s]\n",
      "3it [00:00, 24.78it/s]"
     ]
    },
    {
     "name": "stdout",
     "output_type": "stream",
     "text": [
      "Segment #4 of 17: 2249\n"
     ]
    },
    {
     "name": "stderr",
     "output_type": "stream",
     "text": [
      "2249it [00:51, 43.61it/s]\n",
      "1it [00:00, 139.38it/s]\n",
      "5it [00:00, 44.00it/s]"
     ]
    },
    {
     "name": "stdout",
     "output_type": "stream",
     "text": [
      "Segment #5 of 17: 1\n",
      "Segment #6 of 17: 99\n"
     ]
    },
    {
     "name": "stderr",
     "output_type": "stream",
     "text": [
      "99it [00:02, 43.20it/s]\n",
      "5it [00:00, 44.26it/s]"
     ]
    },
    {
     "name": "stdout",
     "output_type": "stream",
     "text": [
      "Segment #7 of 17: 1649\n"
     ]
    },
    {
     "name": "stderr",
     "output_type": "stream",
     "text": [
      "1649it [00:38, 42.56it/s]\n",
      "3it [00:00, 29.40it/s]"
     ]
    },
    {
     "name": "stdout",
     "output_type": "stream",
     "text": [
      "Segment #8 of 17: 17\n"
     ]
    },
    {
     "name": "stderr",
     "output_type": "stream",
     "text": [
      "17it [00:00, 46.02it/s]\n",
      "1it [00:00, 271.55it/s]\n",
      "5it [00:00, 46.26it/s]"
     ]
    },
    {
     "name": "stdout",
     "output_type": "stream",
     "text": [
      "Segment #9 of 17: 1\n",
      "Segment #10 of 17: 76\n"
     ]
    },
    {
     "name": "stderr",
     "output_type": "stream",
     "text": [
      "76it [00:01, 46.19it/s]\n",
      "5it [00:00, 46.45it/s]"
     ]
    },
    {
     "name": "stdout",
     "output_type": "stream",
     "text": [
      "Segment #11 of 17: 63\n"
     ]
    },
    {
     "name": "stderr",
     "output_type": "stream",
     "text": [
      "63it [00:01, 46.36it/s]\n",
      "5it [00:00, 44.85it/s]"
     ]
    },
    {
     "name": "stdout",
     "output_type": "stream",
     "text": [
      "Segment #12 of 17: 31\n"
     ]
    },
    {
     "name": "stderr",
     "output_type": "stream",
     "text": [
      "31it [00:00, 45.71it/s]\n",
      "5it [00:00, 45.63it/s]"
     ]
    },
    {
     "name": "stdout",
     "output_type": "stream",
     "text": [
      "Segment #13 of 17: 32\n"
     ]
    },
    {
     "name": "stderr",
     "output_type": "stream",
     "text": [
      "32it [00:00, 45.69it/s]\n",
      "5it [00:00, 41.64it/s]"
     ]
    },
    {
     "name": "stdout",
     "output_type": "stream",
     "text": [
      "Segment #14 of 17: 708\n"
     ]
    },
    {
     "name": "stderr",
     "output_type": "stream",
     "text": [
      "708it [00:16, 43.40it/s]\n",
      "4it [00:00, 36.78it/s]"
     ]
    },
    {
     "name": "stdout",
     "output_type": "stream",
     "text": [
      "Segment #15 of 17: 13120\n"
     ]
    },
    {
     "name": "stderr",
     "output_type": "stream",
     "text": [
      "13120it [04:59, 43.81it/s]\n",
      "3it [00:00, 54.98it/s]\n"
     ]
    },
    {
     "name": "stdout",
     "output_type": "stream",
     "text": [
      "Chunk raised an exception list index out of range\n",
      "Segment #16 of 17: 3\n",
      "4 chr21.fa\n"
     ]
    },
    {
     "name": "stderr",
     "output_type": "stream",
     "text": [
      "2it [00:00, 11.80it/s]"
     ]
    },
    {
     "name": "stdout",
     "output_type": "stream",
     "text": [
      "Segment #0 of 51: 15\n"
     ]
    },
    {
     "name": "stderr",
     "output_type": "stream",
     "text": [
      "15it [00:00, 16.45it/s]\n",
      "5it [00:00, 47.16it/s]"
     ]
    },
    {
     "name": "stdout",
     "output_type": "stream",
     "text": [
      "Segment #1 of 51: 17\n"
     ]
    },
    {
     "name": "stderr",
     "output_type": "stream",
     "text": [
      "17it [00:00, 45.68it/s]\n",
      "1it [00:00, 82.37it/s]\n",
      "5it [00:00, 45.07it/s]"
     ]
    },
    {
     "name": "stdout",
     "output_type": "stream",
     "text": [
      "Segment #2 of 51: 1\n",
      "Segment #3 of 51: 12\n"
     ]
    },
    {
     "name": "stderr",
     "output_type": "stream",
     "text": [
      "12it [00:00, 43.74it/s]\n",
      "5it [00:00, 43.40it/s]"
     ]
    },
    {
     "name": "stdout",
     "output_type": "stream",
     "text": [
      "Segment #4 of 51: 11\n"
     ]
    },
    {
     "name": "stderr",
     "output_type": "stream",
     "text": [
      "11it [00:00, 37.80it/s]\n",
      "7it [00:00, 37.38it/s]\n",
      "0it [00:00, ?it/s]"
     ]
    },
    {
     "name": "stdout",
     "output_type": "stream",
     "text": [
      "Segment #5 of 51: 7\n",
      "Segment #6 of 51: 19\n"
     ]
    },
    {
     "name": "stderr",
     "output_type": "stream",
     "text": [
      "19it [00:00, 32.12it/s]\n",
      "6it [00:00, 49.05it/s]"
     ]
    },
    {
     "name": "stdout",
     "output_type": "stream",
     "text": [
      "Segment #7 of 51: 16\n"
     ]
    },
    {
     "name": "stderr",
     "output_type": "stream",
     "text": [
      "16it [00:00, 47.67it/s]\n",
      "4it [00:00, 26.54it/s]"
     ]
    },
    {
     "name": "stdout",
     "output_type": "stream",
     "text": [
      "Segment #8 of 51: 15\n"
     ]
    },
    {
     "name": "stderr",
     "output_type": "stream",
     "text": [
      "15it [00:00, 30.60it/s]\n",
      "5it [00:00, 42.63it/s]"
     ]
    },
    {
     "name": "stdout",
     "output_type": "stream",
     "text": [
      "Segment #9 of 51: 10\n"
     ]
    },
    {
     "name": "stderr",
     "output_type": "stream",
     "text": [
      "10it [00:00, 43.23it/s]\n",
      "5it [00:00, 47.04it/s]"
     ]
    },
    {
     "name": "stdout",
     "output_type": "stream",
     "text": [
      "Segment #10 of 51: 14\n"
     ]
    },
    {
     "name": "stderr",
     "output_type": "stream",
     "text": [
      "14it [00:00, 43.16it/s]\n",
      "5it [00:00, 44.14it/s]"
     ]
    },
    {
     "name": "stdout",
     "output_type": "stream",
     "text": [
      "Segment #11 of 51: 16\n"
     ]
    },
    {
     "name": "stderr",
     "output_type": "stream",
     "text": [
      "16it [00:00, 39.61it/s]\n",
      "5it [00:00, 43.99it/s]"
     ]
    },
    {
     "name": "stdout",
     "output_type": "stream",
     "text": [
      "Segment #12 of 51: 12\n"
     ]
    },
    {
     "name": "stderr",
     "output_type": "stream",
     "text": [
      "12it [00:00, 44.56it/s]\n",
      "5it [00:00, 47.94it/s]"
     ]
    },
    {
     "name": "stdout",
     "output_type": "stream",
     "text": [
      "Segment #13 of 51: 12\n"
     ]
    },
    {
     "name": "stderr",
     "output_type": "stream",
     "text": [
      "12it [00:00, 43.88it/s]\n",
      "4it [00:00, 38.89it/s]"
     ]
    },
    {
     "name": "stdout",
     "output_type": "stream",
     "text": [
      "Segment #14 of 51: 14\n"
     ]
    },
    {
     "name": "stderr",
     "output_type": "stream",
     "text": [
      "14it [00:00, 42.83it/s]\n",
      "4it [00:00, 37.15it/s]"
     ]
    },
    {
     "name": "stdout",
     "output_type": "stream",
     "text": [
      "Segment #15 of 51: 12\n"
     ]
    },
    {
     "name": "stderr",
     "output_type": "stream",
     "text": [
      "12it [00:00, 41.51it/s]\n",
      "4it [00:00, 37.15it/s]"
     ]
    },
    {
     "name": "stdout",
     "output_type": "stream",
     "text": [
      "Segment #16 of 51: 13\n"
     ]
    },
    {
     "name": "stderr",
     "output_type": "stream",
     "text": [
      "13it [00:00, 42.02it/s]\n",
      "5it [00:00, 42.64it/s]"
     ]
    },
    {
     "name": "stdout",
     "output_type": "stream",
     "text": [
      "Segment #17 of 51: 11\n"
     ]
    },
    {
     "name": "stderr",
     "output_type": "stream",
     "text": [
      "11it [00:00, 35.99it/s]\n",
      "4it [00:00, 32.07it/s]\n",
      "0it [00:00, ?it/s]"
     ]
    },
    {
     "name": "stdout",
     "output_type": "stream",
     "text": [
      "Segment #18 of 51: 4\n",
      "Segment #19 of 51: 16\n"
     ]
    },
    {
     "name": "stderr",
     "output_type": "stream",
     "text": [
      "16it [00:00, 32.01it/s]\n",
      "4it [00:00, 39.93it/s]"
     ]
    },
    {
     "name": "stdout",
     "output_type": "stream",
     "text": [
      "Segment #20 of 51: 18\n"
     ]
    },
    {
     "name": "stderr",
     "output_type": "stream",
     "text": [
      "18it [00:00, 41.53it/s]\n",
      "4it [00:00, 36.47it/s]"
     ]
    },
    {
     "name": "stdout",
     "output_type": "stream",
     "text": [
      "Segment #21 of 51: 12\n"
     ]
    },
    {
     "name": "stderr",
     "output_type": "stream",
     "text": [
      "12it [00:00, 35.24it/s]\n",
      "3it [00:00, 24.16it/s]"
     ]
    },
    {
     "name": "stdout",
     "output_type": "stream",
     "text": [
      "Segment #22 of 51: 20\n"
     ]
    },
    {
     "name": "stderr",
     "output_type": "stream",
     "text": [
      "20it [00:00, 36.62it/s]\n",
      "5it [00:00, 46.24it/s]"
     ]
    },
    {
     "name": "stdout",
     "output_type": "stream",
     "text": [
      "Segment #23 of 51: 13\n"
     ]
    },
    {
     "name": "stderr",
     "output_type": "stream",
     "text": [
      "13it [00:00, 48.05it/s]\n",
      "6it [00:00, 51.35it/s]"
     ]
    },
    {
     "name": "stdout",
     "output_type": "stream",
     "text": [
      "Segment #24 of 51: 64\n"
     ]
    },
    {
     "name": "stderr",
     "output_type": "stream",
     "text": [
      "64it [00:01, 39.42it/s]\n",
      "1it [00:00, 40.40it/s]\n",
      "4it [00:00, 38.54it/s]"
     ]
    },
    {
     "name": "stdout",
     "output_type": "stream",
     "text": [
      "Segment #25 of 51: 1\n",
      "Segment #26 of 51: 49\n"
     ]
    },
    {
     "name": "stderr",
     "output_type": "stream",
     "text": [
      "49it [00:01, 43.81it/s]\n",
      "2it [00:00, 39.84it/s]\n",
      "5it [00:00, 42.29it/s]"
     ]
    },
    {
     "name": "stdout",
     "output_type": "stream",
     "text": [
      "Segment #27 of 51: 2\n",
      "Segment #28 of 51: 8\n"
     ]
    },
    {
     "name": "stderr",
     "output_type": "stream",
     "text": [
      "8it [00:00, 42.05it/s]\n",
      "5it [00:00, 42.77it/s]\n",
      "0it [00:00, ?it/s]"
     ]
    },
    {
     "name": "stdout",
     "output_type": "stream",
     "text": [
      "Segment #29 of 51: 5\n",
      "Segment #30 of 51: 6\n"
     ]
    },
    {
     "name": "stderr",
     "output_type": "stream",
     "text": [
      "6it [00:00, 43.73it/s]\n",
      "2it [00:00, 44.42it/s]\n",
      "1it [00:00, 67.96it/s]\n",
      "1it [00:00, 135.04it/s]\n",
      "2it [00:00, 41.11it/s]\n",
      "0it [00:00, ?it/s]"
     ]
    },
    {
     "name": "stdout",
     "output_type": "stream",
     "text": [
      "Segment #31 of 51: 2\n",
      "Segment #32 of 51: 1\n",
      "Segment #33 of 51: 1\n",
      "Segment #34 of 51: 2\n",
      "Segment #35 of 51: 113\n"
     ]
    },
    {
     "name": "stderr",
     "output_type": "stream",
     "text": [
      "113it [00:02, 45.90it/s]\n",
      "1it [00:00, 1206.99it/s]\n",
      "1it [00:00, 956.73it/s]\n",
      "1it [00:00, 324.11it/s]\n",
      "5it [00:00, 45.31it/s]"
     ]
    },
    {
     "name": "stdout",
     "output_type": "stream",
     "text": [
      "Segment #36 of 51: 1\n",
      "Segment #37 of 51: 1\n",
      "Segment #38 of 51: 1\n",
      "Segment #39 of 51: 63\n"
     ]
    },
    {
     "name": "stderr",
     "output_type": "stream",
     "text": [
      "63it [00:01, 46.04it/s]\n",
      "5it [00:00, 46.53it/s]"
     ]
    },
    {
     "name": "stdout",
     "output_type": "stream",
     "text": [
      "Segment #40 of 51: 1881\n"
     ]
    },
    {
     "name": "stderr",
     "output_type": "stream",
     "text": [
      "1881it [00:43, 36.94it/s]\n",
      "1it [00:00, 1718.27it/s]\n",
      "5it [00:00, 48.53it/s]"
     ]
    },
    {
     "name": "stdout",
     "output_type": "stream",
     "text": [
      "Segment #41 of 51: 1\n",
      "Segment #42 of 51: 712\n"
     ]
    },
    {
     "name": "stderr",
     "output_type": "stream",
     "text": [
      "712it [00:17, 35.43it/s]\n",
      "3it [00:00, 26.62it/s]"
     ]
    },
    {
     "name": "stdout",
     "output_type": "stream",
     "text": [
      "Segment #43 of 51: 267\n"
     ]
    },
    {
     "name": "stderr",
     "output_type": "stream",
     "text": [
      "267it [00:06, 40.82it/s]\n",
      "3it [00:00, 22.49it/s]"
     ]
    },
    {
     "name": "stdout",
     "output_type": "stream",
     "text": [
      "Segment #44 of 51: 24\n"
     ]
    },
    {
     "name": "stderr",
     "output_type": "stream",
     "text": [
      "24it [00:00, 25.45it/s]\n",
      "1it [00:00, 542.25it/s]\n",
      "1it [00:00, 1069.70it/s]\n",
      "3it [00:00, 20.38it/s]"
     ]
    },
    {
     "name": "stdout",
     "output_type": "stream",
     "text": [
      "Segment #45 of 51: 1\n",
      "Segment #46 of 51: 1\n",
      "Segment #47 of 51: 78\n"
     ]
    },
    {
     "name": "stderr",
     "output_type": "stream",
     "text": [
      "78it [00:02, 28.98it/s]\n",
      "4it [00:00, 23.99it/s]"
     ]
    },
    {
     "name": "stdout",
     "output_type": "stream",
     "text": [
      "Segment #48 of 51: 59\n"
     ]
    },
    {
     "name": "stderr",
     "output_type": "stream",
     "text": [
      "59it [00:01, 30.95it/s]\n",
      "2it [00:00, 15.69it/s]"
     ]
    },
    {
     "name": "stdout",
     "output_type": "stream",
     "text": [
      "Segment #49 of 51: 20\n"
     ]
    },
    {
     "name": "stderr",
     "output_type": "stream",
     "text": [
      "20it [00:01, 18.56it/s]\n",
      "2it [00:00, 15.94it/s]"
     ]
    },
    {
     "name": "stdout",
     "output_type": "stream",
     "text": [
      "Segment #50 of 51: 323\n"
     ]
    },
    {
     "name": "stderr",
     "output_type": "stream",
     "text": [
      "323it [00:11, 27.68it/s]\n"
     ]
    },
    {
     "name": "stdout",
     "output_type": "stream",
     "text": [
      "5 chr3.fa\n"
     ]
    },
    {
     "name": "stderr",
     "output_type": "stream",
     "text": [
      "5it [00:00, 43.76it/s]"
     ]
    },
    {
     "name": "stdout",
     "output_type": "stream",
     "text": [
      "Segment #0 of 28: 1680\n"
     ]
    },
    {
     "name": "stderr",
     "output_type": "stream",
     "text": [
      "1680it [00:43, 38.82it/s]\n",
      "1it [00:00, 181.62it/s]\n",
      "7it [00:00, 38.05it/s]\n",
      "1it [00:00, 53.33it/s]"
     ]
    },
    {
     "name": "stdout",
     "output_type": "stream",
     "text": [
      "Segment #1 of 28: 1\n",
      "Segment #2 of 28: 7\n",
      "Segment #3 of 28: 1\n"
     ]
    },
    {
     "name": "stderr",
     "output_type": "stream",
     "text": [
      "\n",
      "5it [00:00, 45.80it/s]"
     ]
    },
    {
     "name": "stdout",
     "output_type": "stream",
     "text": [
      "Segment #4 of 28: 4321\n"
     ]
    },
    {
     "name": "stderr",
     "output_type": "stream",
     "text": [
      "4321it [01:50, 39.17it/s]\n",
      "4it [00:00, 38.47it/s]"
     ]
    },
    {
     "name": "stdout",
     "output_type": "stream",
     "text": [
      "Segment #5 of 28: 8\n"
     ]
    },
    {
     "name": "stderr",
     "output_type": "stream",
     "text": [
      "8it [00:00, 37.97it/s]\n",
      "3it [00:00, 29.84it/s]"
     ]
    },
    {
     "name": "stdout",
     "output_type": "stream",
     "text": [
      "Segment #6 of 28: 598\n"
     ]
    },
    {
     "name": "stderr",
     "output_type": "stream",
     "text": [
      "598it [00:14, 42.24it/s]\n",
      "1it [00:00, 60.22it/s]\n",
      "5it [00:00, 42.54it/s]"
     ]
    },
    {
     "name": "stdout",
     "output_type": "stream",
     "text": [
      "Segment #7 of 28: 1\n",
      "Segment #8 of 28: 2435\n"
     ]
    },
    {
     "name": "stderr",
     "output_type": "stream",
     "text": [
      "2435it [00:56, 43.43it/s]\n",
      "1it [00:00, 918.59it/s]\n",
      "1it [00:00, 30.09it/s]\n",
      "5it [00:00, 41.82it/s]"
     ]
    },
    {
     "name": "stdout",
     "output_type": "stream",
     "text": [
      "Segment #9 of 28: 1\n",
      "Segment #10 of 28: 1\n",
      "Segment #11 of 28: 13\n"
     ]
    },
    {
     "name": "stderr",
     "output_type": "stream",
     "text": [
      "13it [00:00, 40.36it/s]\n",
      "2it [00:00, 40.44it/s]\n",
      "5it [00:00, 46.99it/s]"
     ]
    },
    {
     "name": "stdout",
     "output_type": "stream",
     "text": [
      "Segment #12 of 28: 2\n",
      "Segment #13 of 28: 46\n"
     ]
    },
    {
     "name": "stderr",
     "output_type": "stream",
     "text": [
      "46it [00:00, 46.54it/s]\n",
      "1it [00:00, 33.24it/s]\n",
      "1it [00:00, 203.52it/s]\n",
      "1it [00:00, 237.19it/s]\n",
      "1it [00:00, 88.24it/s]\n",
      "1it [00:00, 69.59it/s]\n",
      "1it [00:00, 55.17it/s]\n",
      "4it [00:00, 38.19it/s]"
     ]
    },
    {
     "name": "stdout",
     "output_type": "stream",
     "text": [
      "Segment #14 of 28: 1\n",
      "Segment #15 of 28: 1\n",
      "Segment #16 of 28: 1\n",
      "Segment #17 of 28: 1\n",
      "Segment #18 of 28: 1\n",
      "Segment #19 of 28: 1\n",
      "Segment #20 of 28: 5\n"
     ]
    },
    {
     "name": "stderr",
     "output_type": "stream",
     "text": [
      "5it [00:00, 40.98it/s]\n",
      "1it [00:00, 23.33it/s]\n",
      "5it [00:00, 35.59it/s]"
     ]
    },
    {
     "name": "stdout",
     "output_type": "stream",
     "text": [
      "Segment #21 of 28: 1\n",
      "Segment #22 of 28: 7\n"
     ]
    },
    {
     "name": "stderr",
     "output_type": "stream",
     "text": [
      "7it [00:00, 32.33it/s]\n",
      "4it [00:00, 38.50it/s]"
     ]
    },
    {
     "name": "stdout",
     "output_type": "stream",
     "text": [
      "Segment #23 of 28: 11\n"
     ]
    },
    {
     "name": "stderr",
     "output_type": "stream",
     "text": [
      "11it [00:00, 39.89it/s]\n",
      "5it [00:00, 45.58it/s]"
     ]
    },
    {
     "name": "stdout",
     "output_type": "stream",
     "text": [
      "Segment #24 of 28: 33\n"
     ]
    },
    {
     "name": "stderr",
     "output_type": "stream",
     "text": [
      "33it [00:00, 45.74it/s]\n",
      "5it [00:00, 46.44it/s]"
     ]
    },
    {
     "name": "stdout",
     "output_type": "stream",
     "text": [
      "Segment #25 of 28: 157\n"
     ]
    },
    {
     "name": "stderr",
     "output_type": "stream",
     "text": [
      "157it [00:03, 46.59it/s]\n",
      "5it [00:00, 45.60it/s]"
     ]
    },
    {
     "name": "stdout",
     "output_type": "stream",
     "text": [
      "Segment #26 of 28: 18\n"
     ]
    },
    {
     "name": "stderr",
     "output_type": "stream",
     "text": [
      "18it [00:00, 45.59it/s]\n",
      "5it [00:00, 44.50it/s]"
     ]
    },
    {
     "name": "stdout",
     "output_type": "stream",
     "text": [
      "Segment #27 of 28: 10452\n"
     ]
    },
    {
     "name": "stderr",
     "output_type": "stream",
     "text": [
      "10452it [04:07, 42.20it/s]\n"
     ]
    },
    {
     "name": "stdout",
     "output_type": "stream",
     "text": [
      "6 chr6.fa\n"
     ]
    },
    {
     "name": "stderr",
     "output_type": "stream",
     "text": [
      "4it [00:00, 38.83it/s]"
     ]
    },
    {
     "name": "stdout",
     "output_type": "stream",
     "text": [
      "Segment #0 of 15: 5839\n"
     ]
    },
    {
     "name": "stderr",
     "output_type": "stream",
     "text": [
      "5839it [02:31, 38.66it/s]\n",
      "5it [00:00, 45.73it/s]"
     ]
    },
    {
     "name": "stdout",
     "output_type": "stream",
     "text": [
      "Segment #1 of 15: 88\n"
     ]
    },
    {
     "name": "stderr",
     "output_type": "stream",
     "text": [
      "88it [00:01, 45.63it/s]\n",
      "5it [00:00, 44.53it/s]"
     ]
    },
    {
     "name": "stdout",
     "output_type": "stream",
     "text": [
      "Segment #2 of 15: 37\n"
     ]
    },
    {
     "name": "stderr",
     "output_type": "stream",
     "text": [
      "37it [00:00, 44.67it/s]\n",
      "1it [00:00, 42.02it/s]\n",
      "5it [00:00, 45.60it/s]"
     ]
    },
    {
     "name": "stdout",
     "output_type": "stream",
     "text": [
      "Segment #3 of 15: 1\n",
      "Segment #4 of 15: 112\n"
     ]
    },
    {
     "name": "stderr",
     "output_type": "stream",
     "text": [
      "112it [00:02, 41.72it/s]\n",
      "1it [00:00, 127.02it/s]\n",
      "1it [00:00, 105.59it/s]\n",
      "1it [00:00, 62.73it/s]\n",
      "1it [00:00, 143.02it/s]\n",
      "1it [00:00, 36.38it/s]\n",
      "1it [00:00, 103.66it/s]\n",
      "5it [00:00, 45.70it/s]"
     ]
    },
    {
     "name": "stdout",
     "output_type": "stream",
     "text": [
      "Segment #5 of 15: 1\n",
      "Segment #6 of 15: 1\n",
      "Segment #7 of 15: 1\n",
      "Segment #8 of 15: 1\n",
      "Segment #9 of 15: 1\n",
      "Segment #10 of 15: 1\n",
      "Segment #11 of 15: 3362\n"
     ]
    },
    {
     "name": "stderr",
     "output_type": "stream",
     "text": [
      "3362it [01:17, 42.10it/s]\n",
      "5it [00:00, 46.22it/s]"
     ]
    },
    {
     "name": "stdout",
     "output_type": "stream",
     "text": [
      "Segment #12 of 15: 2014\n"
     ]
    },
    {
     "name": "stderr",
     "output_type": "stream",
     "text": [
      "2014it [00:47, 42.79it/s]\n",
      "4it [00:00, 38.66it/s]"
     ]
    },
    {
     "name": "stdout",
     "output_type": "stream",
     "text": [
      "Segment #13 of 15: 5237\n"
     ]
    },
    {
     "name": "stderr",
     "output_type": "stream",
     "text": [
      "5237it [02:02, 42.80it/s]\n",
      "4it [00:00, 34.51it/s]"
     ]
    },
    {
     "name": "stdout",
     "output_type": "stream",
     "text": [
      "Segment #14 of 15: 310\n"
     ]
    },
    {
     "name": "stderr",
     "output_type": "stream",
     "text": [
      "310it [00:08, 42.28it/s]\n"
     ]
    },
    {
     "name": "stdout",
     "output_type": "stream",
     "text": [
      "7 chr9.fa\n"
     ]
    },
    {
     "name": "stderr",
     "output_type": "stream",
     "text": [
      "1it [00:00,  5.44it/s]"
     ]
    },
    {
     "name": "stdout",
     "output_type": "stream",
     "text": [
      "Segment #0 of 45: 4051\n"
     ]
    },
    {
     "name": "stderr",
     "output_type": "stream",
     "text": [
      "4051it [01:36, 42.01it/s]\n",
      "1it [00:00, 59.49it/s]\n",
      "1it [00:00, 44.24it/s]\n",
      "1it [00:00, 31.36it/s]\n",
      "4it [00:00, 32.86it/s]"
     ]
    },
    {
     "name": "stdout",
     "output_type": "stream",
     "text": [
      "Segment #1 of 45: 1\n",
      "Segment #2 of 45: 1\n",
      "Segment #3 of 45: 1\n",
      "Segment #4 of 45: 66\n"
     ]
    },
    {
     "name": "stderr",
     "output_type": "stream",
     "text": [
      "66it [00:01, 37.32it/s]\n",
      "1it [00:00, 128.22it/s]\n",
      "5it [00:00, 45.32it/s]"
     ]
    },
    {
     "name": "stdout",
     "output_type": "stream",
     "text": [
      "Segment #5 of 45: 1\n",
      "Segment #6 of 45: 198\n"
     ]
    },
    {
     "name": "stderr",
     "output_type": "stream",
     "text": [
      "198it [00:04, 41.91it/s]\n",
      "1it [00:00, 101.83it/s]\n",
      "1it [00:00, 32.73it/s]\n",
      "1it [00:00, 48.45it/s]\n",
      "1it [00:00, 90.93it/s]\n",
      "1it [00:00, 268.40it/s]\n",
      "1it [00:00, 710.54it/s]\n",
      "1it [00:00, 45.79it/s]\n",
      "0it [00:00, ?it/s]"
     ]
    },
    {
     "name": "stdout",
     "output_type": "stream",
     "text": [
      "Segment #7 of 45: 1\n",
      "Segment #8 of 45: 1\n",
      "Segment #9 of 45: 1\n",
      "Segment #10 of 45: 1\n",
      "Segment #11 of 45: 1\n",
      "Segment #12 of 45: 1\n",
      "Segment #13 of 45: 1\n",
      "Segment #14 of 45: 4\n"
     ]
    },
    {
     "name": "stderr",
     "output_type": "stream",
     "text": [
      "4it [00:00, 30.43it/s]\n",
      "3it [00:00, 34.73it/s]\n",
      "1it [00:00, 72.43it/s]\n",
      "1it [00:00, 61.88it/s]\n",
      "0it [00:00, ?it/s]"
     ]
    },
    {
     "name": "stdout",
     "output_type": "stream",
     "text": [
      "Segment #15 of 45: 3\n",
      "Segment #16 of 45: 1\n",
      "Segment #17 of 45: 1\n",
      "Segment #18 of 45: 146\n"
     ]
    },
    {
     "name": "stderr",
     "output_type": "stream",
     "text": [
      "146it [00:03, 45.95it/s]\n",
      "5it [00:00, 45.92it/s]"
     ]
    },
    {
     "name": "stdout",
     "output_type": "stream",
     "text": [
      "Segment #19 of 45: 66\n"
     ]
    },
    {
     "name": "stderr",
     "output_type": "stream",
     "text": [
      "66it [00:01, 45.40it/s]\n",
      "4it [00:00, 34.94it/s]"
     ]
    },
    {
     "name": "stdout",
     "output_type": "stream",
     "text": [
      "Segment #20 of 45: 16\n"
     ]
    },
    {
     "name": "stderr",
     "output_type": "stream",
     "text": [
      "16it [00:00, 40.81it/s]\n",
      "4it [00:00, 44.24it/s]\n",
      "0it [00:00, ?it/s]"
     ]
    },
    {
     "name": "stdout",
     "output_type": "stream",
     "text": [
      "Segment #21 of 45: 4\n",
      "Segment #22 of 45: 17\n"
     ]
    },
    {
     "name": "stderr",
     "output_type": "stream",
     "text": [
      "17it [00:00, 38.55it/s]\n",
      "5it [00:00, 41.30it/s]"
     ]
    },
    {
     "name": "stdout",
     "output_type": "stream",
     "text": [
      "Segment #23 of 45: 17\n"
     ]
    },
    {
     "name": "stderr",
     "output_type": "stream",
     "text": [
      "17it [00:00, 43.66it/s]\n",
      "5it [00:00, 42.19it/s]"
     ]
    },
    {
     "name": "stdout",
     "output_type": "stream",
     "text": [
      "Segment #24 of 45: 18\n"
     ]
    },
    {
     "name": "stderr",
     "output_type": "stream",
     "text": [
      "18it [00:00, 43.57it/s]\n",
      "4it [00:00, 30.25it/s]"
     ]
    },
    {
     "name": "stdout",
     "output_type": "stream",
     "text": [
      "Segment #25 of 45: 21\n"
     ]
    },
    {
     "name": "stderr",
     "output_type": "stream",
     "text": [
      "21it [00:00, 30.87it/s]\n",
      "5it [00:00, 45.18it/s]"
     ]
    },
    {
     "name": "stdout",
     "output_type": "stream",
     "text": [
      "Segment #26 of 45: 36\n"
     ]
    },
    {
     "name": "stderr",
     "output_type": "stream",
     "text": [
      "36it [00:00, 40.05it/s]\n",
      "5it [00:00, 42.82it/s]"
     ]
    },
    {
     "name": "stdout",
     "output_type": "stream",
     "text": [
      "Segment #27 of 45: 49\n"
     ]
    },
    {
     "name": "stderr",
     "output_type": "stream",
     "text": [
      "49it [00:01, 43.97it/s]\n",
      "5it [00:00, 45.81it/s]"
     ]
    },
    {
     "name": "stdout",
     "output_type": "stream",
     "text": [
      "Segment #28 of 45: 15\n"
     ]
    },
    {
     "name": "stderr",
     "output_type": "stream",
     "text": [
      "15it [00:00, 45.12it/s]\n",
      "4it [00:00, 35.84it/s]"
     ]
    },
    {
     "name": "stdout",
     "output_type": "stream",
     "text": [
      "Segment #29 of 45: 19\n"
     ]
    },
    {
     "name": "stderr",
     "output_type": "stream",
     "text": [
      "19it [00:00, 36.36it/s]\n",
      "4it [00:00, 38.58it/s]"
     ]
    },
    {
     "name": "stdout",
     "output_type": "stream",
     "text": [
      "Segment #30 of 45: 23\n"
     ]
    },
    {
     "name": "stderr",
     "output_type": "stream",
     "text": [
      "23it [00:00, 39.22it/s]\n",
      "5it [00:00, 44.27it/s]"
     ]
    },
    {
     "name": "stdout",
     "output_type": "stream",
     "text": [
      "Segment #31 of 45: 37\n"
     ]
    },
    {
     "name": "stderr",
     "output_type": "stream",
     "text": [
      "37it [00:00, 40.57it/s]\n",
      "5it [00:00, 41.23it/s]"
     ]
    },
    {
     "name": "stdout",
     "output_type": "stream",
     "text": [
      "Segment #32 of 45: 16\n"
     ]
    },
    {
     "name": "stderr",
     "output_type": "stream",
     "text": [
      "16it [00:00, 40.57it/s]\n",
      "3it [00:00, 44.92it/s]\n",
      "5it [00:00, 45.42it/s]"
     ]
    },
    {
     "name": "stdout",
     "output_type": "stream",
     "text": [
      "Segment #33 of 45: 3\n",
      "Segment #34 of 45: 68\n"
     ]
    },
    {
     "name": "stderr",
     "output_type": "stream",
     "text": [
      "68it [00:01, 43.62it/s]\n",
      "3it [00:00, 42.28it/s]\n",
      "6it [00:00, 49.17it/s]"
     ]
    },
    {
     "name": "stdout",
     "output_type": "stream",
     "text": [
      "Segment #35 of 45: 3\n",
      "Segment #36 of 45: 19\n"
     ]
    },
    {
     "name": "stderr",
     "output_type": "stream",
     "text": [
      "19it [00:00, 47.46it/s]\n",
      "3it [00:00, 18.35it/s]"
     ]
    },
    {
     "name": "stdout",
     "output_type": "stream",
     "text": [
      "Segment #37 of 45: 22\n"
     ]
    },
    {
     "name": "stderr",
     "output_type": "stream",
     "text": [
      "22it [00:00, 27.88it/s]\n",
      "5it [00:00, 45.17it/s]"
     ]
    },
    {
     "name": "stdout",
     "output_type": "stream",
     "text": [
      "Segment #38 of 45: 74\n"
     ]
    },
    {
     "name": "stderr",
     "output_type": "stream",
     "text": [
      "74it [00:01, 41.80it/s]\n",
      "5it [00:00, 44.32it/s]"
     ]
    },
    {
     "name": "stdout",
     "output_type": "stream",
     "text": [
      "Segment #39 of 45: 132\n"
     ]
    },
    {
     "name": "stderr",
     "output_type": "stream",
     "text": [
      "132it [00:03, 43.18it/s]\n",
      "5it [00:00, 45.64it/s]"
     ]
    },
    {
     "name": "stdout",
     "output_type": "stream",
     "text": [
      "Segment #40 of 45: 2166\n"
     ]
    },
    {
     "name": "stderr",
     "output_type": "stream",
     "text": [
      "2166it [00:50, 43.04it/s]\n",
      "1it [00:00, 1607.63it/s]\n",
      "1it [00:00, 1047.53it/s]\n",
      "6it [00:00, 57.25it/s]"
     ]
    },
    {
     "name": "stdout",
     "output_type": "stream",
     "text": [
      "Segment #41 of 45: 1\n",
      "Segment #42 of 45: 1\n",
      "Segment #43 of 45: 4429\n"
     ]
    },
    {
     "name": "stderr",
     "output_type": "stream",
     "text": [
      "4429it [02:04, 21.48it/s]\n",
      "3it [00:00, 18.55it/s]"
     ]
    },
    {
     "name": "stdout",
     "output_type": "stream",
     "text": [
      "Segment #44 of 45: 414\n"
     ]
    },
    {
     "name": "stderr",
     "output_type": "stream",
     "text": [
      "414it [00:21, 19.68it/s]\n"
     ]
    },
    {
     "name": "stdout",
     "output_type": "stream",
     "text": [
      "8 chr8.fa\n"
     ]
    },
    {
     "name": "stderr",
     "output_type": "stream",
     "text": [
      "3it [00:00, 21.75it/s]"
     ]
    },
    {
     "name": "stdout",
     "output_type": "stream",
     "text": [
      "Segment #0 of 11: 755\n"
     ]
    },
    {
     "name": "stderr",
     "output_type": "stream",
     "text": [
      "755it [00:17, 34.80it/s]\n",
      "2it [00:00, 18.54it/s]"
     ]
    },
    {
     "name": "stdout",
     "output_type": "stream",
     "text": [
      "Segment #1 of 11: 456\n"
     ]
    },
    {
     "name": "stderr",
     "output_type": "stream",
     "text": [
      "456it [00:12, 33.08it/s]\n",
      "4it [00:00, 38.17it/s]"
     ]
    },
    {
     "name": "stdout",
     "output_type": "stream",
     "text": [
      "Segment #2 of 11: 3169\n"
     ]
    },
    {
     "name": "stderr",
     "output_type": "stream",
     "text": [
      "3169it [01:19, 45.24it/s]\n",
      "5it [00:00, 44.79it/s]"
     ]
    },
    {
     "name": "stdout",
     "output_type": "stream",
     "text": [
      "Segment #3 of 11: 19\n"
     ]
    },
    {
     "name": "stderr",
     "output_type": "stream",
     "text": [
      "19it [00:00, 44.58it/s]\n",
      "5it [00:00, 45.30it/s]"
     ]
    },
    {
     "name": "stdout",
     "output_type": "stream",
     "text": [
      "Segment #4 of 11: 96\n"
     ]
    },
    {
     "name": "stderr",
     "output_type": "stream",
     "text": [
      "96it [00:02, 45.70it/s]\n",
      "5it [00:00, 43.41it/s]"
     ]
    },
    {
     "name": "stdout",
     "output_type": "stream",
     "text": [
      "Segment #5 of 11: 14\n"
     ]
    },
    {
     "name": "stderr",
     "output_type": "stream",
     "text": [
      "14it [00:00, 41.90it/s]\n",
      "5it [00:00, 41.60it/s]"
     ]
    },
    {
     "name": "stdout",
     "output_type": "stream",
     "text": [
      "Segment #6 of 11: 15\n"
     ]
    },
    {
     "name": "stderr",
     "output_type": "stream",
     "text": [
      "15it [00:00, 41.72it/s]\n",
      "5it [00:00, 45.44it/s]"
     ]
    },
    {
     "name": "stdout",
     "output_type": "stream",
     "text": [
      "Segment #7 of 11: 36\n"
     ]
    },
    {
     "name": "stderr",
     "output_type": "stream",
     "text": [
      "36it [00:00, 45.56it/s]\n",
      "1it [00:00, 35.04it/s]\n",
      "5it [00:00, 46.01it/s]"
     ]
    },
    {
     "name": "stdout",
     "output_type": "stream",
     "text": [
      "Segment #8 of 11: 1\n",
      "Segment #9 of 11: 3973\n"
     ]
    },
    {
     "name": "stderr",
     "output_type": "stream",
     "text": [
      "3973it [01:32, 42.99it/s]\n",
      "4it [00:00, 33.13it/s]"
     ]
    },
    {
     "name": "stdout",
     "output_type": "stream",
     "text": [
      "Segment #10 of 11: 5936\n"
     ]
    },
    {
     "name": "stderr",
     "output_type": "stream",
     "text": [
      "5936it [02:31, 39.21it/s]\n"
     ]
    },
    {
     "name": "stdout",
     "output_type": "stream",
     "text": [
      "9 chrY.fa\n"
     ]
    },
    {
     "name": "stderr",
     "output_type": "stream",
     "text": [
      "3it [00:00, 26.17it/s]\n",
      "3it [00:00, 50.20it/s]\n",
      "1it [00:00, 649.17it/s]\n",
      "1it [00:00, 1970.08it/s]\n",
      "1it [00:00, 956.29it/s]\n",
      "1it [00:00, 4650.00it/s]\n",
      "1it [00:00, 4481.09it/s]\n",
      "0it [00:00, ?it/s]"
     ]
    },
    {
     "name": "stdout",
     "output_type": "stream",
     "text": [
      "Segment #0 of 60: 3\n",
      "Segment #1 of 60: 3\n",
      "Segment #2 of 60: 1\n",
      "Segment #3 of 60: 1\n",
      "Segment #4 of 60: 1\n",
      "Segment #5 of 60: 1\n",
      "Segment #6 of 60: 1\n",
      "Segment #7 of 60: 1\n"
     ]
    },
    {
     "name": "stderr",
     "output_type": "stream",
     "text": [
      "1it [00:00, 46.38it/s]\n",
      "4it [00:00, 34.85it/s]"
     ]
    },
    {
     "name": "stdout",
     "output_type": "stream",
     "text": [
      "Segment #8 of 60: 172\n"
     ]
    },
    {
     "name": "stderr",
     "output_type": "stream",
     "text": [
      "172it [00:05, 30.31it/s]\n",
      "1it [00:00, 247.50it/s]\n",
      "4it [00:00, 38.92it/s]"
     ]
    },
    {
     "name": "stdout",
     "output_type": "stream",
     "text": [
      "Segment #9 of 60: 1\n",
      "Segment #10 of 60: 690\n"
     ]
    },
    {
     "name": "stderr",
     "output_type": "stream",
     "text": [
      "690it [00:15, 45.04it/s]\n",
      "1it [00:00, 179.38it/s]\n",
      "1it [00:00, 84.76it/s]\n",
      "1it [00:00, 273.19it/s]\n",
      "5it [00:00, 44.21it/s]"
     ]
    },
    {
     "name": "stdout",
     "output_type": "stream",
     "text": [
      "Segment #11 of 60: 1\n",
      "Segment #12 of 60: 1\n",
      "Segment #13 of 60: 1\n",
      "Segment #14 of 60: 28\n"
     ]
    },
    {
     "name": "stderr",
     "output_type": "stream",
     "text": [
      "28it [00:00, 38.83it/s]\n",
      "7it [00:00, 61.05it/s]"
     ]
    },
    {
     "name": "stdout",
     "output_type": "stream",
     "text": [
      "Segment #15 of 60: 81\n"
     ]
    },
    {
     "name": "stderr",
     "output_type": "stream",
     "text": [
      "81it [00:01, 48.45it/s]\n",
      "5it [00:00, 44.93it/s]"
     ]
    },
    {
     "name": "stdout",
     "output_type": "stream",
     "text": [
      "Segment #16 of 60: 22\n"
     ]
    },
    {
     "name": "stderr",
     "output_type": "stream",
     "text": [
      "22it [00:00, 44.52it/s]\n",
      "3it [00:00, 35.05it/s]\n",
      "1it [00:00, 256.36it/s]\n",
      "1it [00:00, 58.12it/s]\n",
      "1it [00:00, 298.34it/s]\n",
      "1it [00:00, 143.13it/s]\n",
      "1it [00:00, 123.96it/s]\n",
      "1it [00:00, 449.02it/s]\n",
      "1it [00:00, 337.68it/s]\n",
      "6it [00:00, 107.83it/s]\n",
      "0it [00:00, ?it/s]"
     ]
    },
    {
     "name": "stdout",
     "output_type": "stream",
     "text": [
      "Segment #17 of 60: 3\n",
      "Segment #18 of 60: 1\n",
      "Segment #19 of 60: 1\n",
      "Segment #20 of 60: 1\n",
      "Segment #21 of 60: 1\n",
      "Segment #22 of 60: 1\n",
      "Segment #23 of 60: 1\n",
      "Segment #24 of 60: 1\n",
      "Segment #25 of 60: 6\n",
      "Segment #26 of 60: 1\n"
     ]
    },
    {
     "name": "stderr",
     "output_type": "stream",
     "text": [
      "1it [00:00, 166.43it/s]\n",
      "3it [00:00, 91.50it/s]\n",
      "1it [00:00, 67.65it/s]\n",
      "1it [00:00, 54.69it/s]\n",
      "1it [00:00, 232.18it/s]\n",
      "1it [00:00, 102.55it/s]\n",
      "1it [00:00, 33.17it/s]\n",
      "3it [00:00, 99.72it/s]\n",
      "1it [00:00, 271.69it/s]\n",
      "1it [00:00, 325.75it/s]\n",
      "1it [00:00, 358.64it/s]\n",
      "1it [00:00, 68.06it/s]\n",
      "1it [00:00, 70.25it/s]\n",
      "1it [00:00, 114.15it/s]"
     ]
    },
    {
     "name": "stdout",
     "output_type": "stream",
     "text": [
      "Segment #27 of 60: 3\n",
      "Segment #28 of 60: 1\n",
      "Segment #29 of 60: 1\n",
      "Segment #30 of 60: 1\n",
      "Segment #31 of 60: 1\n",
      "Segment #32 of 60: 1\n",
      "Segment #33 of 60: 3\n",
      "Segment #34 of 60: 1\n",
      "Segment #35 of 60: 1\n",
      "Segment #36 of 60: 1\n",
      "Segment #37 of 60: 1\n",
      "Segment #38 of 60: 1\n",
      "Segment #39 of 60: 1\n"
     ]
    },
    {
     "name": "stderr",
     "output_type": "stream",
     "text": [
      "\n",
      "1it [00:00, 264.96it/s]\n",
      "1it [00:00, 143.29it/s]\n",
      "1it [00:00, 260.22it/s]\n",
      "1it [00:00, 140.56it/s]\n",
      "5it [00:00, 33.06it/s]"
     ]
    },
    {
     "name": "stdout",
     "output_type": "stream",
     "text": [
      "Segment #40 of 60: 1\n",
      "Segment #41 of 60: 1\n",
      "Segment #42 of 60: 1\n",
      "Segment #43 of 60: 1\n",
      "Segment #44 of 60: 55\n"
     ]
    },
    {
     "name": "stderr",
     "output_type": "stream",
     "text": [
      "55it [00:01, 42.04it/s]\n",
      "1it [00:00, 106.16it/s]\n",
      "1it [00:00, 117.74it/s]\n",
      "1it [00:00, 92.08it/s]\n",
      "1it [00:00, 327.42it/s]\n",
      "1it [00:00, 109.51it/s]\n",
      "1it [00:00, 368.92it/s]\n",
      "1it [00:00, 279.30it/s]\n",
      "7it [00:00, 66.29it/s]"
     ]
    },
    {
     "name": "stdout",
     "output_type": "stream",
     "text": [
      "Segment #45 of 60: 1\n",
      "Segment #46 of 60: 1\n",
      "Segment #47 of 60: 1\n",
      "Segment #48 of 60: 1\n",
      "Segment #49 of 60: 1\n",
      "Segment #50 of 60: 1\n",
      "Segment #51 of 60: 1\n",
      "Segment #52 of 60: 853\n"
     ]
    },
    {
     "name": "stderr",
     "output_type": "stream",
     "text": [
      "853it [00:19, 43.93it/s]\n",
      "7it [00:00, 65.25it/s]"
     ]
    },
    {
     "name": "stdout",
     "output_type": "stream",
     "text": [
      "Segment #53 of 60: 148\n"
     ]
    },
    {
     "name": "stderr",
     "output_type": "stream",
     "text": [
      "148it [00:03, 47.65it/s]\n",
      "1it [00:00, 53.28it/s]\n",
      "1it [00:00, 245.97it/s]\n",
      "3it [00:00, 34.60it/s]\n",
      "0it [00:00, ?it/s]"
     ]
    },
    {
     "name": "stdout",
     "output_type": "stream",
     "text": [
      "Segment #54 of 60: 1\n",
      "Segment #55 of 60: 1\n",
      "Segment #56 of 60: 3\n",
      "Segment #57 of 60: 486\n"
     ]
    },
    {
     "name": "stderr",
     "output_type": "stream",
     "text": [
      "486it [00:10, 48.70it/s]\n",
      "9it [00:00, 61.27it/s]\n",
      "0it [00:00, ?it/s]"
     ]
    },
    {
     "name": "stdout",
     "output_type": "stream",
     "text": [
      "Segment #58 of 60: 9\n",
      "Segment #59 of 60: 39\n"
     ]
    },
    {
     "name": "stderr",
     "output_type": "stream",
     "text": [
      "39it [00:00, 37.11it/s]\n"
     ]
    },
    {
     "name": "stdout",
     "output_type": "stream",
     "text": [
      "10 chr20.fa\n"
     ]
    },
    {
     "name": "stderr",
     "output_type": "stream",
     "text": [
      "1it [00:00, 317.32it/s]\n",
      "1it [00:00, 376.91it/s]\n",
      "5it [00:00, 41.23it/s]"
     ]
    },
    {
     "name": "stdout",
     "output_type": "stream",
     "text": [
      "Segment #0 of 89: 1\n",
      "Segment #1 of 89: 1\n",
      "Segment #2 of 89: 2628\n"
     ]
    },
    {
     "name": "stderr",
     "output_type": "stream",
     "text": [
      "2628it [01:04, 40.61it/s]\n",
      "1it [00:00, 28.35it/s]\n",
      "1it [00:00, 26.30it/s]\n",
      "1it [00:00, 121.80it/s]\n",
      "1it [00:00, 66.10it/s]\n",
      "0it [00:00, ?it/s]"
     ]
    },
    {
     "name": "stdout",
     "output_type": "stream",
     "text": [
      "Segment #3 of 89: 1\n",
      "Segment #4 of 89: 1\n",
      "Segment #5 of 89: 1\n",
      "Segment #6 of 89: 1\n",
      "Segment #7 of 89: 14\n"
     ]
    },
    {
     "name": "stderr",
     "output_type": "stream",
     "text": [
      "14it [00:00, 44.17it/s]\n",
      "1it [00:00, 114.25it/s]\n",
      "1it [00:00, 38.16it/s]\n",
      "2it [00:00, 33.26it/s]\n",
      "1it [00:00, 38.73it/s]\n",
      "0it [00:00, ?it/s]"
     ]
    },
    {
     "name": "stdout",
     "output_type": "stream",
     "text": [
      "Segment #8 of 89: 1\n",
      "Segment #9 of 89: 1\n",
      "Segment #10 of 89: 2\n",
      "Segment #11 of 89: 1\n",
      "Segment #12 of 89: 64\n"
     ]
    },
    {
     "name": "stderr",
     "output_type": "stream",
     "text": [
      "64it [00:01, 44.90it/s]\n",
      "5it [00:00, 43.91it/s]"
     ]
    },
    {
     "name": "stdout",
     "output_type": "stream",
     "text": [
      "Segment #13 of 89: 20\n"
     ]
    },
    {
     "name": "stderr",
     "output_type": "stream",
     "text": [
      "20it [00:00, 43.93it/s]\n",
      "1it [00:00, 31.72it/s]\n",
      "5it [00:00, 45.44it/s]"
     ]
    },
    {
     "name": "stdout",
     "output_type": "stream",
     "text": [
      "Segment #14 of 89: 1\n",
      "Segment #15 of 89: 35\n"
     ]
    },
    {
     "name": "stderr",
     "output_type": "stream",
     "text": [
      "35it [00:00, 44.39it/s]\n",
      "5it [00:00, 42.13it/s]"
     ]
    },
    {
     "name": "stdout",
     "output_type": "stream",
     "text": [
      "Segment #16 of 89: 30\n"
     ]
    },
    {
     "name": "stderr",
     "output_type": "stream",
     "text": [
      "30it [00:00, 43.95it/s]\n",
      "7it [00:00, 42.69it/s]\n",
      "0it [00:00, ?it/s]"
     ]
    },
    {
     "name": "stdout",
     "output_type": "stream",
     "text": [
      "Segment #17 of 89: 7\n",
      "Segment #18 of 89: 6\n"
     ]
    },
    {
     "name": "stderr",
     "output_type": "stream",
     "text": [
      "6it [00:00, 44.30it/s]\n",
      "5it [00:00, 43.47it/s]"
     ]
    },
    {
     "name": "stdout",
     "output_type": "stream",
     "text": [
      "Segment #19 of 89: 12\n"
     ]
    },
    {
     "name": "stderr",
     "output_type": "stream",
     "text": [
      "12it [00:00, 43.17it/s]\n",
      "4it [00:00, 37.82it/s]\n",
      "1it [00:00, 74.57it/s]\n",
      "1it [00:00, 104.24it/s]\n",
      "0it [00:00, ?it/s]"
     ]
    },
    {
     "name": "stdout",
     "output_type": "stream",
     "text": [
      "Segment #20 of 89: 4\n",
      "Segment #21 of 89: 1\n",
      "Segment #22 of 89: 1\n",
      "Segment #23 of 89: 4\n"
     ]
    },
    {
     "name": "stderr",
     "output_type": "stream",
     "text": [
      "4it [00:00, 37.91it/s]\n",
      "4it [00:00, 38.56it/s]"
     ]
    },
    {
     "name": "stdout",
     "output_type": "stream",
     "text": [
      "Segment #24 of 89: 8\n"
     ]
    },
    {
     "name": "stderr",
     "output_type": "stream",
     "text": [
      "8it [00:00, 39.78it/s]\n",
      "1it [00:00, 232.59it/s]\n",
      "1it [00:00, 198.54it/s]\n",
      "1it [00:00, 196.18it/s]\n",
      "1it [00:00, 213.09it/s]\n",
      "2it [00:00, 33.86it/s]\n",
      "1it [00:00, 61.60it/s]\n",
      "1it [00:00, 58.68it/s]\n",
      "1it [00:00, 208.63it/s]\n",
      "2it [00:00, 41.45it/s]\n",
      "1it [00:00, 46.11it/s]\n",
      "0it [00:00, ?it/s]"
     ]
    },
    {
     "name": "stdout",
     "output_type": "stream",
     "text": [
      "Segment #25 of 89: 1\n",
      "Segment #26 of 89: 1\n",
      "Segment #27 of 89: 1\n",
      "Segment #28 of 89: 1\n",
      "Segment #29 of 89: 2\n",
      "Segment #30 of 89: 1\n",
      "Segment #31 of 89: 1\n",
      "Segment #32 of 89: 1\n",
      "Segment #33 of 89: 2\n",
      "Segment #34 of 89: 1\n",
      "Segment #35 of 89: 2\n"
     ]
    },
    {
     "name": "stderr",
     "output_type": "stream",
     "text": [
      "2it [00:00, 40.06it/s]\n",
      "1it [00:00, 198.50it/s]\n",
      "1it [00:00, 138.92it/s]\n",
      "3it [00:00, 42.30it/s]\n",
      "3it [00:00, 44.99it/s]\n",
      "0it [00:00, ?it/s]"
     ]
    },
    {
     "name": "stdout",
     "output_type": "stream",
     "text": [
      "Segment #36 of 89: 1\n",
      "Segment #37 of 89: 1\n",
      "Segment #38 of 89: 3\n",
      "Segment #39 of 89: 3\n",
      "Segment #40 of 89: 2\n"
     ]
    },
    {
     "name": "stderr",
     "output_type": "stream",
     "text": [
      "2it [00:00, 39.69it/s]\n",
      "1it [00:00, 304.84it/s]\n",
      "1it [00:00, 72.23it/s]\n",
      "1it [00:00, 57.63it/s]\n",
      "1it [00:00, 33.59it/s]\n",
      "1it [00:00, 476.03it/s]\n",
      "5it [00:00, 41.34it/s]"
     ]
    },
    {
     "name": "stdout",
     "output_type": "stream",
     "text": [
      "Segment #41 of 89: 1\n",
      "Segment #42 of 89: 1\n",
      "Segment #43 of 89: 1\n",
      "Segment #44 of 89: 1\n",
      "Segment #45 of 89: 1\n",
      "Segment #46 of 89: 22\n"
     ]
    },
    {
     "name": "stderr",
     "output_type": "stream",
     "text": [
      "22it [00:00, 42.26it/s]\n",
      "1it [00:00, 113.14it/s]\n",
      "1it [00:00, 40.82it/s]\n",
      "2it [00:00, 36.50it/s]\n",
      "3it [00:00, 34.54it/s]\n",
      "0it [00:00, ?it/s]"
     ]
    },
    {
     "name": "stdout",
     "output_type": "stream",
     "text": [
      "Segment #47 of 89: 1\n",
      "Segment #48 of 89: 1\n",
      "Segment #49 of 89: 2\n",
      "Segment #50 of 89: 3\n",
      "Segment #51 of 89: 6\n"
     ]
    },
    {
     "name": "stderr",
     "output_type": "stream",
     "text": [
      "6it [00:00, 37.66it/s]\n",
      "3it [00:00, 47.06it/s]\n",
      "1it [00:00, 131.74it/s]\n",
      "4it [00:00, 39.07it/s]\n",
      "0it [00:00, ?it/s]"
     ]
    },
    {
     "name": "stdout",
     "output_type": "stream",
     "text": [
      "Segment #52 of 89: 3\n",
      "Segment #53 of 89: 1\n",
      "Segment #54 of 89: 4\n",
      "Segment #55 of 89: 5\n"
     ]
    },
    {
     "name": "stderr",
     "output_type": "stream",
     "text": [
      "5it [00:00, 41.28it/s]\n",
      "3it [00:00, 48.42it/s]\n",
      "1it [00:00, 56.82it/s]\n",
      "4it [00:00, 39.82it/s]"
     ]
    },
    {
     "name": "stdout",
     "output_type": "stream",
     "text": [
      "Segment #56 of 89: 3\n",
      "Segment #57 of 89: 1\n",
      "Segment #58 of 89: 8\n"
     ]
    },
    {
     "name": "stderr",
     "output_type": "stream",
     "text": [
      "8it [00:00, 40.21it/s]\n",
      "1it [00:00, 237.84it/s]\n",
      "1it [00:00, 14.14it/s]\n",
      "1it [00:00, 79.92it/s]\n",
      "1it [00:00, 360.03it/s]\n",
      "2it [00:00, 40.79it/s]\n",
      "0it [00:00, ?it/s]"
     ]
    },
    {
     "name": "stdout",
     "output_type": "stream",
     "text": [
      "Segment #59 of 89: 1\n",
      "Segment #60 of 89: 1\n",
      "Segment #61 of 89: 1\n",
      "Segment #62 of 89: 1\n",
      "Segment #63 of 89: 2\n",
      "Segment #64 of 89: 5\n"
     ]
    },
    {
     "name": "stderr",
     "output_type": "stream",
     "text": [
      "5it [00:00, 35.59it/s]\n",
      "4it [00:00, 37.04it/s]\n",
      "0it [00:00, ?it/s]"
     ]
    },
    {
     "name": "stdout",
     "output_type": "stream",
     "text": [
      "Segment #65 of 89: 4\n",
      "Segment #66 of 89: 18\n"
     ]
    },
    {
     "name": "stderr",
     "output_type": "stream",
     "text": [
      "18it [00:00, 39.46it/s]\n",
      "3it [00:00, 41.79it/s]\n",
      "6it [00:00, 45.16it/s]"
     ]
    },
    {
     "name": "stdout",
     "output_type": "stream",
     "text": [
      "Segment #67 of 89: 3\n",
      "Segment #68 of 89: 6\n"
     ]
    },
    {
     "name": "stderr",
     "output_type": "stream",
     "text": [
      "\n",
      "3it [00:00, 34.84it/s]\n",
      "1it [00:00, 33.73it/s]\n",
      "1it [00:00, 59.38it/s]\n",
      "1it [00:00, 30.68it/s]\n",
      "1it [00:00, 54.75it/s]\n",
      "1it [00:00, 183.21it/s]\n",
      "1it [00:00, 174.46it/s]"
     ]
    },
    {
     "name": "stdout",
     "output_type": "stream",
     "text": [
      "Segment #69 of 89: 3\n",
      "Segment #70 of 89: 1\n",
      "Segment #71 of 89: 1\n",
      "Segment #72 of 89: 1\n",
      "Segment #73 of 89: 1\n",
      "Segment #74 of 89: 1\n",
      "Segment #75 of 89: 1\n"
     ]
    },
    {
     "name": "stderr",
     "output_type": "stream",
     "text": [
      "\n",
      "1it [00:00, 30.10it/s]\n",
      "1it [00:00, 838.53it/s]\n",
      "1it [00:00, 6403.52it/s]\n",
      "1it [00:00, 2507.06it/s]\n",
      "1it [00:00, 100.83it/s]\n",
      "1it [00:00, 3075.00it/s]\n",
      "5it [00:00, 44.99it/s]"
     ]
    },
    {
     "name": "stdout",
     "output_type": "stream",
     "text": [
      "Segment #76 of 89: 1\n",
      "Segment #77 of 89: 1\n",
      "Segment #78 of 89: 1\n",
      "Segment #79 of 89: 1\n",
      "Segment #80 of 89: 1\n",
      "Segment #81 of 89: 1\n",
      "Segment #82 of 89: 29\n"
     ]
    },
    {
     "name": "stderr",
     "output_type": "stream",
     "text": [
      "29it [00:00, 37.24it/s]\n",
      "4it [00:00, 37.35it/s]"
     ]
    },
    {
     "name": "stdout",
     "output_type": "stream",
     "text": [
      "Segment #83 of 89: 30\n"
     ]
    },
    {
     "name": "stderr",
     "output_type": "stream",
     "text": [
      "30it [00:00, 34.58it/s]\n",
      "5it [00:00, 45.64it/s]"
     ]
    },
    {
     "name": "stdout",
     "output_type": "stream",
     "text": [
      "Segment #84 of 89: 18\n"
     ]
    },
    {
     "name": "stderr",
     "output_type": "stream",
     "text": [
      "18it [00:00, 39.93it/s]\n",
      "5it [00:00, 59.46it/s]\n",
      "1it [00:00, 262.06it/s]\n",
      "7it [00:00, 65.98it/s]"
     ]
    },
    {
     "name": "stdout",
     "output_type": "stream",
     "text": [
      "Segment #85 of 89: 5\n",
      "Segment #86 of 89: 1\n",
      "Segment #87 of 89: 515\n"
     ]
    },
    {
     "name": "stderr",
     "output_type": "stream",
     "text": [
      "515it [00:15, 32.72it/s]\n",
      "3it [00:00, 21.73it/s]"
     ]
    },
    {
     "name": "stdout",
     "output_type": "stream",
     "text": [
      "Segment #88 of 89: 2801\n"
     ]
    },
    {
     "name": "stderr",
     "output_type": "stream",
     "text": [
      "2801it [01:24, 27.59it/s]\n"
     ]
    },
    {
     "name": "stdout",
     "output_type": "stream",
     "text": [
      "11 chr13.fa\n"
     ]
    },
    {
     "name": "stderr",
     "output_type": "stream",
     "text": [
      "2it [00:00, 39.03it/s]\n",
      "5it [00:00, 41.42it/s]"
     ]
    },
    {
     "name": "stdout",
     "output_type": "stream",
     "text": [
      "Segment #0 of 22: 2\n",
      "Segment #1 of 22: 8\n"
     ]
    },
    {
     "name": "stderr",
     "output_type": "stream",
     "text": [
      "8it [00:00, 41.13it/s]\n",
      "5it [00:00, 42.15it/s]\n",
      "0it [00:00, ?it/s]"
     ]
    },
    {
     "name": "stdout",
     "output_type": "stream",
     "text": [
      "Segment #2 of 22: 5\n",
      "Segment #3 of 22: 6\n"
     ]
    },
    {
     "name": "stderr",
     "output_type": "stream",
     "text": [
      "6it [00:00, 42.71it/s]\n",
      "2it [00:00, 42.98it/s]\n",
      "1it [00:00, 66.02it/s]\n",
      "1it [00:00, 112.20it/s]\n",
      "2it [00:00, 38.99it/s]\n",
      "0it [00:00, ?it/s]"
     ]
    },
    {
     "name": "stdout",
     "output_type": "stream",
     "text": [
      "Segment #4 of 22: 2\n",
      "Segment #5 of 22: 1\n",
      "Segment #6 of 22: 1\n",
      "Segment #7 of 22: 2\n",
      "Segment #8 of 22: 113\n"
     ]
    },
    {
     "name": "stderr",
     "output_type": "stream",
     "text": [
      "113it [00:02, 45.46it/s]\n",
      "1it [00:00, 770.87it/s]\n",
      "1it [00:00, 764.27it/s]\n",
      "1it [00:00, 296.71it/s]\n",
      "5it [00:00, 45.24it/s]"
     ]
    },
    {
     "name": "stdout",
     "output_type": "stream",
     "text": [
      "Segment #9 of 22: 1\n",
      "Segment #10 of 22: 1\n",
      "Segment #11 of 22: 1\n",
      "Segment #12 of 22: 63\n"
     ]
    },
    {
     "name": "stderr",
     "output_type": "stream",
     "text": [
      "63it [00:01, 45.68it/s]\n",
      "5it [00:00, 49.37it/s]"
     ]
    },
    {
     "name": "stdout",
     "output_type": "stream",
     "text": [
      "Segment #13 of 22: 18\n"
     ]
    },
    {
     "name": "stderr",
     "output_type": "stream",
     "text": [
      "18it [00:00, 29.00it/s]\n",
      "5it [00:00, 42.99it/s]"
     ]
    },
    {
     "name": "stdout",
     "output_type": "stream",
     "text": [
      "Segment #14 of 22: 6779\n"
     ]
    },
    {
     "name": "stderr",
     "output_type": "stream",
     "text": [
      "6779it [02:39, 42.41it/s]\n",
      "5it [00:00, 43.29it/s]"
     ]
    },
    {
     "name": "stdout",
     "output_type": "stream",
     "text": [
      "Segment #15 of 22: 1471\n"
     ]
    },
    {
     "name": "stderr",
     "output_type": "stream",
     "text": [
      "1471it [00:36, 40.59it/s]\n",
      "1it [00:00, 383.74it/s]\n",
      "1it [00:00, 1470.14it/s]\n",
      "5it [00:00, 34.01it/s]"
     ]
    },
    {
     "name": "stdout",
     "output_type": "stream",
     "text": [
      "Segment #16 of 22: 1\n",
      "Segment #17 of 22: 1\n",
      "Segment #18 of 22: 1073\n"
     ]
    },
    {
     "name": "stderr",
     "output_type": "stream",
     "text": [
      "1073it [00:25, 42.82it/s]\n",
      "3it [00:00, 31.58it/s]\n",
      "0it [00:00, ?it/s]"
     ]
    },
    {
     "name": "stdout",
     "output_type": "stream",
     "text": [
      "Segment #19 of 22: 3\n",
      "Segment #20 of 22: 182\n"
     ]
    },
    {
     "name": "stderr",
     "output_type": "stream",
     "text": [
      "182it [00:05, 39.13it/s]\n",
      "6it [00:00, 53.52it/s]"
     ]
    },
    {
     "name": "stdout",
     "output_type": "stream",
     "text": [
      "Segment #21 of 22: 63\n"
     ]
    },
    {
     "name": "stderr",
     "output_type": "stream",
     "text": [
      "63it [00:02, 27.55it/s]\n"
     ]
    },
    {
     "name": "stdout",
     "output_type": "stream",
     "text": [
      "12 chr14.fa\n"
     ]
    },
    {
     "name": "stderr",
     "output_type": "stream",
     "text": [
      "2it [00:00, 40.43it/s]\n",
      "2it [00:00, 19.81it/s]"
     ]
    },
    {
     "name": "stdout",
     "output_type": "stream",
     "text": [
      "Segment #0 of 24: 2\n",
      "Segment #1 of 24: 3\n"
     ]
    },
    {
     "name": "stderr",
     "output_type": "stream",
     "text": [
      "3it [00:00, 18.49it/s]\n",
      "1it [00:00, 153.77it/s]\n",
      "2it [00:00, 37.09it/s]\n",
      "1it [00:00, 91.65it/s]\n",
      "1it [00:00, 125.91it/s]\n",
      "1it [00:00, 25.80it/s]\n",
      "1it [00:00, 61.99it/s]\n",
      "0it [00:00, ?it/s]"
     ]
    },
    {
     "name": "stdout",
     "output_type": "stream",
     "text": [
      "Segment #2 of 24: 1\n",
      "Segment #3 of 24: 2\n",
      "Segment #4 of 24: 1\n",
      "Segment #5 of 24: 1\n",
      "Segment #6 of 24: 1\n",
      "Segment #7 of 24: 1\n",
      "Segment #8 of 24: 8\n"
     ]
    },
    {
     "name": "stderr",
     "output_type": "stream",
     "text": [
      "8it [00:00, 41.71it/s]\n",
      "5it [00:00, 42.94it/s]\n",
      "0it [00:00, ?it/s]"
     ]
    },
    {
     "name": "stdout",
     "output_type": "stream",
     "text": [
      "Segment #9 of 24: 5\n",
      "Segment #10 of 24: 6\n"
     ]
    },
    {
     "name": "stderr",
     "output_type": "stream",
     "text": [
      "6it [00:00, 43.62it/s]\n",
      "2it [00:00, 44.20it/s]\n",
      "1it [00:00, 70.01it/s]\n",
      "1it [00:00, 134.91it/s]\n",
      "2it [00:00, 40.85it/s]\n",
      "1it [00:00, 103.08it/s]\n",
      "0it [00:00, ?it/s]"
     ]
    },
    {
     "name": "stdout",
     "output_type": "stream",
     "text": [
      "Segment #11 of 24: 2\n",
      "Segment #12 of 24: 1\n",
      "Segment #13 of 24: 1\n",
      "Segment #14 of 24: 2\n",
      "Segment #15 of 24: 1\n",
      "Segment #16 of 24: 113\n"
     ]
    },
    {
     "name": "stderr",
     "output_type": "stream",
     "text": [
      "113it [00:02, 45.33it/s]\n",
      "1it [00:00, 1336.62it/s]\n",
      "1it [00:00, 1008.00it/s]\n",
      "1it [00:00, 312.17it/s]\n",
      "5it [00:00, 45.15it/s]"
     ]
    },
    {
     "name": "stdout",
     "output_type": "stream",
     "text": [
      "Segment #17 of 24: 1\n",
      "Segment #18 of 24: 1\n",
      "Segment #19 of 24: 1\n",
      "Segment #20 of 24: 63\n"
     ]
    },
    {
     "name": "stderr",
     "output_type": "stream",
     "text": [
      "63it [00:01, 45.68it/s]\n",
      "5it [00:00, 45.23it/s]"
     ]
    },
    {
     "name": "stdout",
     "output_type": "stream",
     "text": [
      "Segment #21 of 24: 48\n"
     ]
    },
    {
     "name": "stderr",
     "output_type": "stream",
     "text": [
      "48it [00:01, 44.17it/s]\n",
      "5it [00:00, 44.48it/s]"
     ]
    },
    {
     "name": "stdout",
     "output_type": "stream",
     "text": [
      "Segment #22 of 24: 64\n"
     ]
    },
    {
     "name": "stderr",
     "output_type": "stream",
     "text": [
      "64it [00:01, 40.43it/s]\n",
      "5it [00:00, 46.18it/s]"
     ]
    },
    {
     "name": "stdout",
     "output_type": "stream",
     "text": [
      "Segment #23 of 24: 8727\n"
     ]
    },
    {
     "name": "stderr",
     "output_type": "stream",
     "text": [
      "8727it [03:45, 38.70it/s]\n"
     ]
    },
    {
     "name": "stdout",
     "output_type": "stream",
     "text": [
      "13 chr18.fa\n"
     ]
    },
    {
     "name": "stderr",
     "output_type": "stream",
     "text": [
      "4it [00:00, 26.86it/s]"
     ]
    },
    {
     "name": "stdout",
     "output_type": "stream",
     "text": [
      "Segment #0 of 60: 1540\n"
     ]
    },
    {
     "name": "stderr",
     "output_type": "stream",
     "text": [
      "1540it [00:36, 42.58it/s]\n",
      "7it [00:00, 43.05it/s]\n",
      "0it [00:00, ?it/s]"
     ]
    },
    {
     "name": "stdout",
     "output_type": "stream",
     "text": [
      "Segment #1 of 60: 7\n",
      "Segment #2 of 60: 24\n"
     ]
    },
    {
     "name": "stderr",
     "output_type": "stream",
     "text": [
      "24it [00:00, 44.67it/s]\n",
      "1it [00:00, 45.05it/s]\n",
      "1it [00:00, 68.31it/s]\n",
      "5it [00:00, 43.74it/s]"
     ]
    },
    {
     "name": "stdout",
     "output_type": "stream",
     "text": [
      "Segment #3 of 60: 1\n",
      "Segment #4 of 60: 1\n",
      "Segment #5 of 60: 11\n"
     ]
    },
    {
     "name": "stderr",
     "output_type": "stream",
     "text": [
      "11it [00:00, 43.52it/s]\n",
      "5it [00:00, 46.07it/s]"
     ]
    },
    {
     "name": "stdout",
     "output_type": "stream",
     "text": [
      "Segment #6 of 60: 33\n"
     ]
    },
    {
     "name": "stderr",
     "output_type": "stream",
     "text": [
      "33it [00:00, 46.10it/s]\n",
      "5it [00:00, 45.13it/s]"
     ]
    },
    {
     "name": "stdout",
     "output_type": "stream",
     "text": [
      "Segment #7 of 60: 18\n"
     ]
    },
    {
     "name": "stderr",
     "output_type": "stream",
     "text": [
      "18it [00:00, 44.42it/s]\n",
      "1it [00:00, 465.88it/s]\n",
      "5it [00:00, 44.86it/s]"
     ]
    },
    {
     "name": "stdout",
     "output_type": "stream",
     "text": [
      "Segment #8 of 60: 1\n",
      "Segment #9 of 60: 33\n"
     ]
    },
    {
     "name": "stderr",
     "output_type": "stream",
     "text": [
      "33it [00:00, 44.54it/s]\n",
      "1it [00:00, 1048.58it/s]\n",
      "1it [00:00, 2176.60it/s]\n",
      "1it [00:00, 635.98it/s]\n",
      "1it [00:00, 5133.79it/s]\n",
      "1it [00:00, 4815.50it/s]\n",
      "1it [00:00, 5315.97it/s]\n",
      "1it [00:00, 4462.03it/s]\n",
      "1it [00:00, 8405.42it/s]\n",
      "1it [00:00, 10305.42it/s]\n",
      "1it [00:00, 5329.48it/s]\n",
      "1it [00:00, 4500.33it/s]\n",
      "5it [00:00, 40.84it/s]"
     ]
    },
    {
     "name": "stdout",
     "output_type": "stream",
     "text": [
      "Segment #10 of 60: 1\n",
      "Segment #11 of 60: 1\n",
      "Segment #12 of 60: 1\n",
      "Segment #13 of 60: 1\n",
      "Segment #14 of 60: 1\n",
      "Segment #15 of 60: 1\n",
      "Segment #16 of 60: 1\n",
      "Segment #17 of 60: 1\n",
      "Segment #18 of 60: 1\n",
      "Segment #19 of 60: 1\n",
      "Segment #20 of 60: 1\n",
      "Segment #21 of 60: 10\n"
     ]
    },
    {
     "name": "stderr",
     "output_type": "stream",
     "text": [
      "10it [00:00, 40.82it/s]\n",
      "5it [00:00, 43.96it/s]"
     ]
    },
    {
     "name": "stdout",
     "output_type": "stream",
     "text": [
      "Segment #22 of 60: 162\n"
     ]
    },
    {
     "name": "stderr",
     "output_type": "stream",
     "text": [
      "162it [00:03, 45.35it/s]\n",
      "5it [00:00, 45.94it/s]"
     ]
    },
    {
     "name": "stdout",
     "output_type": "stream",
     "text": [
      "Segment #23 of 60: 67\n"
     ]
    },
    {
     "name": "stderr",
     "output_type": "stream",
     "text": [
      "67it [00:01, 45.75it/s]\n",
      "5it [00:00, 45.13it/s]"
     ]
    },
    {
     "name": "stdout",
     "output_type": "stream",
     "text": [
      "Segment #24 of 60: 16\n"
     ]
    },
    {
     "name": "stderr",
     "output_type": "stream",
     "text": [
      "16it [00:00, 44.92it/s]\n",
      "5it [00:00, 46.29it/s]"
     ]
    },
    {
     "name": "stdout",
     "output_type": "stream",
     "text": [
      "Segment #25 of 60: 121\n"
     ]
    },
    {
     "name": "stderr",
     "output_type": "stream",
     "text": [
      "121it [00:02, 46.04it/s]\n",
      "1it [00:00, 138.96it/s]\n",
      "1it [00:00, 39.94it/s]\n",
      "2it [00:00, 44.00it/s]\n",
      "2it [00:00, 41.59it/s]\n",
      "1it [00:00, 27.46it/s]\n",
      "1it [00:00, 41.76it/s]\n",
      "0it [00:00, ?it/s]"
     ]
    },
    {
     "name": "stdout",
     "output_type": "stream",
     "text": [
      "Segment #26 of 60: 1\n",
      "Segment #27 of 60: 1\n",
      "Segment #28 of 60: 2\n",
      "Segment #29 of 60: 2\n",
      "Segment #30 of 60: 1\n",
      "Segment #31 of 60: 1\n",
      "Segment #32 of 60: 3\n"
     ]
    },
    {
     "name": "stderr",
     "output_type": "stream",
     "text": [
      "3it [00:00, 38.79it/s]\n",
      "1it [00:00, 49.83it/s]\n",
      "3it [00:00, 34.35it/s]\n",
      "1it [00:00, 38.97it/s]\n",
      "1it [00:00, 120.93it/s]\n",
      "0it [00:00, ?it/s]"
     ]
    },
    {
     "name": "stdout",
     "output_type": "stream",
     "text": [
      "Segment #33 of 60: 1\n",
      "Segment #34 of 60: 3\n",
      "Segment #35 of 60: 1\n",
      "Segment #36 of 60: 1\n",
      "Segment #37 of 60: 6\n"
     ]
    },
    {
     "name": "stderr",
     "output_type": "stream",
     "text": [
      "6it [00:00, 44.14it/s]\n",
      "1it [00:00, 26.08it/s]\n",
      "1it [00:00, 104.95it/s]\n",
      "1it [00:00, 91.88it/s]\n",
      "1it [00:00, 42.32it/s]\n",
      "1it [00:00, 41.54it/s]\n",
      "0it [00:00, ?it/s]"
     ]
    },
    {
     "name": "stdout",
     "output_type": "stream",
     "text": [
      "Segment #38 of 60: 1\n",
      "Segment #39 of 60: 1\n",
      "Segment #40 of 60: 1\n",
      "Segment #41 of 60: 1\n",
      "Segment #42 of 60: 1\n",
      "Segment #43 of 60: 2605\n"
     ]
    },
    {
     "name": "stderr",
     "output_type": "stream",
     "text": [
      "2605it [01:02, 41.89it/s]\n",
      "4it [00:00, 32.75it/s]"
     ]
    },
    {
     "name": "stdout",
     "output_type": "stream",
     "text": [
      "Segment #44 of 60: 751\n"
     ]
    },
    {
     "name": "stderr",
     "output_type": "stream",
     "text": [
      "751it [00:19, 38.10it/s]\n",
      "4it [00:00, 38.98it/s]"
     ]
    },
    {
     "name": "stdout",
     "output_type": "stream",
     "text": [
      "Segment #45 of 60: 2571\n"
     ]
    },
    {
     "name": "stderr",
     "output_type": "stream",
     "text": [
      "2571it [01:01, 41.74it/s]\n",
      "1it [00:00, 1839.61it/s]\n",
      "1it [00:00, 312.10it/s]\n",
      "1it [00:00, 462.34it/s]\n",
      "1it [00:00, 1078.50it/s]\n",
      "1it [00:00, 5370.43it/s]\n",
      "1it [00:00, 6842.26it/s]\n",
      "1it [00:00, 4832.15it/s]\n",
      "1it [00:00, 1815.72it/s]\n",
      "1it [00:00, 6689.48it/s]\n",
      "1it [00:00, 5152.71it/s]\n",
      "1it [00:00, 7096.96it/s]\n",
      "1it [00:00, 234.95it/s]\n",
      "1it [00:00, 991.33it/s]\n",
      "1it [00:00, 39.71it/s]\n"
     ]
    },
    {
     "name": "stdout",
     "output_type": "stream",
     "text": [
      "Segment #46 of 60: 1\n",
      "Segment #47 of 60: 1\n",
      "Segment #48 of 60: 1\n",
      "Segment #49 of 60: 1\n",
      "Segment #50 of 60: 1\n",
      "Segment #51 of 60: 1\n",
      "Segment #52 of 60: 1\n",
      "Segment #53 of 60: 1\n",
      "Segment #54 of 60: 1\n",
      "Segment #55 of 60: 1\n",
      "Segment #56 of 60: 1\n",
      "Segment #57 of 60: 1\n",
      "Segment #58 of 60: 1\n",
      "Segment #59 of 60: 1\n",
      "14 chr1.fa\n"
     ]
    },
    {
     "name": "stderr",
     "output_type": "stream",
     "text": [
      "\r",
      "0it [00:00, ?it/s]"
     ]
    },
    {
     "name": "stdout",
     "output_type": "stream",
     "text": [
      "Segment #0 of 167: 19\n"
     ]
    },
    {
     "name": "stderr",
     "output_type": "stream",
     "text": [
      "19it [00:00, 24.92it/s]\n",
      "4it [00:00, 45.58it/s]\n",
      "0it [00:00, ?it/s]"
     ]
    },
    {
     "name": "stdout",
     "output_type": "stream",
     "text": [
      "Segment #1 of 167: 4\n",
      "Segment #2 of 167: 18\n"
     ]
    },
    {
     "name": "stderr",
     "output_type": "stream",
     "text": [
      "18it [00:00, 30.17it/s]\n",
      "2it [00:00, 17.28it/s]"
     ]
    },
    {
     "name": "stdout",
     "output_type": "stream",
     "text": [
      "Segment #3 of 167: 211\n"
     ]
    },
    {
     "name": "stderr",
     "output_type": "stream",
     "text": [
      "211it [00:10, 19.21it/s]\n",
      "4it [00:00, 32.63it/s]"
     ]
    },
    {
     "name": "stdout",
     "output_type": "stream",
     "text": [
      "Segment #4 of 167: 1020\n"
     ]
    },
    {
     "name": "stderr",
     "output_type": "stream",
     "text": [
      "1020it [00:37, 26.85it/s]\n",
      "3it [00:00, 28.81it/s]"
     ]
    },
    {
     "name": "stdout",
     "output_type": "stream",
     "text": [
      "Segment #5 of 167: 379\n"
     ]
    },
    {
     "name": "stderr",
     "output_type": "stream",
     "text": [
      "379it [00:11, 32.78it/s]\n",
      "3it [00:00, 22.34it/s]"
     ]
    },
    {
     "name": "stdout",
     "output_type": "stream",
     "text": [
      "Segment #6 of 167: 1270\n"
     ]
    },
    {
     "name": "stderr",
     "output_type": "stream",
     "text": [
      "1270it [00:44, 28.28it/s]\n",
      "6it [00:00, 52.33it/s]"
     ]
    },
    {
     "name": "stdout",
     "output_type": "stream",
     "text": [
      "Segment #7 of 167: 9220\n"
     ]
    },
    {
     "name": "stderr",
     "output_type": "stream",
     "text": [
      "9220it [03:50, 39.98it/s]\n",
      "1it [00:00, 3486.54it/s]\n",
      "1it [00:00, 584.41it/s]\n",
      "1it [00:00, 10180.35it/s]\n",
      "1it [00:00, 5706.54it/s]\n",
      "1it [00:00, 3986.98it/s]\n",
      "1it [00:00, 5940.94it/s]\n",
      "1it [00:00, 33.37it/s]\n",
      "1it [00:00, 1449.31it/s]\n",
      "1it [00:00, 52.75it/s]\n",
      "1it [00:00, 149.05it/s]\n",
      "1it [00:00, 205.61it/s]\n",
      "1it [00:00, 337.73it/s]\n",
      "1it [00:00, 39.90it/s]\n",
      "1it [00:00, 2477.44it/s]\n",
      "1it [00:00, 2462.89it/s]\n",
      "1it [00:00, 111.10it/s]\n",
      "1it [00:00, 142.05it/s]\n",
      "1it [00:00, 76.93it/s]\n",
      "1it [00:00, 1860.83it/s]\n",
      "1it [00:00, 3350.08it/s]\n",
      "1it [00:00, 2835.91it/s]\n",
      "1it [00:00, 2062.10it/s]\n",
      "1it [00:00, 3194.44it/s]\n",
      "1it [00:00, 6563.86it/s]\n",
      "1it [00:00, 2805.55it/s]\n",
      "1it [00:00, 1122.67it/s]\n",
      "1it [00:00, 4500.33it/s]\n",
      "1it [00:00, 119.97it/s]\n",
      "1it [00:00, 220.78it/s]\n",
      "1it [00:00, 1348.65it/s]\n",
      "1it [00:00, 1522.43it/s]\n",
      "1it [00:00, 2001.10it/s]\n",
      "1it [00:00, 3086.32it/s]\n",
      "1it [00:00, 147.59it/s]\n",
      "1it [00:00, 1402.31it/s]\n",
      "1it [00:00, 3241.35it/s]\n",
      "1it [00:00, 3998.38it/s]\n",
      "1it [00:00, 2335.36it/s]\n",
      "1it [00:00, 165.19it/s]\n"
     ]
    },
    {
     "name": "stdout",
     "output_type": "stream",
     "text": [
      "Segment #8 of 167: 1\n",
      "Segment #9 of 167: 1\n",
      "Segment #10 of 167: 1\n",
      "Segment #11 of 167: 1\n",
      "Segment #12 of 167: 1\n",
      "Segment #13 of 167: 1\n",
      "Segment #14 of 167: 1\n",
      "Segment #15 of 167: 1\n",
      "Segment #16 of 167: 1\n",
      "Segment #17 of 167: 1\n",
      "Segment #18 of 167: 1\n",
      "Segment #19 of 167: 1\n",
      "Segment #20 of 167: 1\n",
      "Segment #21 of 167: 1\n",
      "Segment #22 of 167: 1\n",
      "Segment #23 of 167: 1\n",
      "Segment #24 of 167: 1\n",
      "Segment #25 of 167: 1\n",
      "Segment #26 of 167: 1\n",
      "Segment #27 of 167: 1\n",
      "Segment #28 of 167: 1\n",
      "Segment #29 of 167: 1\n",
      "Segment #30 of 167: 1\n",
      "Segment #31 of 167: 1\n",
      "Segment #32 of 167: 1\n",
      "Segment #33 of 167: 1\n",
      "Segment #34 of 167: 1\n",
      "Segment #35 of 167: 1\n",
      "Segment #36 of 167: 1\n",
      "Segment #37 of 167: 1\n",
      "Segment #38 of 167: 1\n",
      "Segment #39 of 167: 1\n",
      "Segment #40 of 167: 1\n",
      "Segment #41 of 167: 1\n",
      "Segment #42 of 167: 1\n",
      "Segment #43 of 167: 1\n",
      "Segment #44 of 167: 1\n",
      "Segment #45 of 167: 1\n",
      "Segment #46 of 167: 1\n",
      "Segment #47 of 167: 1\n"
     ]
    },
    {
     "name": "stderr",
     "output_type": "stream",
     "text": [
      "1it [00:00, 848.36it/s]\n",
      "1it [00:00, 2187.95it/s]\n",
      "1it [00:00, 5384.22it/s]\n",
      "1it [00:00, 2220.38it/s]\n",
      "1it [00:00, 2268.42it/s]\n",
      "1it [00:00, 57.48it/s]\n",
      "1it [00:00, 148.27it/s]\n",
      "1it [00:00, 3251.40it/s]\n",
      "1it [00:00, 148.95it/s]\n",
      "1it [00:00, 47.21it/s]\n",
      "1it [00:00, 60.70it/s]\n",
      "1it [00:00, 1135.74it/s]\n",
      "1it [00:00, 69.27it/s]\n",
      "1it [00:00, 90.42it/s]\n",
      "1it [00:00, 39.93it/s]\n",
      "1it [00:00, 1690.57it/s]\n",
      "1it [00:00, 4957.81it/s]\n",
      "1it [00:00, 159.10it/s]\n",
      "1it [00:00, 939.58it/s]\n",
      "1it [00:00, 597.65it/s]\n",
      "1it [00:00, 2890.63it/s]\n",
      "1it [00:00, 3418.34it/s]\n",
      "1it [00:00, 340.58it/s]\n",
      "1it [00:00, 3708.49it/s]\n",
      "1it [00:00, 1972.86it/s]\n",
      "1it [00:00, 249.72it/s]\n",
      "1it [00:00, 1939.11it/s]\n",
      "1it [00:00, 149.55it/s]\n",
      "1it [00:00, 30.08it/s]"
     ]
    },
    {
     "name": "stdout",
     "output_type": "stream",
     "text": [
      "Segment #48 of 167: 1\n",
      "Segment #49 of 167: 1\n",
      "Segment #50 of 167: 1\n",
      "Segment #51 of 167: 1\n",
      "Segment #52 of 167: 1\n",
      "Segment #53 of 167: 1\n",
      "Segment #54 of 167: 1\n",
      "Segment #55 of 167: 1\n",
      "Segment #56 of 167: 1\n",
      "Segment #57 of 167: 1\n",
      "Segment #58 of 167: 1\n",
      "Segment #59 of 167: 1\n",
      "Segment #60 of 167: 1\n",
      "Segment #61 of 167: 1\n",
      "Segment #62 of 167: 1\n",
      "Segment #63 of 167: 1\n",
      "Segment #64 of 167: 1\n",
      "Segment #65 of 167: 1\n",
      "Segment #66 of 167: 1\n",
      "Segment #67 of 167: 1\n",
      "Segment #68 of 167: 1\n",
      "Segment #69 of 167: 1\n",
      "Segment #70 of 167: 1\n",
      "Segment #71 of 167: 1\n",
      "Segment #72 of 167: 1\n",
      "Segment #73 of 167: 1\n",
      "Segment #74 of 167: 1\n",
      "Segment #75 of 167: 1\n"
     ]
    },
    {
     "name": "stderr",
     "output_type": "stream",
     "text": [
      "\n",
      "1it [00:00, 9822.73it/s]\n",
      "1it [00:00, 290.71it/s]\n",
      "1it [00:00, 551.16it/s]\n",
      "1it [00:00, 118.15it/s]\n",
      "1it [00:00, 257.40it/s]\n",
      "1it [00:00, 249.77it/s]\n",
      "1it [00:00, 81.28it/s]\n",
      "1it [00:00, 197.88it/s]\n",
      "1it [00:00, 844.60it/s]\n",
      "1it [00:00, 716.98it/s]\n",
      "1it [00:00, 208.13it/s]\n",
      "1it [00:00, 3141.80it/s]\n",
      "1it [00:00, 170.92it/s]\n",
      "1it [00:00, 4865.78it/s]\n",
      "1it [00:00, 2574.77it/s]\n",
      "1it [00:00, 1221.40it/s]\n",
      "1it [00:00, 1715.46it/s]\n",
      "1it [00:00, 2392.64it/s]\n",
      "1it [00:00, 5555.37it/s]\n",
      "1it [00:00, 628.55it/s]\n",
      "1it [00:00, 70.46it/s]\n",
      "1it [00:00, 131.64it/s]\n",
      "1it [00:00, 197.50it/s]\n",
      "1it [00:00, 216.96it/s]\n",
      "1it [00:00, 136.46it/s]\n",
      "1it [00:00, 87.46it/s]\n",
      "1it [00:00, 820.16it/s]\n",
      "1it [00:00, 111.33it/s]\n",
      "1it [00:00, 162.34it/s]\n",
      "1it [00:00, 804.43it/s]\n",
      "1it [00:00, 2634.61it/s]\n",
      "1it [00:00, 143.66it/s]\n",
      "1it [00:00, 1100.58it/s]\n",
      "1it [00:00, 3738.24it/s]\n",
      "1it [00:00, 153.27it/s]\n",
      "1it [00:00, 1694.67it/s]\n",
      "1it [00:00, 161.61it/s]\n",
      "1it [00:00, 1298.95it/s]\n",
      "1it [00:00, 1548.28it/s]\n",
      "1it [00:00, 189.75it/s]\n",
      "0it [00:00, ?it/s]"
     ]
    },
    {
     "name": "stdout",
     "output_type": "stream",
     "text": [
      "Segment #76 of 167: 1\n",
      "Segment #77 of 167: 1\n",
      "Segment #78 of 167: 1\n",
      "Segment #79 of 167: 1\n",
      "Segment #80 of 167: 1\n",
      "Segment #81 of 167: 1\n",
      "Segment #82 of 167: 1\n",
      "Segment #83 of 167: 1\n",
      "Segment #84 of 167: 1\n",
      "Segment #85 of 167: 1\n",
      "Segment #86 of 167: 1\n",
      "Segment #87 of 167: 1\n",
      "Segment #88 of 167: 1\n",
      "Segment #89 of 167: 1\n",
      "Segment #90 of 167: 1\n",
      "Segment #91 of 167: 1\n",
      "Segment #92 of 167: 1\n",
      "Segment #93 of 167: 1\n",
      "Segment #94 of 167: 1\n",
      "Segment #95 of 167: 1\n",
      "Segment #96 of 167: 1\n",
      "Segment #97 of 167: 1\n",
      "Segment #98 of 167: 1\n",
      "Segment #99 of 167: 1\n",
      "Segment #100 of 167: 1\n",
      "Segment #101 of 167: 1\n",
      "Segment #102 of 167: 1\n",
      "Segment #103 of 167: 1\n",
      "Segment #104 of 167: 1\n",
      "Segment #105 of 167: 1\n",
      "Segment #106 of 167: 1\n",
      "Segment #107 of 167: 1\n",
      "Segment #108 of 167: 1\n",
      "Segment #109 of 167: 1\n",
      "Segment #110 of 167: 1\n",
      "Segment #111 of 167: 1\n",
      "Segment #112 of 167: 1\n",
      "Segment #113 of 167: 1\n",
      "Segment #114 of 167: 1\n",
      "Segment #115 of 167: 1\n",
      "Segment #116 of 167: 1\n"
     ]
    },
    {
     "name": "stderr",
     "output_type": "stream",
     "text": [
      "1it [00:00, 1128.11it/s]\n",
      "1it [00:00, 1425.66it/s]\n",
      "1it [00:00, 88.99it/s]\n",
      "1it [00:00, 2605.16it/s]\n",
      "1it [00:00, 2847.46it/s]\n",
      "1it [00:00, 4080.06it/s]\n",
      "1it [00:00, 2003.01it/s]\n",
      "1it [00:00, 2949.58it/s]\n",
      "1it [00:00, 1472.72it/s]\n",
      "1it [00:00, 4328.49it/s]\n",
      "1it [00:00, 3477.86it/s]\n",
      "1it [00:00, 1249.79it/s]\n",
      "1it [00:00, 3223.91it/s]\n",
      "1it [00:00, 4202.71it/s]\n",
      "1it [00:00, 10894.30it/s]\n",
      "1it [00:00, 2964.17it/s]\n",
      "1it [00:00, 1527.98it/s]\n",
      "1it [00:00, 271.02it/s]\n",
      "1it [00:00, 1544.29it/s]\n",
      "1it [00:00, 2063.11it/s]\n",
      "1it [00:00, 154.45it/s]\n",
      "1it [00:00, 129.92it/s]\n",
      "1it [00:00, 122.16it/s]\n",
      "1it [00:00, 3806.08it/s]\n",
      "1it [00:00, 1008.49it/s]\n",
      "1it [00:00, 206.77it/s]\n",
      "3it [00:00, 42.81it/s]\n",
      "0it [00:00, ?it/s]"
     ]
    },
    {
     "name": "stdout",
     "output_type": "stream",
     "text": [
      "Segment #117 of 167: 1\n",
      "Segment #118 of 167: 1\n",
      "Segment #119 of 167: 1\n",
      "Segment #120 of 167: 1\n",
      "Segment #121 of 167: 1\n",
      "Segment #122 of 167: 1\n",
      "Segment #123 of 167: 1\n",
      "Segment #124 of 167: 1\n",
      "Segment #125 of 167: 1\n",
      "Segment #126 of 167: 1\n",
      "Segment #127 of 167: 1\n",
      "Segment #128 of 167: 1\n",
      "Segment #129 of 167: 1\n",
      "Segment #130 of 167: 1\n",
      "Segment #131 of 167: 1\n",
      "Segment #132 of 167: 1\n",
      "Segment #133 of 167: 1\n",
      "Segment #134 of 167: 1\n",
      "Segment #135 of 167: 1\n",
      "Segment #136 of 167: 1\n",
      "Segment #137 of 167: 1\n",
      "Segment #138 of 167: 1\n",
      "Segment #139 of 167: 1\n",
      "Segment #140 of 167: 1\n",
      "Segment #141 of 167: 1\n",
      "Segment #142 of 167: 3\n",
      "Segment #143 of 167: 4\n"
     ]
    },
    {
     "name": "stderr",
     "output_type": "stream",
     "text": [
      "4it [00:00, 37.63it/s]\n",
      "1it [00:00, 65.90it/s]\n",
      "1it [00:00, 28.77it/s]\n",
      "4it [00:00, 37.19it/s]\n",
      "0it [00:00, ?it/s]"
     ]
    },
    {
     "name": "stdout",
     "output_type": "stream",
     "text": [
      "Segment #144 of 167: 1\n",
      "Segment #145 of 167: 1\n",
      "Segment #146 of 167: 4\n",
      "Segment #147 of 167: 5\n"
     ]
    },
    {
     "name": "stderr",
     "output_type": "stream",
     "text": [
      "5it [00:00, 44.12it/s]\n",
      "1it [00:00, 78.99it/s]\n",
      "1it [00:00, 60.30it/s]\n",
      "5it [00:00, 43.86it/s]"
     ]
    },
    {
     "name": "stdout",
     "output_type": "stream",
     "text": [
      "Segment #148 of 167: 1\n",
      "Segment #149 of 167: 1\n",
      "Segment #150 of 167: 26\n"
     ]
    },
    {
     "name": "stderr",
     "output_type": "stream",
     "text": [
      "26it [00:00, 44.25it/s]\n",
      "5it [00:00, 45.74it/s]"
     ]
    },
    {
     "name": "stdout",
     "output_type": "stream",
     "text": [
      "Segment #151 of 167: 228\n"
     ]
    },
    {
     "name": "stderr",
     "output_type": "stream",
     "text": [
      "228it [00:04, 46.12it/s]\n",
      "6it [00:00, 42.98it/s]\n",
      "0it [00:00, ?it/s]"
     ]
    },
    {
     "name": "stdout",
     "output_type": "stream",
     "text": [
      "Segment #152 of 167: 6\n",
      "Segment #153 of 167: 8\n"
     ]
    },
    {
     "name": "stderr",
     "output_type": "stream",
     "text": [
      "8it [00:00, 43.20it/s]\n",
      "4it [00:00, 40.21it/s]\n",
      "3it [00:00, 38.99it/s]\n",
      "1it [00:00, 34.84it/s]"
     ]
    },
    {
     "name": "stdout",
     "output_type": "stream",
     "text": [
      "Segment #154 of 167: 4\n",
      "Segment #155 of 167: 3\n",
      "Segment #156 of 167: 1\n"
     ]
    },
    {
     "name": "stderr",
     "output_type": "stream",
     "text": [
      "\n",
      "1it [00:00, 143.52it/s]\n",
      "7it [00:00, 38.22it/s]\n",
      "0it [00:00, ?it/s]"
     ]
    },
    {
     "name": "stdout",
     "output_type": "stream",
     "text": [
      "Segment #157 of 167: 1\n",
      "Segment #158 of 167: 7\n",
      "Segment #159 of 167: 2\n"
     ]
    },
    {
     "name": "stderr",
     "output_type": "stream",
     "text": [
      "2it [00:00, 29.04it/s]\n",
      "3it [00:00, 30.62it/s]\n",
      "1it [00:00, 55.56it/s]\n",
      "0it [00:00, ?it/s]"
     ]
    },
    {
     "name": "stdout",
     "output_type": "stream",
     "text": [
      "Segment #160 of 167: 3\n",
      "Segment #161 of 167: 1\n",
      "Segment #162 of 167: 8037\n"
     ]
    },
    {
     "name": "stderr",
     "output_type": "stream",
     "text": [
      "8037it [03:18, 40.43it/s]\n",
      "2it [00:00, 19.58it/s]"
     ]
    },
    {
     "name": "stdout",
     "output_type": "stream",
     "text": [
      "Segment #163 of 167: 494\n"
     ]
    },
    {
     "name": "stderr",
     "output_type": "stream",
     "text": [
      "494it [00:14, 30.95it/s]\n",
      "2it [00:00, 12.20it/s]"
     ]
    },
    {
     "name": "stdout",
     "output_type": "stream",
     "text": [
      "Segment #164 of 167: 2014\n"
     ]
    },
    {
     "name": "stderr",
     "output_type": "stream",
     "text": [
      "2014it [00:48, 41.19it/s]\n",
      "1it [00:00, 101.36it/s]\n",
      "6it [00:00, 52.73it/s]"
     ]
    },
    {
     "name": "stdout",
     "output_type": "stream",
     "text": [
      "Segment #165 of 167: 1\n",
      "Segment #166 of 167: 19\n"
     ]
    },
    {
     "name": "stderr",
     "output_type": "stream",
     "text": [
      "19it [00:00, 36.23it/s]\n"
     ]
    },
    {
     "name": "stdout",
     "output_type": "stream",
     "text": [
      "15 chr2.fa\n"
     ]
    },
    {
     "name": "stderr",
     "output_type": "stream",
     "text": [
      "4it [00:00, 33.70it/s]"
     ]
    },
    {
     "name": "stdout",
     "output_type": "stream",
     "text": [
      "Segment #0 of 34: 1613\n"
     ]
    },
    {
     "name": "stderr",
     "output_type": "stream",
     "text": [
      "1613it [00:41, 47.17it/s]\n",
      "5it [00:00, 47.91it/s]"
     ]
    },
    {
     "name": "stdout",
     "output_type": "stream",
     "text": [
      "Segment #1 of 34: 480\n"
     ]
    },
    {
     "name": "stderr",
     "output_type": "stream",
     "text": [
      "480it [00:12, 39.69it/s]\n",
      "7it [00:00, 57.42it/s]"
     ]
    },
    {
     "name": "stdout",
     "output_type": "stream",
     "text": [
      "Segment #2 of 34: 1052\n"
     ]
    },
    {
     "name": "stderr",
     "output_type": "stream",
     "text": [
      "1052it [00:28, 41.13it/s]\n",
      "5it [00:00, 33.42it/s]"
     ]
    },
    {
     "name": "stdout",
     "output_type": "stream",
     "text": [
      "Segment #3 of 34: 10\n"
     ]
    },
    {
     "name": "stderr",
     "output_type": "stream",
     "text": [
      "10it [00:00, 33.21it/s]\n",
      "1it [00:00, 4236.67it/s]\n",
      "1it [00:00, 5242.88it/s]\n",
      "5it [00:00, 44.92it/s]"
     ]
    },
    {
     "name": "stdout",
     "output_type": "stream",
     "text": [
      "Segment #4 of 34: 1\n",
      "Segment #5 of 34: 1\n",
      "Segment #6 of 34: 127\n"
     ]
    },
    {
     "name": "stderr",
     "output_type": "stream",
     "text": [
      "127it [00:03, 40.92it/s]\n",
      "4it [00:00, 27.00it/s]\n",
      "0it [00:00, ?it/s]"
     ]
    },
    {
     "name": "stdout",
     "output_type": "stream",
     "text": [
      "Segment #7 of 34: 4\n",
      "Segment #8 of 34: 5641\n"
     ]
    },
    {
     "name": "stderr",
     "output_type": "stream",
     "text": [
      "5641it [02:18, 40.85it/s]\n",
      "4it [00:00, 39.21it/s]"
     ]
    },
    {
     "name": "stdout",
     "output_type": "stream",
     "text": [
      "Segment #9 of 34: 15\n"
     ]
    },
    {
     "name": "stderr",
     "output_type": "stream",
     "text": [
      "15it [00:00, 42.02it/s]\n",
      "3it [00:00, 26.84it/s]"
     ]
    },
    {
     "name": "stdout",
     "output_type": "stream",
     "text": [
      "Segment #10 of 34: 64\n"
     ]
    },
    {
     "name": "stderr",
     "output_type": "stream",
     "text": [
      "64it [00:01, 40.94it/s]\n",
      "3it [00:00, 26.15it/s]"
     ]
    },
    {
     "name": "stdout",
     "output_type": "stream",
     "text": [
      "Segment #11 of 34: 73\n"
     ]
    },
    {
     "name": "stderr",
     "output_type": "stream",
     "text": [
      "73it [00:01, 40.42it/s]\n",
      "5it [00:00, 41.03it/s]"
     ]
    },
    {
     "name": "stdout",
     "output_type": "stream",
     "text": [
      "Segment #12 of 34: 8\n"
     ]
    },
    {
     "name": "stderr",
     "output_type": "stream",
     "text": [
      "8it [00:00, 39.34it/s]\n",
      "5it [00:00, 43.39it/s]"
     ]
    },
    {
     "name": "stdout",
     "output_type": "stream",
     "text": [
      "Segment #13 of 34: 43\n"
     ]
    },
    {
     "name": "stderr",
     "output_type": "stream",
     "text": [
      "43it [00:00, 45.23it/s]\n",
      "5it [00:00, 44.29it/s]"
     ]
    },
    {
     "name": "stdout",
     "output_type": "stream",
     "text": [
      "Segment #14 of 34: 17\n"
     ]
    },
    {
     "name": "stderr",
     "output_type": "stream",
     "text": [
      "17it [00:00, 44.17it/s]\n",
      "5it [00:00, 45.05it/s]"
     ]
    },
    {
     "name": "stdout",
     "output_type": "stream",
     "text": [
      "Segment #15 of 34: 41\n"
     ]
    },
    {
     "name": "stderr",
     "output_type": "stream",
     "text": [
      "41it [00:00, 45.04it/s]\n",
      "5it [00:00, 43.70it/s]"
     ]
    },
    {
     "name": "stdout",
     "output_type": "stream",
     "text": [
      "Segment #16 of 34: 16\n"
     ]
    },
    {
     "name": "stderr",
     "output_type": "stream",
     "text": [
      "16it [00:00, 43.77it/s]\n",
      "5it [00:00, 44.61it/s]"
     ]
    },
    {
     "name": "stdout",
     "output_type": "stream",
     "text": [
      "Segment #17 of 34: 13\n"
     ]
    },
    {
     "name": "stderr",
     "output_type": "stream",
     "text": [
      "13it [00:00, 44.28it/s]\n",
      "5it [00:00, 43.18it/s]"
     ]
    },
    {
     "name": "stdout",
     "output_type": "stream",
     "text": [
      "Segment #18 of 34: 9\n"
     ]
    },
    {
     "name": "stderr",
     "output_type": "stream",
     "text": [
      "9it [00:00, 43.27it/s]\n",
      "5it [00:00, 44.73it/s]"
     ]
    },
    {
     "name": "stdout",
     "output_type": "stream",
     "text": [
      "Segment #19 of 34: 22\n"
     ]
    },
    {
     "name": "stderr",
     "output_type": "stream",
     "text": [
      "22it [00:00, 43.73it/s]\n",
      "5it [00:00, 44.39it/s]"
     ]
    },
    {
     "name": "stdout",
     "output_type": "stream",
     "text": [
      "Segment #20 of 34: 9\n"
     ]
    },
    {
     "name": "stderr",
     "output_type": "stream",
     "text": [
      "9it [00:00, 44.13it/s]\n",
      "7it [00:00, 41.81it/s]\n",
      "0it [00:00, ?it/s]"
     ]
    },
    {
     "name": "stdout",
     "output_type": "stream",
     "text": [
      "Segment #21 of 34: 7\n",
      "Segment #22 of 34: 15\n"
     ]
    },
    {
     "name": "stderr",
     "output_type": "stream",
     "text": [
      "15it [00:00, 40.85it/s]\n",
      "5it [00:00, 45.94it/s]"
     ]
    },
    {
     "name": "stdout",
     "output_type": "stream",
     "text": [
      "Segment #23 of 34: 294\n"
     ]
    },
    {
     "name": "stderr",
     "output_type": "stream",
     "text": [
      "294it [00:09, 32.59it/s]\n",
      "5it [00:00, 39.42it/s]"
     ]
    },
    {
     "name": "stdout",
     "output_type": "stream",
     "text": [
      "Segment #24 of 34: 1200\n"
     ]
    },
    {
     "name": "stderr",
     "output_type": "stream",
     "text": [
      "1200it [00:28, 42.10it/s]\n",
      "2it [00:00, 18.82it/s]"
     ]
    },
    {
     "name": "stdout",
     "output_type": "stream",
     "text": [
      "Segment #25 of 34: 12364\n"
     ]
    },
    {
     "name": "stderr",
     "output_type": "stream",
     "text": [
      "12364it [04:57, 29.02it/s]\n",
      "1it [00:00, 238.57it/s]\n",
      "1it [00:00, 3218.96it/s]\n",
      "1it [00:00, 2264.74it/s]\n",
      "1it [00:00, 165.82it/s]\n",
      "1it [00:00, 532.54it/s]\n",
      "7it [00:00, 55.65it/s]"
     ]
    },
    {
     "name": "stdout",
     "output_type": "stream",
     "text": [
      "Segment #26 of 34: 1\n",
      "Segment #27 of 34: 1\n",
      "Segment #28 of 34: 1\n",
      "Segment #29 of 34: 1\n",
      "Segment #30 of 34: 1\n",
      "Segment #31 of 34: 575\n"
     ]
    },
    {
     "name": "stderr",
     "output_type": "stream",
     "text": [
      "575it [00:14, 40.64it/s]\n",
      "6it [00:00, 48.43it/s]"
     ]
    },
    {
     "name": "stdout",
     "output_type": "stream",
     "text": [
      "Segment #32 of 34: 96\n"
     ]
    },
    {
     "name": "stderr",
     "output_type": "stream",
     "text": [
      "96it [00:03, 29.57it/s]\n",
      "3it [00:00, 27.63it/s]"
     ]
    },
    {
     "name": "stdout",
     "output_type": "stream",
     "text": [
      "Segment #33 of 34: 231\n"
     ]
    },
    {
     "name": "stderr",
     "output_type": "stream",
     "text": [
      "231it [00:09, 37.96it/s]\n"
     ]
    },
    {
     "name": "stdout",
     "output_type": "stream",
     "text": [
      "16 chr17.fa\n"
     ]
    },
    {
     "name": "stderr",
     "output_type": "stream",
     "text": [
      "4it [00:00, 40.00it/s]"
     ]
    },
    {
     "name": "stdout",
     "output_type": "stream",
     "text": [
      "Segment #0 of 47: 38\n"
     ]
    },
    {
     "name": "stderr",
     "output_type": "stream",
     "text": [
      "38it [00:01, 25.51it/s]\n",
      "1it [00:00, 1461.43it/s]\n",
      "1it [00:00, 134.58it/s]\n",
      "5it [00:00, 32.60it/s]"
     ]
    },
    {
     "name": "stdout",
     "output_type": "stream",
     "text": [
      "Segment #1 of 47: 1\n",
      "Segment #2 of 47: 1\n",
      "Segment #3 of 47: 2130\n"
     ]
    },
    {
     "name": "stderr",
     "output_type": "stream",
     "text": [
      "2130it [01:07, 27.77it/s]\n",
      "4it [00:00, 35.86it/s]\n",
      "0it [00:00, ?it/s]"
     ]
    },
    {
     "name": "stdout",
     "output_type": "stream",
     "text": [
      "Segment #4 of 47: 4\n",
      "Segment #5 of 47: 11\n"
     ]
    },
    {
     "name": "stderr",
     "output_type": "stream",
     "text": [
      "11it [00:00, 62.68it/s]\n",
      "1it [00:00, 87.87it/s]\n",
      "1it [00:00, 546.56it/s]\n",
      "1it [00:00, 85.26it/s]\n",
      "4it [00:00, 37.76it/s]\n",
      "0it [00:00, ?it/s]"
     ]
    },
    {
     "name": "stdout",
     "output_type": "stream",
     "text": [
      "Segment #6 of 47: 1\n",
      "Segment #7 of 47: 1\n",
      "Segment #8 of 47: 1\n",
      "Segment #9 of 47: 4\n",
      "Segment #10 of 47: 67\n"
     ]
    },
    {
     "name": "stderr",
     "output_type": "stream",
     "text": [
      "67it [00:01, 40.34it/s]\n",
      "5it [00:00, 45.54it/s]"
     ]
    },
    {
     "name": "stdout",
     "output_type": "stream",
     "text": [
      "Segment #11 of 47: 38\n"
     ]
    },
    {
     "name": "stderr",
     "output_type": "stream",
     "text": [
      "38it [00:00, 45.65it/s]\n",
      "5it [00:00, 46.03it/s]"
     ]
    },
    {
     "name": "stdout",
     "output_type": "stream",
     "text": [
      "Segment #12 of 47: 248\n"
     ]
    },
    {
     "name": "stderr",
     "output_type": "stream",
     "text": [
      "248it [00:05, 45.68it/s]\n",
      "5it [00:00, 44.95it/s]\n",
      "0it [00:00, ?it/s]"
     ]
    },
    {
     "name": "stdout",
     "output_type": "stream",
     "text": [
      "Segment #13 of 47: 5\n",
      "Segment #14 of 47: 18\n"
     ]
    },
    {
     "name": "stderr",
     "output_type": "stream",
     "text": [
      "18it [00:00, 44.51it/s]\n",
      "5it [00:00, 45.65it/s]"
     ]
    },
    {
     "name": "stdout",
     "output_type": "stream",
     "text": [
      "Segment #15 of 47: 64\n"
     ]
    },
    {
     "name": "stderr",
     "output_type": "stream",
     "text": [
      "64it [00:01, 44.86it/s]\n",
      "1it [00:00, 99.29it/s]\n",
      "2it [00:00, 37.84it/s]\n",
      "2it [00:00, 36.26it/s]\n",
      "1it [00:00, 36.95it/s]\n",
      "1it [00:00, 39.45it/s]\n",
      "1it [00:00, 159.00it/s]\n",
      "1it [00:00, 90.12it/s]\n",
      "0it [00:00, ?it/s]"
     ]
    },
    {
     "name": "stdout",
     "output_type": "stream",
     "text": [
      "Segment #16 of 47: 1\n",
      "Segment #17 of 47: 2\n",
      "Segment #18 of 47: 2\n",
      "Segment #19 of 47: 1\n",
      "Segment #20 of 47: 1\n",
      "Segment #21 of 47: 1\n",
      "Segment #22 of 47: 1\n",
      "Segment #23 of 47: 5\n"
     ]
    },
    {
     "name": "stderr",
     "output_type": "stream",
     "text": [
      "5it [00:00, 35.64it/s]\n",
      "2it [00:00, 37.12it/s]\n",
      "1it [00:00, 28.38it/s]\n",
      "0it [00:00, ?it/s]"
     ]
    },
    {
     "name": "stdout",
     "output_type": "stream",
     "text": [
      "Segment #24 of 47: 2\n",
      "Segment #25 of 47: 1\n",
      "Segment #26 of 47: 6\n"
     ]
    },
    {
     "name": "stderr",
     "output_type": "stream",
     "text": [
      "6it [00:00, 38.82it/s]\n",
      "1it [00:00, 45.63it/s]\n",
      "3it [00:00, 50.03it/s]\n",
      "1it [00:00, 39.63it/s]\n",
      "1it [00:00, 181.16it/s]\n",
      "1it [00:00, 80.74it/s]\n",
      "0it [00:00, ?it/s]"
     ]
    },
    {
     "name": "stdout",
     "output_type": "stream",
     "text": [
      "Segment #27 of 47: 1\n",
      "Segment #28 of 47: 3\n",
      "Segment #29 of 47: 1\n",
      "Segment #30 of 47: 1\n",
      "Segment #31 of 47: 1\n",
      "Segment #32 of 47: 5480\n"
     ]
    },
    {
     "name": "stderr",
     "output_type": "stream",
     "text": [
      "5480it [02:50, 32.08it/s]\n",
      "1it [00:00, 38.18it/s]\n",
      "1it [00:00, 162.41it/s]\n",
      "0it [00:00, ?it/s]"
     ]
    },
    {
     "name": "stdout",
     "output_type": "stream",
     "text": [
      "Segment #33 of 47: 1\n",
      "Segment #34 of 47: 1\n",
      "Segment #35 of 47: 132\n"
     ]
    },
    {
     "name": "stderr",
     "output_type": "stream",
     "text": [
      "132it [00:05, 22.11it/s]\n",
      "1it [00:00, 125.34it/s]\n",
      "1it [00:00, 1580.37it/s]\n",
      "1it [00:00, 281.99it/s]\n",
      "1it [00:00, 228.09it/s]\n",
      "1it [00:00, 1787.85it/s]\n",
      "1it [00:00, 1079.06it/s]\n",
      "1it [00:00, 224.79it/s]\n",
      "1it [00:00, 418.97it/s]\n",
      "1it [00:00, 991.56it/s]\n",
      "1it [00:00, 685.90it/s]\n",
      "4it [00:00, 33.75it/s]"
     ]
    },
    {
     "name": "stdout",
     "output_type": "stream",
     "text": [
      "Segment #36 of 47: 1\n",
      "Segment #37 of 47: 1\n",
      "Segment #38 of 47: 1\n",
      "Segment #39 of 47: 1\n",
      "Segment #40 of 47: 1\n",
      "Segment #41 of 47: 1\n",
      "Segment #42 of 47: 1\n",
      "Segment #43 of 47: 1\n",
      "Segment #44 of 47: 1\n",
      "Segment #45 of 47: 1\n",
      "Segment #46 of 47: 11\n"
     ]
    },
    {
     "name": "stderr",
     "output_type": "stream",
     "text": [
      "11it [00:00, 30.49it/s]\n"
     ]
    },
    {
     "name": "stdout",
     "output_type": "stream",
     "text": [
      "17 chr5.fa\n"
     ]
    },
    {
     "name": "stderr",
     "output_type": "stream",
     "text": [
      "4it [00:00, 32.00it/s]"
     ]
    },
    {
     "name": "stdout",
     "output_type": "stream",
     "text": [
      "Segment #0 of 36: 1752\n"
     ]
    },
    {
     "name": "stderr",
     "output_type": "stream",
     "text": [
      "1752it [00:44, 39.21it/s]\n",
      "2it [00:00, 18.64it/s]"
     ]
    },
    {
     "name": "stdout",
     "output_type": "stream",
     "text": [
      "Segment #1 of 36: 2885\n"
     ]
    },
    {
     "name": "stderr",
     "output_type": "stream",
     "text": [
      "2885it [01:06, 43.43it/s]\n",
      "4it [00:00, 42.17it/s]\n",
      "1it [00:00, 21.55it/s]\n",
      "1it [00:00, 68.55it/s]\n",
      "1it [00:00, 37.48it/s]\n",
      "1it [00:00, 86.31it/s]\n",
      "0it [00:00, ?it/s]"
     ]
    },
    {
     "name": "stdout",
     "output_type": "stream",
     "text": [
      "Segment #2 of 36: 4\n",
      "Segment #3 of 36: 1\n",
      "Segment #4 of 36: 1\n",
      "Segment #5 of 36: 1\n",
      "Segment #6 of 36: 1\n",
      "Segment #7 of 36: 5\n"
     ]
    },
    {
     "name": "stderr",
     "output_type": "stream",
     "text": [
      "5it [00:00, 38.45it/s]\n",
      "5it [00:00, 42.57it/s]"
     ]
    },
    {
     "name": "stdout",
     "output_type": "stream",
     "text": [
      "Segment #8 of 36: 17\n"
     ]
    },
    {
     "name": "stderr",
     "output_type": "stream",
     "text": [
      "17it [00:00, 43.14it/s]\n",
      "5it [00:00, 42.60it/s]"
     ]
    },
    {
     "name": "stdout",
     "output_type": "stream",
     "text": [
      "Segment #9 of 36: 23\n"
     ]
    },
    {
     "name": "stderr",
     "output_type": "stream",
     "text": [
      "23it [00:00, 42.58it/s]\n",
      "2it [00:00, 30.08it/s]\n",
      "1it [00:00, 52.40it/s]\n",
      "1it [00:00, 88.82it/s]\n",
      "1it [00:00, 259.37it/s]\n",
      "2it [00:00, 34.72it/s]\n",
      "0it [00:00, ?it/s]"
     ]
    },
    {
     "name": "stdout",
     "output_type": "stream",
     "text": [
      "Segment #10 of 36: 2\n",
      "Segment #11 of 36: 1\n",
      "Segment #12 of 36: 1\n",
      "Segment #13 of 36: 1\n",
      "Segment #14 of 36: 2\n",
      "Segment #15 of 36: 4\n"
     ]
    },
    {
     "name": "stderr",
     "output_type": "stream",
     "text": [
      "4it [00:00, 37.00it/s]\n",
      "5it [00:00, 43.54it/s]"
     ]
    },
    {
     "name": "stdout",
     "output_type": "stream",
     "text": [
      "Segment #16 of 36: 14\n"
     ]
    },
    {
     "name": "stderr",
     "output_type": "stream",
     "text": [
      "14it [00:00, 43.26it/s]\n",
      "1it [00:00, 86.45it/s]\n",
      "1it [00:00, 140.43it/s]\n",
      "5it [00:00, 44.16it/s]"
     ]
    },
    {
     "name": "stdout",
     "output_type": "stream",
     "text": [
      "Segment #17 of 36: 1\n",
      "Segment #18 of 36: 1\n",
      "Segment #19 of 36: 228\n"
     ]
    },
    {
     "name": "stderr",
     "output_type": "stream",
     "text": [
      "228it [00:04, 45.83it/s]\n",
      "1it [00:00, 254.62it/s]\n",
      "1it [00:00, 349.35it/s]\n",
      "1it [00:00, 175.95it/s]\n",
      "1it [00:00, 150.37it/s]\n",
      "1it [00:00, 46.77it/s]\n",
      "1it [00:00, 67.77it/s]\n",
      "1it [00:00, 111.30it/s]\n",
      "1it [00:00, 65.07it/s]\n",
      "1it [00:00, 115.48it/s]\n",
      "1it [00:00, 83.21it/s]\n",
      "1it [00:00, 201.08it/s]\n",
      "0it [00:00, ?it/s]"
     ]
    },
    {
     "name": "stdout",
     "output_type": "stream",
     "text": [
      "Segment #20 of 36: 1\n",
      "Segment #21 of 36: 1\n",
      "Segment #22 of 36: 1\n",
      "Segment #23 of 36: 1\n",
      "Segment #24 of 36: 1\n",
      "Segment #25 of 36: 1\n",
      "Segment #26 of 36: 1\n",
      "Segment #27 of 36: 1\n",
      "Segment #28 of 36: 1\n",
      "Segment #29 of 36: 1\n",
      "Segment #30 of 36: 1\n",
      "Segment #31 of 36: 5\n"
     ]
    },
    {
     "name": "stderr",
     "output_type": "stream",
     "text": [
      "5it [00:00, 41.79it/s]\n",
      "5it [00:00, 44.43it/s]"
     ]
    },
    {
     "name": "stdout",
     "output_type": "stream",
     "text": [
      "Segment #32 of 36: 33\n"
     ]
    },
    {
     "name": "stderr",
     "output_type": "stream",
     "text": [
      "33it [00:00, 44.55it/s]\n",
      "5it [00:00, 45.79it/s]"
     ]
    },
    {
     "name": "stdout",
     "output_type": "stream",
     "text": [
      "Segment #33 of 36: 8934\n"
     ]
    },
    {
     "name": "stderr",
     "output_type": "stream",
     "text": [
      "8934it [03:30, 42.45it/s]\n",
      "5it [00:00, 43.55it/s]"
     ]
    },
    {
     "name": "stdout",
     "output_type": "stream",
     "text": [
      "Segment #34 of 36: 1630\n"
     ]
    },
    {
     "name": "stderr",
     "output_type": "stream",
     "text": [
      "1630it [00:41, 39.51it/s]\n",
      "5it [00:00, 45.65it/s]"
     ]
    },
    {
     "name": "stdout",
     "output_type": "stream",
     "text": [
      "Segment #35 of 36: 2571\n"
     ]
    },
    {
     "name": "stderr",
     "output_type": "stream",
     "text": [
      "2571it [01:07, 38.11it/s]\n"
     ]
    },
    {
     "name": "stdout",
     "output_type": "stream",
     "text": [
      "18 chr15.fa\n"
     ]
    },
    {
     "name": "stderr",
     "output_type": "stream",
     "text": [
      "4it [00:00, 36.19it/s]\n",
      "2it [00:00, 32.19it/s]\n",
      "1it [00:00, 91.23it/s]\n",
      "0it [00:00, ?it/s]"
     ]
    },
    {
     "name": "stdout",
     "output_type": "stream",
     "text": [
      "Segment #0 of 18: 4\n",
      "Segment #1 of 18: 2\n",
      "Segment #2 of 18: 1\n",
      "Segment #3 of 18: 41\n"
     ]
    },
    {
     "name": "stderr",
     "output_type": "stream",
     "text": [
      "41it [00:00, 43.31it/s]\n",
      "5it [00:00, 43.44it/s]"
     ]
    },
    {
     "name": "stdout",
     "output_type": "stream",
     "text": [
      "Segment #4 of 18: 25\n"
     ]
    },
    {
     "name": "stderr",
     "output_type": "stream",
     "text": [
      "25it [00:00, 44.45it/s]\n",
      "5it [00:00, 45.43it/s]"
     ]
    },
    {
     "name": "stdout",
     "output_type": "stream",
     "text": [
      "Segment #5 of 18: 58\n"
     ]
    },
    {
     "name": "stderr",
     "output_type": "stream",
     "text": [
      "58it [00:01, 45.40it/s]\n",
      "1it [00:00, 33.86it/s]\n",
      "5it [00:00, 43.04it/s]"
     ]
    },
    {
     "name": "stdout",
     "output_type": "stream",
     "text": [
      "Segment #6 of 18: 1\n",
      "Segment #7 of 18: 62\n"
     ]
    },
    {
     "name": "stderr",
     "output_type": "stream",
     "text": [
      "62it [00:01, 45.27it/s]\n",
      "5it [00:00, 46.19it/s]"
     ]
    },
    {
     "name": "stdout",
     "output_type": "stream",
     "text": [
      "Segment #8 of 18: 74\n"
     ]
    },
    {
     "name": "stderr",
     "output_type": "stream",
     "text": [
      "74it [00:01, 46.11it/s]\n",
      "5it [00:00, 46.12it/s]"
     ]
    },
    {
     "name": "stdout",
     "output_type": "stream",
     "text": [
      "Segment #9 of 18: 91\n"
     ]
    },
    {
     "name": "stderr",
     "output_type": "stream",
     "text": [
      "91it [00:02, 40.04it/s]\n",
      "4it [00:00, 35.07it/s]"
     ]
    },
    {
     "name": "stdout",
     "output_type": "stream",
     "text": [
      "Segment #10 of 18: 46\n"
     ]
    },
    {
     "name": "stderr",
     "output_type": "stream",
     "text": [
      "46it [00:01, 42.42it/s]\n",
      "5it [00:00, 41.70it/s]"
     ]
    },
    {
     "name": "stdout",
     "output_type": "stream",
     "text": [
      "Segment #11 of 18: 53\n"
     ]
    },
    {
     "name": "stderr",
     "output_type": "stream",
     "text": [
      "53it [00:01, 43.42it/s]\n",
      "5it [00:00, 42.44it/s]"
     ]
    },
    {
     "name": "stdout",
     "output_type": "stream",
     "text": [
      "Segment #12 of 18: 47\n"
     ]
    },
    {
     "name": "stderr",
     "output_type": "stream",
     "text": [
      "47it [00:01, 41.85it/s]\n",
      "5it [00:00, 33.33it/s]"
     ]
    },
    {
     "name": "stdout",
     "output_type": "stream",
     "text": [
      "Segment #13 of 18: 86\n"
     ]
    },
    {
     "name": "stderr",
     "output_type": "stream",
     "text": [
      "86it [00:02, 37.52it/s]\n",
      "2it [00:00, 19.86it/s]"
     ]
    },
    {
     "name": "stdout",
     "output_type": "stream",
     "text": [
      "Segment #14 of 18: 406\n"
     ]
    },
    {
     "name": "stderr",
     "output_type": "stream",
     "text": [
      "406it [00:09, 43.16it/s]\n",
      "1it [00:00, 2931.03it/s]\n",
      "5it [00:00, 49.67it/s]"
     ]
    },
    {
     "name": "stdout",
     "output_type": "stream",
     "text": [
      "Segment #15 of 18: 1\n",
      "Segment #16 of 18: 5692\n"
     ]
    },
    {
     "name": "stderr",
     "output_type": "stream",
     "text": [
      "5692it [02:31, 37.49it/s]\n",
      "4it [00:00, 38.51it/s]"
     ]
    },
    {
     "name": "stdout",
     "output_type": "stream",
     "text": [
      "Segment #17 of 18: 1766\n"
     ]
    },
    {
     "name": "stderr",
     "output_type": "stream",
     "text": [
      "1766it [00:47, 36.67it/s]\n"
     ]
    },
    {
     "name": "stdout",
     "output_type": "stream",
     "text": [
      "19 chr10.fa\n"
     ]
    },
    {
     "name": "stderr",
     "output_type": "stream",
     "text": [
      "4it [00:00, 27.33it/s]"
     ]
    },
    {
     "name": "stdout",
     "output_type": "stream",
     "text": [
      "Segment #0 of 79: 3851\n"
     ]
    },
    {
     "name": "stderr",
     "output_type": "stream",
     "text": [
      "3851it [01:33, 41.10it/s]\n",
      "3it [00:00, 27.36it/s]"
     ]
    },
    {
     "name": "stdout",
     "output_type": "stream",
     "text": [
      "Segment #1 of 79: 33\n"
     ]
    },
    {
     "name": "stderr",
     "output_type": "stream",
     "text": [
      "33it [00:00, 39.70it/s]\n",
      "1it [00:00, 295.67it/s]\n",
      "5it [00:00, 45.69it/s]"
     ]
    },
    {
     "name": "stdout",
     "output_type": "stream",
     "text": [
      "Segment #2 of 79: 1\n",
      "Segment #3 of 79: 31\n"
     ]
    },
    {
     "name": "stderr",
     "output_type": "stream",
     "text": [
      "31it [00:00, 43.65it/s]\n",
      "1it [00:00, 51.70it/s]\n",
      "1it [00:00, 908.05it/s]\n",
      "1it [00:00, 612.93it/s]\n",
      "1it [00:00, 677.59it/s]\n",
      "1it [00:00, 201.34it/s]\n",
      "1it [00:00, 212.94it/s]\n",
      "1it [00:00, 468.58it/s]\n",
      "1it [00:00, 137.65it/s]\n",
      "1it [00:00, 216.30it/s]\n",
      "1it [00:00, 100.33it/s]\n",
      "2it [00:00, 30.82it/s]\n",
      "1it [00:00, 323.98it/s]\n",
      "1it [00:00, 1351.26it/s]\n",
      "1it [00:00, 110.61it/s]\n",
      "1it [00:00, 647.47it/s]\n",
      "1it [00:00, 45.71it/s]\n",
      "1it [00:00, 65.39it/s]\n",
      "1it [00:00, 386.39it/s]\n",
      "1it [00:00, 587.68it/s]\n",
      "0it [00:00, ?it/s]"
     ]
    },
    {
     "name": "stdout",
     "output_type": "stream",
     "text": [
      "Segment #4 of 79: 1\n",
      "Segment #5 of 79: 1\n",
      "Segment #6 of 79: 1\n",
      "Segment #7 of 79: 1\n",
      "Segment #8 of 79: 1\n",
      "Segment #9 of 79: 1\n",
      "Segment #10 of 79: 1\n",
      "Segment #11 of 79: 1\n",
      "Segment #12 of 79: 1\n",
      "Segment #13 of 79: 1\n",
      "Segment #14 of 79: 2\n",
      "Segment #15 of 79: 1\n",
      "Segment #16 of 79: 1\n",
      "Segment #17 of 79: 1\n",
      "Segment #18 of 79: 1\n",
      "Segment #19 of 79: 1\n",
      "Segment #20 of 79: 1\n",
      "Segment #21 of 79: 1\n",
      "Segment #22 of 79: 1\n",
      "Segment #23 of 79: 1\n"
     ]
    },
    {
     "name": "stderr",
     "output_type": "stream",
     "text": [
      "1it [00:00, 125.49it/s]\n",
      "1it [00:00, 1011.16it/s]\n",
      "1it [00:00, 731.61it/s]\n",
      "1it [00:00, 129.14it/s]\n",
      "1it [00:00, 994.38it/s]\n",
      "1it [00:00, 345.10it/s]\n",
      "1it [00:00, 103.66it/s]\n",
      "1it [00:00, 26.02it/s]\n",
      "1it [00:00, 136.82it/s]\n",
      "4it [00:00, 39.61it/s]"
     ]
    },
    {
     "name": "stdout",
     "output_type": "stream",
     "text": [
      "Segment #24 of 79: 1\n",
      "Segment #25 of 79: 1\n",
      "Segment #26 of 79: 1\n",
      "Segment #27 of 79: 1\n",
      "Segment #28 of 79: 1\n",
      "Segment #29 of 79: 1\n",
      "Segment #30 of 79: 1\n",
      "Segment #31 of 79: 1\n",
      "Segment #32 of 79: 6\n"
     ]
    },
    {
     "name": "stderr",
     "output_type": "stream",
     "text": [
      "6it [00:00, 39.22it/s]\n",
      "6it [00:00, 39.64it/s]\n",
      "1it [00:00, 24.88it/s]\n",
      "0it [00:00, ?it/s]"
     ]
    },
    {
     "name": "stdout",
     "output_type": "stream",
     "text": [
      "Segment #33 of 79: 6\n",
      "Segment #34 of 79: 1\n",
      "Segment #35 of 79: 7\n"
     ]
    },
    {
     "name": "stderr",
     "output_type": "stream",
     "text": [
      "7it [00:00, 43.71it/s]\n",
      "1it [00:00, 31.55it/s]\n",
      "1it [00:00, 171.33it/s]\n",
      "1it [00:00, 295.52it/s]\n",
      "1it [00:00, 112.95it/s]\n",
      "1it [00:00, 445.92it/s]\n",
      "1it [00:00, 76.23it/s]\n",
      "1it [00:00, 276.16it/s]\n",
      "1it [00:00, 88.34it/s]\n",
      "1it [00:00, 46.25it/s]\n",
      "1it [00:00, 265.45it/s]\n",
      "0it [00:00, ?it/s]"
     ]
    },
    {
     "name": "stdout",
     "output_type": "stream",
     "text": [
      "Segment #36 of 79: 1\n",
      "Segment #37 of 79: 1\n",
      "Segment #38 of 79: 1\n",
      "Segment #39 of 79: 1\n",
      "Segment #40 of 79: 1\n",
      "Segment #41 of 79: 1\n",
      "Segment #42 of 79: 1\n",
      "Segment #43 of 79: 1\n",
      "Segment #44 of 79: 1\n",
      "Segment #45 of 79: 1\n",
      "Segment #46 of 79: 24\n"
     ]
    },
    {
     "name": "stderr",
     "output_type": "stream",
     "text": [
      "24it [00:00, 44.82it/s]\n",
      "5it [00:00, 45.96it/s]"
     ]
    },
    {
     "name": "stdout",
     "output_type": "stream",
     "text": [
      "Segment #47 of 79: 55\n"
     ]
    },
    {
     "name": "stderr",
     "output_type": "stream",
     "text": [
      "55it [00:01, 45.68it/s]\n",
      "8it [00:00, 41.47it/s]\n",
      "0it [00:00, ?it/s]"
     ]
    },
    {
     "name": "stdout",
     "output_type": "stream",
     "text": [
      "Segment #48 of 79: 8\n",
      "Segment #49 of 79: 13\n"
     ]
    },
    {
     "name": "stderr",
     "output_type": "stream",
     "text": [
      "13it [00:00, 43.32it/s]\n",
      "5it [00:00, 45.03it/s]"
     ]
    },
    {
     "name": "stdout",
     "output_type": "stream",
     "text": [
      "Segment #50 of 79: 20\n"
     ]
    },
    {
     "name": "stderr",
     "output_type": "stream",
     "text": [
      "20it [00:00, 45.27it/s]\n",
      "5it [00:00, 45.81it/s]"
     ]
    },
    {
     "name": "stdout",
     "output_type": "stream",
     "text": [
      "Segment #51 of 79: 56\n"
     ]
    },
    {
     "name": "stderr",
     "output_type": "stream",
     "text": [
      "56it [00:01, 46.04it/s]\n",
      "4it [00:00, 38.86it/s]\n",
      "0it [00:00, ?it/s]"
     ]
    },
    {
     "name": "stdout",
     "output_type": "stream",
     "text": [
      "Segment #52 of 79: 4\n",
      "Segment #53 of 79: 4\n"
     ]
    },
    {
     "name": "stderr",
     "output_type": "stream",
     "text": [
      "4it [00:00, 39.26it/s]\n",
      "5it [00:00, 46.05it/s]"
     ]
    },
    {
     "name": "stdout",
     "output_type": "stream",
     "text": [
      "Segment #54 of 79: 22\n"
     ]
    },
    {
     "name": "stderr",
     "output_type": "stream",
     "text": [
      "22it [00:00, 48.44it/s]\n",
      "2it [00:00, 18.85it/s]"
     ]
    },
    {
     "name": "stdout",
     "output_type": "stream",
     "text": [
      "Segment #55 of 79: 571\n"
     ]
    },
    {
     "name": "stderr",
     "output_type": "stream",
     "text": [
      "571it [00:15, 37.38it/s]\n",
      "6it [00:00, 45.22it/s]"
     ]
    },
    {
     "name": "stdout",
     "output_type": "stream",
     "text": [
      "Segment #56 of 79: 527\n"
     ]
    },
    {
     "name": "stderr",
     "output_type": "stream",
     "text": [
      "527it [00:12, 41.61it/s]\n",
      "5it [00:00, 42.96it/s]"
     ]
    },
    {
     "name": "stdout",
     "output_type": "stream",
     "text": [
      "Segment #57 of 79: 512\n"
     ]
    },
    {
     "name": "stderr",
     "output_type": "stream",
     "text": [
      "512it [00:11, 42.92it/s]\n",
      "5it [00:00, 45.61it/s]"
     ]
    },
    {
     "name": "stdout",
     "output_type": "stream",
     "text": [
      "Segment #58 of 79: 145\n"
     ]
    },
    {
     "name": "stderr",
     "output_type": "stream",
     "text": [
      "145it [00:03, 43.11it/s]\n",
      "4it [00:00, 35.67it/s]"
     ]
    },
    {
     "name": "stdout",
     "output_type": "stream",
     "text": [
      "Segment #59 of 79: 283\n"
     ]
    },
    {
     "name": "stderr",
     "output_type": "stream",
     "text": [
      "283it [00:06, 43.17it/s]\n",
      "1it [00:00, 5957.82it/s]\n",
      "1it [00:00, 23.08it/s]\n",
      "6it [00:00, 49.78it/s]"
     ]
    },
    {
     "name": "stdout",
     "output_type": "stream",
     "text": [
      "Segment #60 of 79: 1\n",
      "Segment #61 of 79: 1\n",
      "Segment #62 of 79: 5172\n"
     ]
    },
    {
     "name": "stderr",
     "output_type": "stream",
     "text": [
      "5172it [02:17, 42.59it/s]\n",
      "2it [00:00, 18.81it/s]"
     ]
    },
    {
     "name": "stdout",
     "output_type": "stream",
     "text": [
      "Segment #63 of 79: 981\n"
     ]
    },
    {
     "name": "stderr",
     "output_type": "stream",
     "text": [
      "981it [00:25, 38.93it/s]\n",
      "1it [00:00, 468.11it/s]\n",
      "1it [00:00, 1612.57it/s]\n",
      "1it [00:00, 1675.71it/s]\n",
      "1it [00:00, 587.85it/s]\n",
      "1it [00:00, 2933.08it/s]\n",
      "1it [00:00, 1307.86it/s]\n",
      "4it [00:00, 28.19it/s]"
     ]
    },
    {
     "name": "stdout",
     "output_type": "stream",
     "text": [
      "Segment #64 of 79: 1\n",
      "Segment #65 of 79: 1\n",
      "Segment #66 of 79: 1\n",
      "Segment #67 of 79: 1\n",
      "Segment #68 of 79: 1\n",
      "Segment #69 of 79: 1\n",
      "Segment #70 of 79: 747\n"
     ]
    },
    {
     "name": "stderr",
     "output_type": "stream",
     "text": [
      "747it [00:19, 38.71it/s]\n",
      "1it [00:00, 230.24it/s]\n",
      "1it [00:00, 471.80it/s]\n",
      "1it [00:00, 606.20it/s]\n",
      "1it [00:00, 1725.34it/s]\n",
      "1it [00:00, 844.77it/s]\n",
      "1it [00:00, 461.83it/s]\n",
      "5it [00:00, 35.11it/s]"
     ]
    },
    {
     "name": "stdout",
     "output_type": "stream",
     "text": [
      "Segment #71 of 79: 1\n",
      "Segment #72 of 79: 1\n",
      "Segment #73 of 79: 1\n",
      "Segment #74 of 79: 1\n",
      "Segment #75 of 79: 1\n",
      "Segment #76 of 79: 1\n",
      "Segment #77 of 79: 209\n"
     ]
    },
    {
     "name": "stderr",
     "output_type": "stream",
     "text": [
      "209it [00:08, 25.55it/s]\n",
      "2it [00:00, 12.56it/s]"
     ]
    },
    {
     "name": "stdout",
     "output_type": "stream",
     "text": [
      "Segment #78 of 79: 4\n"
     ]
    },
    {
     "name": "stderr",
     "output_type": "stream",
     "text": [
      "4it [00:00, 16.35it/s]\n"
     ]
    },
    {
     "name": "stdout",
     "output_type": "stream",
     "text": [
      "20 chrX.fa\n"
     ]
    },
    {
     "name": "stderr",
     "output_type": "stream",
     "text": [
      "3it [00:00, 26.08it/s]\n",
      "3it [00:00, 49.97it/s]\n",
      "1it [00:00, 803.04it/s]\n",
      "1it [00:00, 2116.20it/s]\n",
      "1it [00:00, 877.47it/s]\n",
      "1it [00:00, 3876.44it/s]\n",
      "1it [00:00, 3486.54it/s]\n",
      "0it [00:00, ?it/s]"
     ]
    },
    {
     "name": "stdout",
     "output_type": "stream",
     "text": [
      "Segment #0 of 33: 3\n",
      "Segment #1 of 33: 3\n",
      "Segment #2 of 33: 1\n",
      "Segment #3 of 33: 1\n",
      "Segment #4 of 33: 1\n",
      "Segment #5 of 33: 1\n",
      "Segment #6 of 33: 1\n",
      "Segment #7 of 33: 1\n"
     ]
    },
    {
     "name": "stderr",
     "output_type": "stream",
     "text": [
      "1it [00:00, 45.42it/s]\n",
      "4it [00:00, 34.73it/s]"
     ]
    },
    {
     "name": "stdout",
     "output_type": "stream",
     "text": [
      "Segment #8 of 33: 172\n"
     ]
    },
    {
     "name": "stderr",
     "output_type": "stream",
     "text": [
      "172it [00:05, 30.16it/s]\n",
      "1it [00:00, 248.52it/s]\n",
      "4it [00:00, 39.13it/s]"
     ]
    },
    {
     "name": "stdout",
     "output_type": "stream",
     "text": [
      "Segment #9 of 33: 1\n",
      "Segment #10 of 33: 3496\n"
     ]
    },
    {
     "name": "stderr",
     "output_type": "stream",
     "text": [
      "3496it [01:22, 42.32it/s]\n",
      "5it [00:00, 46.50it/s]"
     ]
    },
    {
     "name": "stdout",
     "output_type": "stream",
     "text": [
      "Segment #11 of 33: 1206\n"
     ]
    },
    {
     "name": "stderr",
     "output_type": "stream",
     "text": [
      "1206it [00:32, 37.22it/s]\n",
      "7it [00:00, 61.84it/s]"
     ]
    },
    {
     "name": "stdout",
     "output_type": "stream",
     "text": [
      "Segment #12 of 33: 70\n"
     ]
    },
    {
     "name": "stderr",
     "output_type": "stream",
     "text": [
      "70it [00:01, 45.17it/s]\n",
      "5it [00:00, 48.79it/s]"
     ]
    },
    {
     "name": "stdout",
     "output_type": "stream",
     "text": [
      "Segment #13 of 33: 827\n"
     ]
    },
    {
     "name": "stderr",
     "output_type": "stream",
     "text": [
      "827it [00:20, 41.10it/s]\n",
      "5it [00:00, 45.10it/s]"
     ]
    },
    {
     "name": "stdout",
     "output_type": "stream",
     "text": [
      "Segment #14 of 33: 13\n"
     ]
    },
    {
     "name": "stderr",
     "output_type": "stream",
     "text": [
      "13it [00:00, 45.02it/s]\n",
      "6it [00:00, 40.21it/s]\n",
      "0it [00:00, ?it/s]"
     ]
    },
    {
     "name": "stdout",
     "output_type": "stream",
     "text": [
      "Segment #15 of 33: 6\n",
      "Segment #16 of 33: 18\n"
     ]
    },
    {
     "name": "stderr",
     "output_type": "stream",
     "text": [
      "18it [00:00, 44.36it/s]\n",
      "7it [00:00, 42.27it/s]\n",
      "0it [00:00, ?it/s]"
     ]
    },
    {
     "name": "stdout",
     "output_type": "stream",
     "text": [
      "Segment #17 of 33: 7\n",
      "Segment #18 of 33: 41\n"
     ]
    },
    {
     "name": "stderr",
     "output_type": "stream",
     "text": [
      "41it [00:00, 45.54it/s]\n",
      "1it [00:00, 46.87it/s]\n",
      "4it [00:00, 40.56it/s]\n",
      "0it [00:00, ?it/s]"
     ]
    },
    {
     "name": "stdout",
     "output_type": "stream",
     "text": [
      "Segment #19 of 33: 1\n",
      "Segment #20 of 33: 4\n",
      "Segment #21 of 33: 101\n"
     ]
    },
    {
     "name": "stderr",
     "output_type": "stream",
     "text": [
      "101it [00:02, 45.69it/s]\n",
      "5it [00:00, 46.16it/s]"
     ]
    },
    {
     "name": "stdout",
     "output_type": "stream",
     "text": [
      "Segment #22 of 33: 62\n"
     ]
    },
    {
     "name": "stderr",
     "output_type": "stream",
     "text": [
      "62it [00:01, 45.77it/s]\n",
      "3it [00:00, 35.06it/s]\n",
      "5it [00:00, 45.25it/s]"
     ]
    },
    {
     "name": "stdout",
     "output_type": "stream",
     "text": [
      "Segment #23 of 33: 3\n",
      "Segment #24 of 33: 85\n"
     ]
    },
    {
     "name": "stderr",
     "output_type": "stream",
     "text": [
      "85it [00:01, 45.87it/s]\n",
      "3it [00:00, 35.76it/s]\n",
      "5it [00:00, 44.62it/s]"
     ]
    },
    {
     "name": "stdout",
     "output_type": "stream",
     "text": [
      "Segment #25 of 33: 3\n",
      "Segment #26 of 33: 30\n"
     ]
    },
    {
     "name": "stderr",
     "output_type": "stream",
     "text": [
      "30it [00:00, 45.14it/s]\n",
      "5it [00:00, 46.08it/s]"
     ]
    },
    {
     "name": "stdout",
     "output_type": "stream",
     "text": [
      "Segment #27 of 33: 5181\n"
     ]
    },
    {
     "name": "stderr",
     "output_type": "stream",
     "text": [
      "5181it [01:58, 40.46it/s]\n",
      "5it [00:00, 42.80it/s]"
     ]
    },
    {
     "name": "stdout",
     "output_type": "stream",
     "text": [
      "Segment #28 of 33: 140\n"
     ]
    },
    {
     "name": "stderr",
     "output_type": "stream",
     "text": [
      "140it [00:03, 37.55it/s]\n",
      "4it [00:00, 38.03it/s]"
     ]
    },
    {
     "name": "stdout",
     "output_type": "stream",
     "text": [
      "Segment #29 of 33: 71\n"
     ]
    },
    {
     "name": "stderr",
     "output_type": "stream",
     "text": [
      "71it [00:01, 42.67it/s]\n",
      "5it [00:00, 40.20it/s]"
     ]
    },
    {
     "name": "stdout",
     "output_type": "stream",
     "text": [
      "Segment #30 of 33: 428\n"
     ]
    },
    {
     "name": "stderr",
     "output_type": "stream",
     "text": [
      "428it [00:10, 39.45it/s]\n",
      "2it [00:00, 17.88it/s]"
     ]
    },
    {
     "name": "stdout",
     "output_type": "stream",
     "text": [
      "Segment #31 of 33: 2349\n"
     ]
    },
    {
     "name": "stderr",
     "output_type": "stream",
     "text": [
      "2349it [00:56, 41.93it/s]\n",
      "4it [00:00, 39.86it/s]"
     ]
    },
    {
     "name": "stdout",
     "output_type": "stream",
     "text": [
      "Segment #32 of 33: 1155\n"
     ]
    },
    {
     "name": "stderr",
     "output_type": "stream",
     "text": [
      "1155it [00:31, 36.73it/s]\n"
     ]
    },
    {
     "name": "stdout",
     "output_type": "stream",
     "text": [
      "21 chr7.fa\n"
     ]
    },
    {
     "name": "stderr",
     "output_type": "stream",
     "text": [
      "5it [00:00, 49.07it/s]"
     ]
    },
    {
     "name": "stdout",
     "output_type": "stream",
     "text": [
      "Segment #0 of 19: 22\n"
     ]
    },
    {
     "name": "stderr",
     "output_type": "stream",
     "text": [
      "22it [00:01, 20.04it/s]\n",
      "3it [00:00, 19.51it/s]"
     ]
    },
    {
     "name": "stdout",
     "output_type": "stream",
     "text": [
      "Segment #1 of 19: 5787\n"
     ]
    },
    {
     "name": "stderr",
     "output_type": "stream",
     "text": [
      "5787it [02:30, 38.56it/s]\n",
      "5it [00:00, 42.28it/s]"
     ]
    },
    {
     "name": "stdout",
     "output_type": "stream",
     "text": [
      "Segment #2 of 19: 10\n"
     ]
    },
    {
     "name": "stderr",
     "output_type": "stream",
     "text": [
      "10it [00:00, 42.44it/s]\n",
      "8it [00:00, 43.21it/s]\n",
      "0it [00:00, ?it/s]"
     ]
    },
    {
     "name": "stdout",
     "output_type": "stream",
     "text": [
      "Segment #3 of 19: 8\n",
      "Segment #4 of 19: 40\n"
     ]
    },
    {
     "name": "stderr",
     "output_type": "stream",
     "text": [
      "40it [00:00, 44.55it/s]\n",
      "5it [00:00, 41.51it/s]"
     ]
    },
    {
     "name": "stdout",
     "output_type": "stream",
     "text": [
      "Segment #5 of 19: 75\n"
     ]
    },
    {
     "name": "stderr",
     "output_type": "stream",
     "text": [
      "75it [00:01, 43.48it/s]\n",
      "5it [00:00, 44.65it/s]"
     ]
    },
    {
     "name": "stdout",
     "output_type": "stream",
     "text": [
      "Segment #6 of 19: 74\n"
     ]
    },
    {
     "name": "stderr",
     "output_type": "stream",
     "text": [
      "74it [00:01, 44.12it/s]\n",
      "5it [00:00, 44.40it/s]"
     ]
    },
    {
     "name": "stdout",
     "output_type": "stream",
     "text": [
      "Segment #7 of 19: 57\n"
     ]
    },
    {
     "name": "stderr",
     "output_type": "stream",
     "text": [
      "57it [00:01, 44.88it/s]\n",
      "4it [00:00, 34.22it/s]"
     ]
    },
    {
     "name": "stdout",
     "output_type": "stream",
     "text": [
      "Segment #8 of 19: 18\n"
     ]
    },
    {
     "name": "stderr",
     "output_type": "stream",
     "text": [
      "18it [00:00, 30.99it/s]\n",
      "3it [00:00, 26.52it/s]"
     ]
    },
    {
     "name": "stdout",
     "output_type": "stream",
     "text": [
      "Segment #9 of 19: 26\n"
     ]
    },
    {
     "name": "stderr",
     "output_type": "stream",
     "text": [
      "26it [00:00, 40.88it/s]\n",
      "5it [00:00, 43.24it/s]"
     ]
    },
    {
     "name": "stdout",
     "output_type": "stream",
     "text": [
      "Segment #10 of 19: 15\n"
     ]
    },
    {
     "name": "stderr",
     "output_type": "stream",
     "text": [
      "15it [00:00, 43.22it/s]\n",
      "5it [00:00, 42.64it/s]"
     ]
    },
    {
     "name": "stdout",
     "output_type": "stream",
     "text": [
      "Segment #11 of 19: 38\n"
     ]
    },
    {
     "name": "stderr",
     "output_type": "stream",
     "text": [
      "38it [00:00, 42.61it/s]\n",
      "1it [00:00, 48.94it/s]\n",
      "5it [00:00, 44.40it/s]"
     ]
    },
    {
     "name": "stdout",
     "output_type": "stream",
     "text": [
      "Segment #12 of 19: 1\n",
      "Segment #13 of 19: 43\n"
     ]
    },
    {
     "name": "stderr",
     "output_type": "stream",
     "text": [
      "43it [00:01, 37.68it/s]\n",
      "5it [00:00, 45.16it/s]"
     ]
    },
    {
     "name": "stdout",
     "output_type": "stream",
     "text": [
      "Segment #14 of 19: 8114\n"
     ]
    },
    {
     "name": "stderr",
     "output_type": "stream",
     "text": [
      "8114it [03:24, 39.61it/s]\n",
      "5it [00:00, 44.84it/s]"
     ]
    },
    {
     "name": "stdout",
     "output_type": "stream",
     "text": [
      "Segment #15 of 19: 1087\n"
     ]
    },
    {
     "name": "stderr",
     "output_type": "stream",
     "text": [
      "1087it [00:28, 37.53it/s]\n",
      "1it [00:00, 334.02it/s]\n",
      "1it [00:00, 936.02it/s]\n",
      "4it [00:00, 33.20it/s]"
     ]
    },
    {
     "name": "stdout",
     "output_type": "stream",
     "text": [
      "Segment #16 of 19: 1\n",
      "Segment #17 of 19: 1\n",
      "Segment #18 of 19: 475\n"
     ]
    },
    {
     "name": "stderr",
     "output_type": "stream",
     "text": [
      "475it [00:14, 33.81it/s]\n"
     ]
    },
    {
     "name": "stdout",
     "output_type": "stream",
     "text": [
      "22 chr11.fa\n"
     ]
    },
    {
     "name": "stderr",
     "output_type": "stream",
     "text": [
      "5it [00:00, 41.30it/s]"
     ]
    },
    {
     "name": "stdout",
     "output_type": "stream",
     "text": [
      "Segment #0 of 16: 5076\n"
     ]
    },
    {
     "name": "stderr",
     "output_type": "stream",
     "text": [
      "5076it [02:14, 37.88it/s]\n",
      "1it [00:00, 37.76it/s]\n",
      "3it [00:00, 45.67it/s]\n",
      "0it [00:00, ?it/s]"
     ]
    },
    {
     "name": "stdout",
     "output_type": "stream",
     "text": [
      "Segment #1 of 16: 1\n",
      "Segment #2 of 16: 3\n",
      "Segment #3 of 16: 50\n"
     ]
    },
    {
     "name": "stderr",
     "output_type": "stream",
     "text": [
      "50it [00:01, 45.66it/s]\n",
      "5it [00:00, 45.56it/s]"
     ]
    },
    {
     "name": "stdout",
     "output_type": "stream",
     "text": [
      "Segment #4 of 16: 32\n"
     ]
    },
    {
     "name": "stderr",
     "output_type": "stream",
     "text": [
      "32it [00:00, 45.60it/s]\n",
      "5it [00:00, 45.48it/s]"
     ]
    },
    {
     "name": "stdout",
     "output_type": "stream",
     "text": [
      "Segment #5 of 16: 18\n"
     ]
    },
    {
     "name": "stderr",
     "output_type": "stream",
     "text": [
      "18it [00:00, 44.96it/s]\n",
      "5it [00:00, 45.86it/s]"
     ]
    },
    {
     "name": "stdout",
     "output_type": "stream",
     "text": [
      "Segment #6 of 16: 24\n"
     ]
    },
    {
     "name": "stderr",
     "output_type": "stream",
     "text": [
      "24it [00:00, 45.92it/s]\n",
      "5it [00:00, 45.77it/s]"
     ]
    },
    {
     "name": "stdout",
     "output_type": "stream",
     "text": [
      "Segment #7 of 16: 84\n"
     ]
    },
    {
     "name": "stderr",
     "output_type": "stream",
     "text": [
      "84it [00:01, 45.51it/s]\n",
      "5it [00:00, 43.98it/s]"
     ]
    },
    {
     "name": "stdout",
     "output_type": "stream",
     "text": [
      "Segment #8 of 16: 31\n"
     ]
    },
    {
     "name": "stderr",
     "output_type": "stream",
     "text": [
      "31it [00:00, 44.80it/s]\n",
      "5it [00:00, 45.12it/s]"
     ]
    },
    {
     "name": "stdout",
     "output_type": "stream",
     "text": [
      "Segment #9 of 16: 45\n"
     ]
    },
    {
     "name": "stderr",
     "output_type": "stream",
     "text": [
      "45it [00:00, 45.51it/s]\n",
      "5it [00:00, 45.23it/s]"
     ]
    },
    {
     "name": "stdout",
     "output_type": "stream",
     "text": [
      "Segment #10 of 16: 35\n"
     ]
    },
    {
     "name": "stderr",
     "output_type": "stream",
     "text": [
      "35it [00:00, 45.47it/s]\n",
      "8it [00:00, 44.13it/s]\n",
      "0it [00:00, ?it/s]"
     ]
    },
    {
     "name": "stdout",
     "output_type": "stream",
     "text": [
      "Segment #11 of 16: 8\n",
      "Segment #12 of 16: 1643\n"
     ]
    },
    {
     "name": "stderr",
     "output_type": "stream",
     "text": [
      "1643it [00:55, 29.59it/s]\n",
      "3it [00:00, 19.39it/s]"
     ]
    },
    {
     "name": "stdout",
     "output_type": "stream",
     "text": [
      "Segment #13 of 16: 1692\n"
     ]
    },
    {
     "name": "stderr",
     "output_type": "stream",
     "text": [
      "1692it [00:45, 37.35it/s]\n",
      "5it [00:00, 36.36it/s]"
     ]
    },
    {
     "name": "stdout",
     "output_type": "stream",
     "text": [
      "Segment #14 of 16: 856\n"
     ]
    },
    {
     "name": "stderr",
     "output_type": "stream",
     "text": [
      "856it [00:20, 42.35it/s]\n",
      "5it [00:00, 45.43it/s]"
     ]
    },
    {
     "name": "stdout",
     "output_type": "stream",
     "text": [
      "Segment #15 of 16: 3851\n"
     ]
    },
    {
     "name": "stderr",
     "output_type": "stream",
     "text": [
      "3851it [01:35, 40.30it/s]\n"
     ]
    },
    {
     "name": "stdout",
     "output_type": "stream",
     "text": [
      "23 chr16.fa\n"
     ]
    },
    {
     "name": "stderr",
     "output_type": "stream",
     "text": [
      "1it [00:00,  5.49it/s]"
     ]
    },
    {
     "name": "stdout",
     "output_type": "stream",
     "text": [
      "Segment #0 of 21: 1842\n"
     ]
    },
    {
     "name": "stderr",
     "output_type": "stream",
     "text": [
      "1842it [01:00, 30.67it/s]\n",
      "3it [00:00, 25.62it/s]"
     ]
    },
    {
     "name": "stdout",
     "output_type": "stream",
     "text": [
      "Segment #1 of 21: 1472\n"
     ]
    },
    {
     "name": "stderr",
     "output_type": "stream",
     "text": [
      "1472it [00:42, 34.81it/s]\n",
      "4it [00:00, 39.40it/s]"
     ]
    },
    {
     "name": "stdout",
     "output_type": "stream",
     "text": [
      "Segment #2 of 21: 12\n"
     ]
    },
    {
     "name": "stderr",
     "output_type": "stream",
     "text": [
      "12it [00:00, 46.58it/s]\n",
      "3it [00:00, 27.96it/s]"
     ]
    },
    {
     "name": "stdout",
     "output_type": "stream",
     "text": [
      "Segment #3 of 21: 84\n"
     ]
    },
    {
     "name": "stderr",
     "output_type": "stream",
     "text": [
      "84it [00:02, 38.01it/s]\n",
      "3it [00:00, 27.64it/s]"
     ]
    },
    {
     "name": "stdout",
     "output_type": "stream",
     "text": [
      "Segment #4 of 21: 18\n"
     ]
    },
    {
     "name": "stderr",
     "output_type": "stream",
     "text": [
      "18it [00:00, 32.65it/s]\n",
      "1it [00:00, 41.94it/s]\n",
      "1it [00:00, 54.99it/s]\n",
      "4it [00:00, 34.18it/s]"
     ]
    },
    {
     "name": "stdout",
     "output_type": "stream",
     "text": [
      "Segment #5 of 21: 1\n",
      "Segment #6 of 21: 1\n",
      "Segment #7 of 21: 167\n"
     ]
    },
    {
     "name": "stderr",
     "output_type": "stream",
     "text": [
      "167it [00:04, 38.89it/s]\n",
      "1it [00:00, 604.45it/s]\n",
      "1it [00:00, 135.79it/s]\n",
      "2it [00:00, 40.39it/s]\n",
      "1it [00:00, 137.83it/s]\n",
      "5it [00:00, 41.57it/s]"
     ]
    },
    {
     "name": "stdout",
     "output_type": "stream",
     "text": [
      "Segment #8 of 21: 1\n",
      "Segment #9 of 21: 1\n",
      "Segment #10 of 21: 2\n",
      "Segment #11 of 21: 1\n",
      "Segment #12 of 21: 33\n"
     ]
    },
    {
     "name": "stderr",
     "output_type": "stream",
     "text": [
      "33it [00:00, 43.74it/s]\n",
      "5it [00:00, 45.88it/s]"
     ]
    },
    {
     "name": "stdout",
     "output_type": "stream",
     "text": [
      "Segment #13 of 21: 79\n"
     ]
    },
    {
     "name": "stderr",
     "output_type": "stream",
     "text": [
      "79it [00:01, 45.49it/s]\n",
      "5it [00:00, 45.68it/s]"
     ]
    },
    {
     "name": "stdout",
     "output_type": "stream",
     "text": [
      "Segment #14 of 21: 48\n"
     ]
    },
    {
     "name": "stderr",
     "output_type": "stream",
     "text": [
      "48it [00:01, 45.17it/s]\n",
      "1it [00:00, 43.95it/s]\n",
      "5it [00:00, 43.78it/s]"
     ]
    },
    {
     "name": "stdout",
     "output_type": "stream",
     "text": [
      "Segment #15 of 21: 1\n",
      "Segment #16 of 21: 30\n"
     ]
    },
    {
     "name": "stderr",
     "output_type": "stream",
     "text": [
      "30it [00:00, 44.38it/s]\n",
      "1it [00:00, 122.95it/s]\n",
      "1it [00:00, 88.32it/s]\n",
      "3it [00:00, 22.27it/s]"
     ]
    },
    {
     "name": "stdout",
     "output_type": "stream",
     "text": [
      "Segment #17 of 21: 1\n",
      "Segment #18 of 21: 1\n",
      "Segment #19 of 21: 4198\n"
     ]
    },
    {
     "name": "stderr",
     "output_type": "stream",
     "text": [
      "4198it [01:55, 36.40it/s]\n",
      "0it [00:00, ?it/s]"
     ]
    },
    {
     "name": "stdout",
     "output_type": "stream",
     "text": [
      "Segment #20 of 21: 186\n"
     ]
    },
    {
     "name": "stderr",
     "output_type": "stream",
     "text": [
      "186it [00:09, 20.36it/s]\n"
     ]
    }
   ],
   "source": [
    "final_rg, errors = train_rgram(\n",
    "    filenames, \n",
    "    rgram\n",
    ")"
   ]
  },
  {
   "cell_type": "code",
   "execution_count": 14,
   "metadata": {},
   "outputs": [],
   "source": [
    "with open(\"rgram_hg38.pkl\", \"wb\") as oh:\n",
    "    pkl.dump(final_rg, oh)"
   ]
  },
  {
   "cell_type": "markdown",
   "metadata": {},
   "source": [
    "### Convert genome to rgrams"
   ]
  },
  {
   "cell_type": "code",
   "execution_count": 15,
   "metadata": {},
   "outputs": [],
   "source": [
    "def get_distances(kmers, f):\n",
    "    return(\n",
    "        np.array([f(*a) for a in itertools.combinations(kmers, 2)])\n",
    "    )\n",
    "\n",
    "def nw_distance(a,b):\n",
    "    return(\n",
    "        pairwise2.align.globalxx(a, b)[0][2]\n",
    "    )\n",
    "\n",
    "def compute_spearman(a, b):\n",
    "    s = spearmanr(a,b)\n",
    "    return(s[0], s[1])\n",
    "\n",
    "def boxplot_of_distances(dnw,d2,name):\n",
    "    to_bp = [d2[dnw == a] for a in np.unique(dnw)]\n",
    "    plt.boxplot(to_bp, notch=True, bootstrap=1000)\n",
    "    plt.xlabel(\"Needleman-Wunsch score\")\n",
    "    plt.ylabel(name)\n",
    "    plt.grid(True)\n",
    "    plt.show()\n",
    "    \n",
    "def generate_kmers(n, ks):\n",
    "    chosen = np.random.choice(\n",
    "        np.arange(0, np.sum(4**np.array(ks))-1),\n",
    "        size=n, replace=False\n",
    "    )\n",
    "    iters = itertools.chain(\n",
    "        *[itertools.product(\"ATGC\", repeat=a) for a in ks]\n",
    "    )\n",
    "    ans = []\n",
    "    i = 0\n",
    "    for a in iters:\n",
    "        if i in chosen:\n",
    "            ans.append(\"\".join(list(a)))\n",
    "        if len(ans) == n:\n",
    "            break\n",
    "        i += 1\n",
    "    return(ans)"
   ]
  },
  {
   "cell_type": "code",
   "execution_count": 17,
   "metadata": {},
   "outputs": [],
   "source": [
    "def convert_to_rgrams(filenames, outdir, rgram):\n",
    "    rgram_amounts = {a[1]:0 for a in rgram.decompressed()}\n",
    "    error_chunks = []\n",
    "    if not op.exists(outdir):\n",
    "        os.makedirs(outdir)\n",
    "    for i,a in enumerate(filenames):\n",
    "        print(i,a)\n",
    "        current_chr = list(\n",
    "            filter(\n",
    "                lambda x: len(x) != 0,\n",
    "                str([l for l in SeqIO.parse(op.join(HG38PATH, a), \"fasta\")][0].seq).upper().split(\"N\")\n",
    "            )\n",
    "        )\n",
    "        total_segments = len(current_chr)\n",
    "        segment_results = []\n",
    "        for cnt, non_overlapping in tqdm(list(enumerate(current_chr))):\n",
    "            try:\n",
    "                sgm = rgram.segment(\"\".join(non_overlapping))\n",
    "                segment_results.append(sgm)\n",
    "                for rrr in sgm.split(\" \"):\n",
    "                    if rrr in rgram_amounts:\n",
    "                        rgram_amounts[rrr] += 1\n",
    "            except Exception as e:\n",
    "                print(e)\n",
    "                error_chunk.append(non_overlapping)\n",
    "        with open(op.join(outdir, a+\".rgram\"), \"w\") as oh:\n",
    "            print(\"Writing to file\")\n",
    "            for sgmres in tqdm(segment_results):\n",
    "                oh.write(sgmres+\"\\n\")\n",
    "    return(error_chunks, rgram_amounts)"
   ]
  },
  {
   "cell_type": "code",
   "execution_count": 28,
   "metadata": {
    "scrolled": true
   },
   "outputs": [
    {
     "name": "stdout",
     "output_type": "stream",
     "text": [
      "0 chr12.fa\n"
     ]
    },
    {
     "name": "stderr",
     "output_type": "stream",
     "text": [
      "100%|██████████| 29/29 [08:18<00:00, 30.89s/it]\n",
      "100%|██████████| 29/29 [00:00<00:00, 151.48it/s]"
     ]
    },
    {
     "name": "stdout",
     "output_type": "stream",
     "text": [
      "Writing to file\n"
     ]
    },
    {
     "name": "stderr",
     "output_type": "stream",
     "text": [
      "\n"
     ]
    },
    {
     "name": "stdout",
     "output_type": "stream",
     "text": [
      "1 chr19.fa\n"
     ]
    },
    {
     "name": "stderr",
     "output_type": "stream",
     "text": [
      "100%|██████████| 8/8 [03:31<00:00, 56.25s/it]\n",
      "100%|██████████| 8/8 [00:00<00:00, 110.18it/s]\n"
     ]
    },
    {
     "name": "stdout",
     "output_type": "stream",
     "text": [
      "Writing to file\n",
      "2 chr22.fa\n"
     ]
    },
    {
     "name": "stderr",
     "output_type": "stream",
     "text": [
      "100%|██████████| 48/48 [02:24<00:00, 25.84s/it]\n",
      "100%|██████████| 48/48 [00:00<00:00, 932.97it/s]\n"
     ]
    },
    {
     "name": "stdout",
     "output_type": "stream",
     "text": [
      "Writing to file\n",
      "3 chr4.fa\n"
     ]
    },
    {
     "name": "stderr",
     "output_type": "stream",
     "text": [
      "100%|██████████| 17/17 [11:49<00:00, 109.06s/it]\n",
      "  0%|          | 0/17 [00:00<?, ?it/s]"
     ]
    },
    {
     "name": "stdout",
     "output_type": "stream",
     "text": [
      "Writing to file\n"
     ]
    },
    {
     "name": "stderr",
     "output_type": "stream",
     "text": [
      "100%|██████████| 17/17 [00:00<00:00, 61.74it/s]\n"
     ]
    },
    {
     "name": "stdout",
     "output_type": "stream",
     "text": [
      "4 chr21.fa\n"
     ]
    },
    {
     "name": "stderr",
     "output_type": "stream",
     "text": [
      "100%|██████████| 51/51 [02:22<00:00,  6.64s/it]\n",
      "100%|██████████| 51/51 [00:00<00:00, 1249.49it/s]\n"
     ]
    },
    {
     "name": "stdout",
     "output_type": "stream",
     "text": [
      "Writing to file\n",
      "5 chr3.fa\n"
     ]
    },
    {
     "name": "stderr",
     "output_type": "stream",
     "text": [
      "100%|██████████| 28/28 [12:05<00:00, 117.70s/it]\n",
      " 32%|███▏      | 9/28 [00:00<00:00, 72.07it/s]"
     ]
    },
    {
     "name": "stdout",
     "output_type": "stream",
     "text": [
      "Writing to file\n"
     ]
    },
    {
     "name": "stderr",
     "output_type": "stream",
     "text": [
      "100%|██████████| 28/28 [00:00<00:00, 80.81it/s]\n"
     ]
    },
    {
     "name": "stdout",
     "output_type": "stream",
     "text": [
      "6 chr6.fa\n"
     ]
    },
    {
     "name": "stderr",
     "output_type": "stream",
     "text": [
      "100%|██████████| 15/15 [10:22<00:00, 71.38s/it]\n",
      " 20%|██        | 3/15 [00:00<00:00, 29.96it/s]"
     ]
    },
    {
     "name": "stdout",
     "output_type": "stream",
     "text": [
      "Writing to file\n"
     ]
    },
    {
     "name": "stderr",
     "output_type": "stream",
     "text": [
      "100%|██████████| 15/15 [00:00<00:00, 52.14it/s]\n"
     ]
    },
    {
     "name": "stdout",
     "output_type": "stream",
     "text": [
      "7 chr9.fa\n"
     ]
    },
    {
     "name": "stderr",
     "output_type": "stream",
     "text": [
      "100%|██████████| 45/45 [07:14<00:00, 27.65s/it]  \n",
      "100%|██████████| 45/45 [00:00<00:00, 358.48it/s]\n"
     ]
    },
    {
     "name": "stdout",
     "output_type": "stream",
     "text": [
      "Writing to file\n",
      "8 chr8.fa\n"
     ]
    },
    {
     "name": "stderr",
     "output_type": "stream",
     "text": [
      "100%|██████████| 11/11 [08:47<00:00, 85.65s/it]\n",
      "100%|██████████| 11/11 [00:00<00:00, 70.30it/s]\n"
     ]
    },
    {
     "name": "stdout",
     "output_type": "stream",
     "text": [
      "Writing to file\n",
      "9 chrY.fa\n"
     ]
    },
    {
     "name": "stderr",
     "output_type": "stream",
     "text": [
      "100%|██████████| 60/60 [01:33<00:00,  3.92s/it]\n",
      "100%|██████████| 60/60 [00:00<00:00, 2221.52it/s]\n"
     ]
    },
    {
     "name": "stdout",
     "output_type": "stream",
     "text": [
      "Writing to file\n",
      "10 chr20.fa\n"
     ]
    },
    {
     "name": "stderr",
     "output_type": "stream",
     "text": [
      "100%|██████████| 89/89 [03:49<00:00, 32.48s/it]\n",
      "100%|██████████| 89/89 [00:00<00:00, 791.46it/s]\n"
     ]
    },
    {
     "name": "stdout",
     "output_type": "stream",
     "text": [
      "Writing to file\n",
      "11 chr13.fa\n"
     ]
    },
    {
     "name": "stderr",
     "output_type": "stream",
     "text": [
      "100%|██████████| 22/22 [05:57<00:00, 19.84s/it]\n",
      "100%|██████████| 22/22 [00:00<00:00, 157.05it/s]\n"
     ]
    },
    {
     "name": "stdout",
     "output_type": "stream",
     "text": [
      "Writing to file\n",
      "12 chr14.fa\n"
     ]
    },
    {
     "name": "stderr",
     "output_type": "stream",
     "text": [
      "100%|██████████| 24/24 [05:31<00:00, 97.27s/it]\n",
      "100%|██████████| 24/24 [00:00<00:00, 171.90it/s]\n"
     ]
    },
    {
     "name": "stdout",
     "output_type": "stream",
     "text": [
      "Writing to file\n",
      "13 chr18.fa\n"
     ]
    },
    {
     "name": "stderr",
     "output_type": "stream",
     "text": [
      "100%|██████████| 60/60 [04:46<00:00,  4.78s/it]\n",
      "100%|██████████| 60/60 [00:00<00:00, 658.51it/s]\n"
     ]
    },
    {
     "name": "stdout",
     "output_type": "stream",
     "text": [
      "Writing to file\n",
      "14 chr1.fa\n"
     ]
    },
    {
     "name": "stderr",
     "output_type": "stream",
     "text": [
      "100%|██████████| 167/167 [14:01<00:00, 33.32s/it] \n",
      "  5%|▍         | 8/167 [00:00<00:03, 46.86it/s]"
     ]
    },
    {
     "name": "stdout",
     "output_type": "stream",
     "text": [
      "Writing to file\n"
     ]
    },
    {
     "name": "stderr",
     "output_type": "stream",
     "text": [
      "100%|██████████| 167/167 [00:00<00:00, 519.42it/s]\n"
     ]
    },
    {
     "name": "stdout",
     "output_type": "stream",
     "text": [
      "15 chr2.fa\n"
     ]
    },
    {
     "name": "stderr",
     "output_type": "stream",
     "text": [
      "100%|██████████| 34/34 [14:38<00:00, 54.39s/it] \n",
      " 26%|██▋       | 9/34 [00:00<00:00, 77.24it/s]"
     ]
    },
    {
     "name": "stdout",
     "output_type": "stream",
     "text": [
      "Writing to file\n"
     ]
    },
    {
     "name": "stderr",
     "output_type": "stream",
     "text": [
      "100%|██████████| 34/34 [00:00<00:00, 98.44it/s]\n"
     ]
    },
    {
     "name": "stdout",
     "output_type": "stream",
     "text": [
      "16 chr17.fa\n"
     ]
    },
    {
     "name": "stderr",
     "output_type": "stream",
     "text": [
      "100%|██████████| 47/47 [04:58<00:00,  7.24s/it]\n",
      "100%|██████████| 47/47 [00:00<00:00, 411.66it/s]\n"
     ]
    },
    {
     "name": "stdout",
     "output_type": "stream",
     "text": [
      "Writing to file\n",
      "17 chr5.fa\n"
     ]
    },
    {
     "name": "stderr",
     "output_type": "stream",
     "text": [
      "100%|██████████| 36/36 [11:04<00:00, 65.45s/it]\n",
      "  0%|          | 0/36 [00:00<?, ?it/s]"
     ]
    },
    {
     "name": "stdout",
     "output_type": "stream",
     "text": [
      "Writing to file\n"
     ]
    },
    {
     "name": "stderr",
     "output_type": "stream",
     "text": [
      "100%|██████████| 36/36 [00:00<00:00, 145.21it/s]\n"
     ]
    },
    {
     "name": "stdout",
     "output_type": "stream",
     "text": [
      "18 chr15.fa\n"
     ]
    },
    {
     "name": "stderr",
     "output_type": "stream",
     "text": [
      "100%|██████████| 18/18 [05:07<00:00, 43.89s/it]\n",
      "100%|██████████| 18/18 [00:00<00:00, 125.31it/s]\n"
     ]
    },
    {
     "name": "stdout",
     "output_type": "stream",
     "text": [
      "Writing to file\n",
      "19 chr10.fa\n"
     ]
    },
    {
     "name": "stderr",
     "output_type": "stream",
     "text": [
      "100%|██████████| 79/79 [08:05<00:00, 10.74s/it]  \n",
      "100%|██████████| 79/79 [00:00<00:00, 468.82it/s]\n"
     ]
    },
    {
     "name": "stdout",
     "output_type": "stream",
     "text": [
      "Writing to file\n",
      "20 chrX.fa\n"
     ]
    },
    {
     "name": "stderr",
     "output_type": "stream",
     "text": [
      "100%|██████████| 33/33 [09:21<00:00, 43.02s/it]\n",
      "100%|██████████| 33/33 [00:00<00:00, 166.84it/s]\n"
     ]
    },
    {
     "name": "stdout",
     "output_type": "stream",
     "text": [
      "Writing to file\n",
      "21 chr7.fa\n"
     ]
    },
    {
     "name": "stderr",
     "output_type": "stream",
     "text": [
      "100%|██████████| 19/19 [09:40<00:00, 54.67s/it]\n",
      "  0%|          | 0/19 [00:00<?, ?it/s]"
     ]
    },
    {
     "name": "stdout",
     "output_type": "stream",
     "text": [
      "Writing to file\n"
     ]
    },
    {
     "name": "stderr",
     "output_type": "stream",
     "text": [
      "100%|██████████| 19/19 [00:00<00:00, 80.32it/s]\n"
     ]
    },
    {
     "name": "stdout",
     "output_type": "stream",
     "text": [
      "22 chr11.fa\n"
     ]
    },
    {
     "name": "stderr",
     "output_type": "stream",
     "text": [
      "100%|██████████| 16/16 [08:00<00:00, 64.16s/it]\n",
      "100%|██████████| 16/16 [00:00<00:00, 124.24it/s]\n"
     ]
    },
    {
     "name": "stdout",
     "output_type": "stream",
     "text": [
      "Writing to file\n",
      "23 chr16.fa\n"
     ]
    },
    {
     "name": "stderr",
     "output_type": "stream",
     "text": [
      "100%|██████████| 21/21 [04:49<00:00, 14.18s/it]\n",
      "100%|██████████| 21/21 [00:00<00:00, 226.69it/s]\n"
     ]
    },
    {
     "name": "stdout",
     "output_type": "stream",
     "text": [
      "Writing to file\n"
     ]
    }
   ],
   "source": [
    "errors, rgram_amounts = convert_to_rgrams(\n",
    "    filenames, \"/home/bakirillov/HDD/data/genomes/HumanHG38_dna2vec/rgram/\",\n",
    "    final_rg\n",
    ")"
   ]
  },
  {
   "cell_type": "code",
   "execution_count": 29,
   "metadata": {},
   "outputs": [
    {
     "data": {
      "text/plain": [
       "{'GGGGTGAGGGTATTGTGACACAGCCCTTT': 1,\n",
       " 'GGGGTGAGGGTATTGTGACACAGCCCTT': 0,\n",
       " 'GGGGTGAGGGTATTGTGACACAGCCC': 0,\n",
       " 'GGGGTGAGGGTATTGTGACACAGCC': 0,\n",
       " 'AACCCTAACCCTAACCCTAACCCT': 212,\n",
       " 'GGGGTGAGGGTATTGTGACACAG': 0,\n",
       " 'GGGGTGAGGGTATTGTGACACA': 0,\n",
       " 'CCCAGGCACTGAGAAGCAAAA': 1,\n",
       " 'GGGGTGAGGGTATTGTGACAC': 0,\n",
       " 'CCCAGGCACTGAGAAGCAAA': 0,\n",
       " 'GGGGTGAGGGTATTGTGACA': 0,\n",
       " 'AACCCTAACCCTAACCCTAA': 52,\n",
       " 'CCCAGGCACTGAGAAGCAA': 0,\n",
       " 'GGGGTGAGGGTATTGTGA': 0,\n",
       " 'GCCGGCGCAGGCGCAGAG': 77,\n",
       " 'CCCAGGCACTGAGAAGC': 0,\n",
       " 'CCCAGGCACTGAGAAG': 3,\n",
       " 'TTGCTAAAGCTTCAGA': 2,\n",
       " 'CCCAGGCACTGAGAA': 10,\n",
       " 'TTGCTAAAGCTTCAG': 1,\n",
       " 'GGCGCAGGCGCAGAG': 37,\n",
       " 'TTGCTAAAGCTTCA': 10,\n",
       " 'GGGGTGAGGGTATT': 12,\n",
       " 'CCCAGGCACTGAG': 174,\n",
       " 'TTGCTAAAGCTTC': 32,\n",
       " 'CCCAGGCACTGA': 310,\n",
       " 'TTGCTAAAGCTT': 220,\n",
       " 'CCCTAACCCTAA': 579,\n",
       " 'GGGGTGAGGGTA': 248,\n",
       " 'GAAGGATGATGG': 486,\n",
       " 'AACCCTAACCCT': 308,\n",
       " 'GTCCTGTGGGT': 918,\n",
       " 'CCCAGGCACTG': 1796,\n",
       " 'CGCTCCCTAGA': 140,\n",
       " 'GGGGTGAGGGT': 1727,\n",
       " 'CCCAGGCACT': 3441,\n",
       " 'CCATTCCATT': 20675,\n",
       " 'TTGCTAAAGC': 3168,\n",
       " 'GATTCCATTC': 15357,\n",
       " 'GCTCCCTAGA': 1614,\n",
       " 'GAATGGAATC': 16617,\n",
       " 'CGAATGGAAT': 6694,\n",
       " 'CCCTAACCCT': 2422,\n",
       " 'ATTCCATTCC': 5703,\n",
       " 'GAATGGAAT': 39800,\n",
       " 'CCCAGGCAC': 12184,\n",
       " 'CCCCTCCCA': 31442,\n",
       " 'GGGGTGAGG': 21937,\n",
       " 'TGGGGGAAA': 37266,\n",
       " 'GGGGTGAGC': 10967,\n",
       " 'ATTCCATTC': 15589,\n",
       " 'GGCGCAGGC': 4084,\n",
       " 'ATCCATCC': 64133,\n",
       " 'CCCAGGCA': 74096,\n",
       " 'GGAATCAT': 55855,\n",
       " 'TTGCTAAA': 76202,\n",
       " 'CCTTCCTT': 203049,\n",
       " 'GCCAGCCA': 58601,\n",
       " 'CACACACA': 368788,\n",
       " 'TGGGGGAA': 54307,\n",
       " 'CCACCAGA': 56151,\n",
       " 'TCCATCCA': 54176,\n",
       " 'GTGTTGGG': 72143,\n",
       " 'ATTCCATT': 104439,\n",
       " 'GTGTGTGT': 358962,\n",
       " 'ATGGATGG': 78783,\n",
       " 'AACCCTAA': 42383,\n",
       " 'TGGATGG': 147928,\n",
       " 'GGCCTCT': 217607,\n",
       " 'GAGTGGA': 197196,\n",
       " 'CCATTCC': 197663,\n",
       " 'TTGCTAA': 149596,\n",
       " 'ATATATA': 969973,\n",
       " 'CACACAC': 184741,\n",
       " 'CCCTAGA': 137934,\n",
       " 'CCCAGCT': 735175,\n",
       " 'CGAATGG': 25962,\n",
       " 'TTAGGGT': 148225,\n",
       " 'GGGGTGA': 120279,\n",
       " 'CGGGAGG': 257538,\n",
       " 'GTCAGTG': 173863,\n",
       " 'GTGTGTG': 212415,\n",
       " 'ATCCAT': 772449,\n",
       " 'CCCTGA': 802970,\n",
       " 'GGATGG': 556855,\n",
       " 'GTGTGG': 748912,\n",
       " 'GGCCCA': 572715,\n",
       " 'ATCTGT': 1010723,\n",
       " 'CCCAGG': 1569034,\n",
       " 'CGAATG': 74597,\n",
       " 'CACAGG': 943083,\n",
       " 'CCTTCC': 925896,\n",
       " 'GATGGT': 502969,\n",
       " 'GCCAGC': 554579,\n",
       " 'GGAATC': 496171,\n",
       " 'GCAGGC': 653308,\n",
       " 'ACTCTT': 1075790,\n",
       " 'TGGGGG': 683901,\n",
       " 'CTCTGT': 1603412,\n",
       " 'GTGGGT': 578599,\n",
       " 'GCCACA': 692619,\n",
       " 'GAGTGT': 496224,\n",
       " 'GTCTCT': 982911,\n",
       " 'CCCTAA': 486134,\n",
       " 'GATATT': 1168273,\n",
       " 'GTCAGT': 345289,\n",
       " 'ACCACC': 654321,\n",
       " 'GAATGG': 802805,\n",
       " 'CATCAT': 903842,\n",
       " 'GATTCC': 504809,\n",
       " 'TGGAGG': 1021089,\n",
       " 'GCCCCA': 565596,\n",
       " 'ATGGAT': 653104,\n",
       " 'TGATGG': 568192,\n",
       " 'GAAGGA': 1139035,\n",
       " 'GCCAGG': 1204312,\n",
       " 'ACCCCA': 759131,\n",
       " 'CAGGCA': 783064,\n",
       " 'GCAGAG': 1048245,\n",
       " 'GGCGCA': 140726,\n",
       " 'AACCCT': 578238,\n",
       " 'CCTCA': 3956439,\n",
       " 'GAATG': 2395678,\n",
       " 'GCCCA': 1701261,\n",
       " 'TGGAT': 1972112,\n",
       " 'TGGGT': 2303339,\n",
       " 'GGCCT': 2116218,\n",
       " 'TGAAT': 3206160,\n",
       " 'CAAAT': 4837508,\n",
       " 'GTGGA': 1520679,\n",
       " 'GTCCT': 1838264,\n",
       " 'CCCAG': 1976833,\n",
       " 'GGTGT': 1593732,\n",
       " 'GACGG': 496832,\n",
       " 'GAGGG': 2134438,\n",
       " 'TTGCT': 3565315,\n",
       " 'GATGG': 821418,\n",
       " 'CGAAT': 255830,\n",
       " 'CCTCT': 3145760,\n",
       " 'TTTCA': 6145496,\n",
       " 'ATCAT': 2424361,\n",
       " 'GGAAT': 1495217,\n",
       " 'ATGGA': 1428919,\n",
       " 'ACTCT': 1835567,\n",
       " 'GCACA': 2303855,\n",
       " 'ACACA': 3081564,\n",
       " 'TTAGG': 1917622,\n",
       " 'GCTCC': 1587977,\n",
       " 'GTCCC': 1112754,\n",
       " 'CAGCC': 2323713,\n",
       " 'TCCAT': 2183959,\n",
       " 'CCACC': 1915269,\n",
       " 'CTCCA': 1800951,\n",
       " 'GGGGT': 1003731,\n",
       " 'GTAGG': 1245288,\n",
       " 'AATGA': 3121990,\n",
       " 'CCATT': 1965646,\n",
       " 'ATTCC': 1523035,\n",
       " 'CCTGG': 2494532,\n",
       " 'CCCCC': 844005,\n",
       " 'CCAGG': 1078647,\n",
       " 'GCCCT': 1111281,\n",
       " 'CATTC': 1834215,\n",
       " 'ATTCG': 202195,\n",
       " 'ATATT': 4263567,\n",
       " 'CTCCT': 2607549,\n",
       " 'CACCA': 1574614,\n",
       " 'GAGAT': 2542403,\n",
       " 'GAGCT': 2152970,\n",
       " 'GAGCC': 1334648,\n",
       " 'CTGCC': 1550025,\n",
       " 'GGGGG': 300955,\n",
       " 'ACCCT': 797583,\n",
       " 'ACAGG': 2025150,\n",
       " 'GAAGA': 3314475,\n",
       " 'GCCTT': 1218366,\n",
       " 'GCGCC': 340212,\n",
       " 'GCTGG': 2561476,\n",
       " 'CCCCT': 871730,\n",
       " 'GCAGG': 2150012,\n",
       " 'CCCCA': 456910,\n",
       " 'CCCC': 608530,\n",
       " 'TCAC': 7117237,\n",
       " 'CATA': 7161516,\n",
       " 'GATA': 5724180,\n",
       " 'TATA': 9530741,\n",
       " 'GAGT': 7035361,\n",
       " 'TTGC': 3978820,\n",
       " 'GATG': 4587572,\n",
       " 'ATTT': 18498420,\n",
       " 'GCCA': 3885061,\n",
       " 'GCAG': 5529380,\n",
       " 'ACTC': 3257732,\n",
       " 'TTCC': 5412268,\n",
       " 'GTTT': 10190329,\n",
       " 'TGGT': 6318422,\n",
       " 'GGGT': 1162526,\n",
       " 'GTGA': 5173287,\n",
       " 'CTCC': 1673643,\n",
       " 'ATCT': 8948497,\n",
       " 'GAAT': 2384356,\n",
       " 'CTAT': 3749500,\n",
       " 'GCGC': 614139,\n",
       " 'GAGC': 1760305,\n",
       " 'TAGA': 5524644,\n",
       " 'GCCC': 566540,\n",
       " 'GAGA': 5918570,\n",
       " 'ACAC': 2821362,\n",
       " 'ATGA': 2722714,\n",
       " 'CGGG': 998441,\n",
       " 'GGCC': 607071,\n",
       " 'GGAA': 6059151,\n",
       " 'GGCT': 5839863,\n",
       " 'CTCT': 3470819,\n",
       " 'CTTT': 11141016,\n",
       " 'CATT': 3195635,\n",
       " 'CACA': 1199149,\n",
       " 'TGAG': 1624016,\n",
       " 'TTCA': 4849647,\n",
       " 'GTAT': 2981909,\n",
       " 'GTGT': 3857498,\n",
       " 'GGAT': 1149116,\n",
       " 'GGCA': 3365712,\n",
       " 'CCAT': 1300603,\n",
       " 'GCCT': 2000476,\n",
       " 'AAAT': 13286320,\n",
       " 'CATC': 1772854,\n",
       " 'ATTC': 1753731,\n",
       " 'TCTC': 2024817,\n",
       " 'CACT': 2117639,\n",
       " 'CAGA': 4323769,\n",
       " 'GTCC': 823321,\n",
       " 'CACC': 717254,\n",
       " 'GCGG': 571692,\n",
       " 'TGGA': 851491,\n",
       " 'ATGG': 809931,\n",
       " 'AGGA': 1946848,\n",
       " 'CGCC': 128775,\n",
       " 'CAGT': 2961266,\n",
       " 'CTCA': 1614387,\n",
       " 'ATAT': 905890,\n",
       " 'ATCC': 1792065,\n",
       " 'GGGA': 1986042,\n",
       " 'AAGG': 3050076,\n",
       " 'TGTG': 1960938,\n",
       " 'CAAA': 8008188,\n",
       " 'CTGA': 3471749,\n",
       " 'TTGG': 942195,\n",
       " 'TGCA': 2279850,\n",
       " 'AGGC': 287237,\n",
       " 'TGGG': 631862,\n",
       " 'GTCA': 2327794,\n",
       " 'GCTC': 440587,\n",
       " 'ACCA': 2250131,\n",
       " 'CTGT': 4167506,\n",
       " 'GACT': 1861632,\n",
       " 'AGCT': 3246521,\n",
       " 'GACA': 1747511,\n",
       " 'AGCA': 2815002,\n",
       " 'TCCT': 548517,\n",
       " 'TCCA': 365622,\n",
       " 'ACCT': 2935957,\n",
       " 'CCAA': 1187276,\n",
       " 'TGCC': 230662,\n",
       " 'GCAC': 195736,\n",
       " 'CCGG': 244785,\n",
       " 'CTGG': 548023,\n",
       " 'AGGG': 305753,\n",
       " 'AGCC': 293834,\n",
       " 'GAAA': 5371902,\n",
       " 'GTCT': 2602275,\n",
       " 'GTGG': 635745,\n",
       " 'TGCT': 2451424,\n",
       " 'CCCA': 384387,\n",
       " 'CCTT': 766330,\n",
       " 'GAGG': 830900,\n",
       " 'CAGG': 344620,\n",
       " 'CCCT': 300598,\n",
       " 'TAT': 5954931,\n",
       " 'AAT': 13074172,\n",
       " 'GGT': 2941193,\n",
       " 'TTG': 8955861,\n",
       " 'ATC': 1818498,\n",
       " 'GGC': 1238539,\n",
       " 'GCG': 1247909,\n",
       " 'GCT': 2968786,\n",
       " 'GCA': 2114173,\n",
       " 'CAG': 2653308,\n",
       " 'CAA': 6868398,\n",
       " 'GTT': 7020052,\n",
       " 'TTC': 4786524,\n",
       " 'ATG': 2850364,\n",
       " 'GGA': 994647,\n",
       " 'GTA': 7477239,\n",
       " 'CGA': 1245179,\n",
       " 'ATT': 3936987,\n",
       " 'GAA': 5717786,\n",
       " 'GAT': 1228802,\n",
       " 'GGG': 527005,\n",
       " 'CTT': 6072037,\n",
       " 'CAT': 2043537,\n",
       " 'ATA': 2471585,\n",
       " 'ACC': 2086020,\n",
       " 'TCC': 728955,\n",
       " 'TTT': 7511545,\n",
       " 'CCT': 1575978,\n",
       " 'AAA': 19889932,\n",
       " 'CCA': 889877,\n",
       " 'CTC': 639942,\n",
       " 'TAA': 6951703,\n",
       " 'CGT': 1153262,\n",
       " 'CGG': 373769,\n",
       " 'GTG': 1827801,\n",
       " 'TCA': 892207,\n",
       " 'ACT': 5863361,\n",
       " 'ACA': 3271605,\n",
       " 'TGA': 1434228,\n",
       " 'CAC': 484618,\n",
       " 'AGT': 3921945,\n",
       " 'GAG': 1698954,\n",
       " 'TGT': 2263648,\n",
       " 'AGA': 2598481,\n",
       " 'CCC': 456145,\n",
       " 'TCT': 2958101,\n",
       " 'AGG': 995240,\n",
       " 'TGG': 666832,\n",
       " 'GCC': 316332,\n",
       " 'CG': 3166977,\n",
       " 'AC': 13161265,\n",
       " 'TC': 5917640,\n",
       " 'TA': 14123393,\n",
       " 'TG': 9524592,\n",
       " 'AG': 12230706,\n",
       " 'AT': 5133723,\n",
       " 'GC': 4675169,\n",
       " 'TT': 10006561,\n",
       " 'AA': 16529221,\n",
       " 'GT': 6895552,\n",
       " 'GA': 4963640,\n",
       " 'CA': 6220455,\n",
       " 'CT': 8113966,\n",
       " 'GG': 2922785,\n",
       " 'CC': 2636680}"
      ]
     },
     "execution_count": 29,
     "metadata": {},
     "output_type": "execute_result"
    }
   ],
   "source": [
    "rgram_amounts"
   ]
  },
  {
   "cell_type": "markdown",
   "metadata": {},
   "source": [
    "### Training Fasttext"
   ]
  },
  {
   "cell_type": "code",
   "execution_count": 30,
   "metadata": {},
   "outputs": [],
   "source": [
    "HGRGRAMPATH = \"/home/bakirillov/HDD/data/genomes/HumanHG38_dna2vec/rgram/\""
   ]
  },
  {
   "cell_type": "code",
   "execution_count": 31,
   "metadata": {},
   "outputs": [],
   "source": [
    "class IterOverFolder(object):\n",
    "    \n",
    "    def __init__(self, folder):\n",
    "        self.folder = folder\n",
    "        self.files = [op.join(self.folder, a) for a in [b for b in os.walk(self.folder)][0][2]]\n",
    "    \n",
    "    def __iter__(self):\n",
    "        for a in tqdm(self.files):\n",
    "            with smart_open.smart_open(a, \"r\", encoding=\"utf-8\") as ih:\n",
    "                for line in ih:\n",
    "                    yield(line[0:-1].split(\" \"))"
   ]
  },
  {
   "cell_type": "code",
   "execution_count": 32,
   "metadata": {},
   "outputs": [],
   "source": [
    "iof = IterOverFolder(HGRGRAMPATH)"
   ]
  },
  {
   "cell_type": "code",
   "execution_count": 33,
   "metadata": {},
   "outputs": [],
   "source": [
    "model = FastText(size=100, window=3, hs=1, min_count=1, negative=10)"
   ]
  },
  {
   "cell_type": "code",
   "execution_count": 34,
   "metadata": {},
   "outputs": [
    {
     "name": "stderr",
     "output_type": "stream",
     "text": [
      "100%|██████████| 24/24 [02:38<00:00,  6.67s/it]\n"
     ]
    }
   ],
   "source": [
    "model.build_vocab(sentences=iof)"
   ]
  },
  {
   "cell_type": "code",
   "execution_count": 36,
   "metadata": {
    "scrolled": true
   },
   "outputs": [
    {
     "name": "stderr",
     "output_type": "stream",
     "text": [
      "100%|██████████| 24/24 [00:53<00:00,  2.20s/it]\n",
      "100%|██████████| 24/24 [00:54<00:00,  2.24s/it]\n",
      "100%|██████████| 24/24 [00:55<00:00,  2.27s/it]\n",
      "100%|██████████| 24/24 [00:53<00:00,  2.24s/it]\n",
      "100%|██████████| 24/24 [00:53<00:00,  2.22s/it]\n",
      "100%|██████████| 24/24 [00:53<00:00,  2.23s/it]\n",
      "100%|██████████| 24/24 [00:54<00:00,  2.20s/it]\n",
      "100%|██████████| 24/24 [00:53<00:00,  2.21s/it]\n",
      "100%|██████████| 24/24 [00:54<00:00,  2.25s/it]\n",
      "100%|██████████| 24/24 [00:55<00:00,  2.25s/it]\n"
     ]
    },
    {
     "name": "stdout",
     "output_type": "stream",
     "text": [
      "(0.5497958205723587, 0.0)\n"
     ]
    },
    {
     "name": "stderr",
     "output_type": "stream",
     "text": [
      "\r",
      "  0%|          | 0/24 [00:00<?, ?it/s]"
     ]
    },
    {
     "name": "stdout",
     "output_type": "stream",
     "text": [
      "(0.44511333873049425, 0.0)\n"
     ]
    },
    {
     "name": "stderr",
     "output_type": "stream",
     "text": [
      "100%|██████████| 24/24 [00:52<00:00,  2.17s/it]\n",
      "100%|██████████| 24/24 [00:52<00:00,  2.16s/it]\n",
      "100%|██████████| 24/24 [00:52<00:00,  2.17s/it]\n",
      "100%|██████████| 24/24 [00:52<00:00,  2.16s/it]\n",
      "100%|██████████| 24/24 [00:53<00:00,  2.18s/it]\n",
      "100%|██████████| 24/24 [00:54<00:00,  2.22s/it]\n",
      "100%|██████████| 24/24 [00:53<00:00,  2.21s/it]\n",
      "100%|██████████| 24/24 [00:52<00:00,  2.15s/it]\n",
      "100%|██████████| 24/24 [00:53<00:00,  2.20s/it]\n",
      "100%|██████████| 24/24 [00:52<00:00,  2.21s/it]\n"
     ]
    },
    {
     "name": "stdout",
     "output_type": "stream",
     "text": [
      "(0.5423753327876998, 0.0)\n"
     ]
    },
    {
     "name": "stderr",
     "output_type": "stream",
     "text": [
      "\r",
      "  0%|          | 0/24 [00:00<?, ?it/s]"
     ]
    },
    {
     "name": "stdout",
     "output_type": "stream",
     "text": [
      "(0.4427110010548526, 0.0)\n"
     ]
    },
    {
     "name": "stderr",
     "output_type": "stream",
     "text": [
      "100%|██████████| 24/24 [00:52<00:00,  2.17s/it]\n",
      "100%|██████████| 24/24 [00:52<00:00,  2.17s/it]\n",
      "100%|██████████| 24/24 [00:52<00:00,  2.17s/it]\n",
      "100%|██████████| 24/24 [00:52<00:00,  2.18s/it]\n",
      "100%|██████████| 24/24 [00:52<00:00,  2.19s/it]\n",
      "100%|██████████| 24/24 [00:52<00:00,  2.17s/it]\n",
      "100%|██████████| 24/24 [00:52<00:00,  2.17s/it]\n",
      "100%|██████████| 24/24 [00:52<00:00,  2.18s/it]\n",
      "100%|██████████| 24/24 [00:53<00:00,  2.19s/it]\n",
      "100%|██████████| 24/24 [00:53<00:00,  2.20s/it]\n"
     ]
    },
    {
     "name": "stdout",
     "output_type": "stream",
     "text": [
      "(0.5457945878922523, 0.0)\n"
     ]
    },
    {
     "name": "stderr",
     "output_type": "stream",
     "text": [
      "\r",
      "  0%|          | 0/24 [00:00<?, ?it/s]"
     ]
    },
    {
     "name": "stdout",
     "output_type": "stream",
     "text": [
      "(0.4411148991570465, 0.0)\n"
     ]
    },
    {
     "name": "stderr",
     "output_type": "stream",
     "text": [
      "100%|██████████| 24/24 [00:53<00:00,  2.22s/it]\n",
      "100%|██████████| 24/24 [00:53<00:00,  2.18s/it]\n",
      "100%|██████████| 24/24 [00:53<00:00,  2.20s/it]\n",
      "100%|██████████| 24/24 [00:53<00:00,  2.18s/it]\n",
      "100%|██████████| 24/24 [00:53<00:00,  2.17s/it]\n",
      "100%|██████████| 24/24 [00:53<00:00,  2.19s/it]\n",
      "100%|██████████| 24/24 [00:53<00:00,  2.19s/it]\n",
      "100%|██████████| 24/24 [00:53<00:00,  2.20s/it]\n",
      "100%|██████████| 24/24 [00:53<00:00,  2.20s/it]\n",
      "100%|██████████| 24/24 [00:53<00:00,  2.22s/it]\n"
     ]
    },
    {
     "name": "stdout",
     "output_type": "stream",
     "text": [
      "(0.5412963278780143, 0.0)\n"
     ]
    },
    {
     "ename": "KeyboardInterrupt",
     "evalue": "",
     "output_type": "error",
     "traceback": [
      "\u001b[0;31m---------------------------------------------------------------------------\u001b[0m",
      "\u001b[0;31mKeyboardInterrupt\u001b[0m                         Traceback (most recent call last)",
      "\u001b[0;32m<ipython-input-36-d317e39ab2b6>\u001b[0m in \u001b[0;36m<module>\u001b[0;34m\u001b[0m\n\u001b[1;32m     15\u001b[0m     \u001b[0mprint\u001b[0m\u001b[0;34m(\u001b[0m\u001b[0mcompute_spearman\u001b[0m\u001b[0;34m(\u001b[0m\u001b[0mnw_rg_dists\u001b[0m\u001b[0;34m,\u001b[0m \u001b[0mc_rg_dists\u001b[0m\u001b[0;34m)\u001b[0m\u001b[0;34m)\u001b[0m\u001b[0;34m\u001b[0m\u001b[0;34m\u001b[0m\u001b[0m\n\u001b[1;32m     16\u001b[0m     \u001b[0mkmers\u001b[0m \u001b[0;34m=\u001b[0m \u001b[0mgenerate_kmers\u001b[0m\u001b[0;34m(\u001b[0m\u001b[0;36m1000\u001b[0m\u001b[0;34m,\u001b[0m \u001b[0;34m[\u001b[0m\u001b[0;36m4\u001b[0m\u001b[0;34m,\u001b[0m\u001b[0;36m5\u001b[0m\u001b[0;34m,\u001b[0m\u001b[0;36m6\u001b[0m\u001b[0;34m,\u001b[0m\u001b[0;36m7\u001b[0m\u001b[0;34m,\u001b[0m\u001b[0;36m8\u001b[0m\u001b[0;34m]\u001b[0m\u001b[0;34m)\u001b[0m\u001b[0;34m\u001b[0m\u001b[0;34m\u001b[0m\u001b[0m\n\u001b[0;32m---> 17\u001b[0;31m     \u001b[0mnw_rg_dists_kmr\u001b[0m \u001b[0;34m=\u001b[0m \u001b[0mget_distances\u001b[0m\u001b[0;34m(\u001b[0m\u001b[0mkmers\u001b[0m\u001b[0;34m,\u001b[0m \u001b[0mnw_distance\u001b[0m\u001b[0;34m)\u001b[0m\u001b[0;34m\u001b[0m\u001b[0;34m\u001b[0m\u001b[0m\n\u001b[0m\u001b[1;32m     18\u001b[0m     \u001b[0mkmers_vectors\u001b[0m \u001b[0;34m=\u001b[0m \u001b[0mnp\u001b[0m\u001b[0;34m.\u001b[0m\u001b[0mstack\u001b[0m\u001b[0;34m(\u001b[0m\u001b[0;34m[\u001b[0m\u001b[0mmodel\u001b[0m\u001b[0;34m.\u001b[0m\u001b[0mwv\u001b[0m\u001b[0;34m[\u001b[0m\u001b[0ma\u001b[0m\u001b[0;34m]\u001b[0m \u001b[0;32mfor\u001b[0m \u001b[0ma\u001b[0m \u001b[0;32min\u001b[0m \u001b[0mkmers\u001b[0m\u001b[0;34m]\u001b[0m\u001b[0;34m)\u001b[0m\u001b[0;34m\u001b[0m\u001b[0;34m\u001b[0m\u001b[0m\n\u001b[1;32m     19\u001b[0m     \u001b[0mc_rg_dists_kmr\u001b[0m \u001b[0;34m=\u001b[0m \u001b[0mget_distances\u001b[0m\u001b[0;34m(\u001b[0m\u001b[0mkmers_vectors\u001b[0m\u001b[0;34m,\u001b[0m \u001b[0;32mlambda\u001b[0m \u001b[0ma\u001b[0m\u001b[0;34m,\u001b[0m\u001b[0mb\u001b[0m\u001b[0;34m:\u001b[0m \u001b[0;36m1\u001b[0m \u001b[0;34m-\u001b[0m \u001b[0mcosine\u001b[0m\u001b[0;34m(\u001b[0m\u001b[0ma\u001b[0m\u001b[0;34m,\u001b[0m\u001b[0mb\u001b[0m\u001b[0;34m)\u001b[0m\u001b[0;34m)\u001b[0m\u001b[0;34m\u001b[0m\u001b[0;34m\u001b[0m\u001b[0m\n",
      "\u001b[0;32m<ipython-input-15-362cc3fde988>\u001b[0m in \u001b[0;36mget_distances\u001b[0;34m(kmers, f)\u001b[0m\n\u001b[1;32m      1\u001b[0m \u001b[0;32mdef\u001b[0m \u001b[0mget_distances\u001b[0m\u001b[0;34m(\u001b[0m\u001b[0mkmers\u001b[0m\u001b[0;34m,\u001b[0m \u001b[0mf\u001b[0m\u001b[0;34m)\u001b[0m\u001b[0;34m:\u001b[0m\u001b[0;34m\u001b[0m\u001b[0;34m\u001b[0m\u001b[0m\n\u001b[1;32m      2\u001b[0m     return(\n\u001b[0;32m----> 3\u001b[0;31m         \u001b[0mnp\u001b[0m\u001b[0;34m.\u001b[0m\u001b[0marray\u001b[0m\u001b[0;34m(\u001b[0m\u001b[0;34m[\u001b[0m\u001b[0mf\u001b[0m\u001b[0;34m(\u001b[0m\u001b[0;34m*\u001b[0m\u001b[0ma\u001b[0m\u001b[0;34m)\u001b[0m \u001b[0;32mfor\u001b[0m \u001b[0ma\u001b[0m \u001b[0;32min\u001b[0m \u001b[0mitertools\u001b[0m\u001b[0;34m.\u001b[0m\u001b[0mcombinations\u001b[0m\u001b[0;34m(\u001b[0m\u001b[0mkmers\u001b[0m\u001b[0;34m,\u001b[0m \u001b[0;36m2\u001b[0m\u001b[0;34m)\u001b[0m\u001b[0;34m]\u001b[0m\u001b[0;34m)\u001b[0m\u001b[0;34m\u001b[0m\u001b[0;34m\u001b[0m\u001b[0m\n\u001b[0m\u001b[1;32m      4\u001b[0m     )\n\u001b[1;32m      5\u001b[0m \u001b[0;34m\u001b[0m\u001b[0m\n",
      "\u001b[0;32m<ipython-input-15-362cc3fde988>\u001b[0m in \u001b[0;36m<listcomp>\u001b[0;34m(.0)\u001b[0m\n\u001b[1;32m      1\u001b[0m \u001b[0;32mdef\u001b[0m \u001b[0mget_distances\u001b[0m\u001b[0;34m(\u001b[0m\u001b[0mkmers\u001b[0m\u001b[0;34m,\u001b[0m \u001b[0mf\u001b[0m\u001b[0;34m)\u001b[0m\u001b[0;34m:\u001b[0m\u001b[0;34m\u001b[0m\u001b[0;34m\u001b[0m\u001b[0m\n\u001b[1;32m      2\u001b[0m     return(\n\u001b[0;32m----> 3\u001b[0;31m         \u001b[0mnp\u001b[0m\u001b[0;34m.\u001b[0m\u001b[0marray\u001b[0m\u001b[0;34m(\u001b[0m\u001b[0;34m[\u001b[0m\u001b[0mf\u001b[0m\u001b[0;34m(\u001b[0m\u001b[0;34m*\u001b[0m\u001b[0ma\u001b[0m\u001b[0;34m)\u001b[0m \u001b[0;32mfor\u001b[0m \u001b[0ma\u001b[0m \u001b[0;32min\u001b[0m \u001b[0mitertools\u001b[0m\u001b[0;34m.\u001b[0m\u001b[0mcombinations\u001b[0m\u001b[0;34m(\u001b[0m\u001b[0mkmers\u001b[0m\u001b[0;34m,\u001b[0m \u001b[0;36m2\u001b[0m\u001b[0;34m)\u001b[0m\u001b[0;34m]\u001b[0m\u001b[0;34m)\u001b[0m\u001b[0;34m\u001b[0m\u001b[0;34m\u001b[0m\u001b[0m\n\u001b[0m\u001b[1;32m      4\u001b[0m     )\n\u001b[1;32m      5\u001b[0m \u001b[0;34m\u001b[0m\u001b[0m\n",
      "\u001b[0;32m<ipython-input-15-362cc3fde988>\u001b[0m in \u001b[0;36mnw_distance\u001b[0;34m(a, b)\u001b[0m\n\u001b[1;32m      6\u001b[0m \u001b[0;32mdef\u001b[0m \u001b[0mnw_distance\u001b[0m\u001b[0;34m(\u001b[0m\u001b[0ma\u001b[0m\u001b[0;34m,\u001b[0m\u001b[0mb\u001b[0m\u001b[0;34m)\u001b[0m\u001b[0;34m:\u001b[0m\u001b[0;34m\u001b[0m\u001b[0;34m\u001b[0m\u001b[0m\n\u001b[1;32m      7\u001b[0m     return(\n\u001b[0;32m----> 8\u001b[0;31m         \u001b[0mpairwise2\u001b[0m\u001b[0;34m.\u001b[0m\u001b[0malign\u001b[0m\u001b[0;34m.\u001b[0m\u001b[0mglobalxx\u001b[0m\u001b[0;34m(\u001b[0m\u001b[0ma\u001b[0m\u001b[0;34m,\u001b[0m \u001b[0mb\u001b[0m\u001b[0;34m)\u001b[0m\u001b[0;34m[\u001b[0m\u001b[0;36m0\u001b[0m\u001b[0;34m]\u001b[0m\u001b[0;34m[\u001b[0m\u001b[0;36m2\u001b[0m\u001b[0;34m]\u001b[0m\u001b[0;34m\u001b[0m\u001b[0;34m\u001b[0m\u001b[0m\n\u001b[0m\u001b[1;32m      9\u001b[0m     )\n\u001b[1;32m     10\u001b[0m \u001b[0;34m\u001b[0m\u001b[0m\n",
      "\u001b[0;32m~/anaconda3/envs/lapki/lib/python3.7/site-packages/Bio/pairwise2.py\u001b[0m in \u001b[0;36m__call__\u001b[0;34m(self, *args, **keywds)\u001b[0m\n\u001b[1;32m    406\u001b[0m             \u001b[0;34m\"\"\"Call the alignment instance already created.\"\"\"\u001b[0m\u001b[0;34m\u001b[0m\u001b[0;34m\u001b[0m\u001b[0m\n\u001b[1;32m    407\u001b[0m             \u001b[0mkeywds\u001b[0m \u001b[0;34m=\u001b[0m \u001b[0mself\u001b[0m\u001b[0;34m.\u001b[0m\u001b[0mdecode\u001b[0m\u001b[0;34m(\u001b[0m\u001b[0;34m*\u001b[0m\u001b[0margs\u001b[0m\u001b[0;34m,\u001b[0m \u001b[0;34m**\u001b[0m\u001b[0mkeywds\u001b[0m\u001b[0;34m)\u001b[0m\u001b[0;34m\u001b[0m\u001b[0;34m\u001b[0m\u001b[0m\n\u001b[0;32m--> 408\u001b[0;31m             \u001b[0;32mreturn\u001b[0m \u001b[0m_align\u001b[0m\u001b[0;34m(\u001b[0m\u001b[0;34m**\u001b[0m\u001b[0mkeywds\u001b[0m\u001b[0;34m)\u001b[0m\u001b[0;34m\u001b[0m\u001b[0;34m\u001b[0m\u001b[0m\n\u001b[0m\u001b[1;32m    409\u001b[0m \u001b[0;34m\u001b[0m\u001b[0m\n\u001b[1;32m    410\u001b[0m     \u001b[0;32mdef\u001b[0m \u001b[0m__getattr__\u001b[0m\u001b[0;34m(\u001b[0m\u001b[0mself\u001b[0m\u001b[0;34m,\u001b[0m \u001b[0mattr\u001b[0m\u001b[0;34m)\u001b[0m\u001b[0;34m:\u001b[0m\u001b[0;34m\u001b[0m\u001b[0;34m\u001b[0m\u001b[0m\n",
      "\u001b[0;32m~/anaconda3/envs/lapki/lib/python3.7/site-packages/Bio/pairwise2.py\u001b[0m in \u001b[0;36m_align\u001b[0;34m(sequenceA, sequenceB, match_fn, gap_A_fn, gap_B_fn, penalize_extend_when_opening, penalize_end_gaps, align_globally, gap_char, force_generic, score_only, one_alignment_only)\u001b[0m\n\u001b[1;32m    490\u001b[0m                                      \u001b[0mscore_matrix\u001b[0m\u001b[0;34m,\u001b[0m \u001b[0mtrace_matrix\u001b[0m\u001b[0;34m,\u001b[0m\u001b[0;34m\u001b[0m\u001b[0;34m\u001b[0m\u001b[0m\n\u001b[1;32m    491\u001b[0m                                      \u001b[0malign_globally\u001b[0m\u001b[0;34m,\u001b[0m \u001b[0mgap_char\u001b[0m\u001b[0;34m,\u001b[0m\u001b[0;34m\u001b[0m\u001b[0;34m\u001b[0m\u001b[0m\n\u001b[0;32m--> 492\u001b[0;31m                                      one_alignment_only, gap_A_fn, gap_B_fn)\n\u001b[0m\u001b[1;32m    493\u001b[0m     \u001b[0;32mif\u001b[0m \u001b[0;32mnot\u001b[0m \u001b[0malignments\u001b[0m\u001b[0;34m:\u001b[0m\u001b[0;34m\u001b[0m\u001b[0;34m\u001b[0m\u001b[0m\n\u001b[1;32m    494\u001b[0m         \u001b[0;31m# This may happen, see recover_alignments for explanation\u001b[0m\u001b[0;34m\u001b[0m\u001b[0;34m\u001b[0m\u001b[0;34m\u001b[0m\u001b[0m\n",
      "\u001b[0;32m~/anaconda3/envs/lapki/lib/python3.7/site-packages/Bio/pairwise2.py\u001b[0m in \u001b[0;36m_recover_alignments\u001b[0;34m(sequenceA, sequenceB, starts, score_matrix, trace_matrix, align_globally, gap_char, one_alignment_only, gap_A_fn, gap_B_fn, reverse)\u001b[0m\n\u001b[1;32m    798\u001b[0m         \u001b[0mali_seqA\u001b[0m\u001b[0;34m,\u001b[0m \u001b[0mali_seqB\u001b[0m\u001b[0;34m,\u001b[0m \u001b[0mend\u001b[0m\u001b[0;34m,\u001b[0m \u001b[0mrow\u001b[0m\u001b[0;34m,\u001b[0m \u001b[0mcol\u001b[0m\u001b[0;34m,\u001b[0m \u001b[0mcol_gap\u001b[0m\u001b[0;34m,\u001b[0m \u001b[0mtrace\u001b[0m \u001b[0;34m=\u001b[0m \u001b[0min_process\u001b[0m\u001b[0;34m.\u001b[0m\u001b[0mpop\u001b[0m\u001b[0;34m(\u001b[0m\u001b[0;34m)\u001b[0m\u001b[0;34m\u001b[0m\u001b[0;34m\u001b[0m\u001b[0m\n\u001b[1;32m    799\u001b[0m \u001b[0;34m\u001b[0m\u001b[0m\n\u001b[0;32m--> 800\u001b[0;31m         \u001b[0;32mwhile\u001b[0m \u001b[0;34m(\u001b[0m\u001b[0mrow\u001b[0m \u001b[0;34m>\u001b[0m \u001b[0;36m0\u001b[0m \u001b[0;32mor\u001b[0m \u001b[0mcol\u001b[0m \u001b[0;34m>\u001b[0m \u001b[0;36m0\u001b[0m\u001b[0;34m)\u001b[0m \u001b[0;32mand\u001b[0m \u001b[0;32mnot\u001b[0m \u001b[0mdead_end\u001b[0m\u001b[0;34m:\u001b[0m\u001b[0;34m\u001b[0m\u001b[0;34m\u001b[0m\u001b[0m\n\u001b[0m\u001b[1;32m    801\u001b[0m             \u001b[0mcache\u001b[0m \u001b[0;34m=\u001b[0m \u001b[0;34m(\u001b[0m\u001b[0mali_seqA\u001b[0m\u001b[0;34m[\u001b[0m\u001b[0;34m:\u001b[0m\u001b[0;34m]\u001b[0m\u001b[0;34m,\u001b[0m \u001b[0mali_seqB\u001b[0m\u001b[0;34m[\u001b[0m\u001b[0;34m:\u001b[0m\u001b[0;34m]\u001b[0m\u001b[0;34m,\u001b[0m \u001b[0mend\u001b[0m\u001b[0;34m,\u001b[0m \u001b[0mrow\u001b[0m\u001b[0;34m,\u001b[0m \u001b[0mcol\u001b[0m\u001b[0;34m,\u001b[0m \u001b[0mcol_gap\u001b[0m\u001b[0;34m)\u001b[0m\u001b[0;34m\u001b[0m\u001b[0;34m\u001b[0m\u001b[0m\n\u001b[1;32m    802\u001b[0m \u001b[0;34m\u001b[0m\u001b[0m\n",
      "\u001b[0;31mKeyboardInterrupt\u001b[0m: "
     ]
    }
   ],
   "source": [
    "for a in range(10):\n",
    "    iof = IterOverFolder(HGRGRAMPATH)\n",
    "    model.train(\n",
    "        sentences=iof, total_examples=model.corpus_count, \n",
    "        epochs=10\n",
    "    )\n",
    "    fname = get_tmpfile(\n",
    "        \"/home/bakirillov/HDD/weights/fasttergram/fasttergram.hg38.100.4.1.hs.neg10.\"+str(a)\n",
    "    )\n",
    "    model.save(fname)\n",
    "    model = FastText.load(fname)\n",
    "    all_vectors = np.stack([model.wv[a[1]] for a in final_rg.decompressed()])\n",
    "    nw_rg_dists = get_distances([a[1] for a in final_rg.decompressed()], nw_distance)\n",
    "    c_rg_dists = get_distances(all_vectors, lambda a,b: 1 - cosine(a,b))\n",
    "    print(compute_spearman(nw_rg_dists, c_rg_dists))\n",
    "    kmers = generate_kmers(1000, [4,5,6,7,8])\n",
    "    nw_rg_dists_kmr = get_distances(kmers, nw_distance)\n",
    "    kmers_vectors = np.stack([model.wv[a] for a in kmers])\n",
    "    c_rg_dists_kmr = get_distances(kmers_vectors, lambda a,b: 1 - cosine(a,b))\n",
    "    print(compute_spearman(nw_rg_dists_kmr, c_rg_dists_kmr))"
   ]
  },
  {
   "cell_type": "code",
   "execution_count": 37,
   "metadata": {},
   "outputs": [],
   "source": [
    "fname = get_tmpfile(\"/home/bakirillov/HDD/weights/fasttergram/fasttergram.hg38.256.4.1.hs.neg5.2\")"
   ]
  },
  {
   "cell_type": "code",
   "execution_count": 38,
   "metadata": {},
   "outputs": [
    {
     "ename": "KeyboardInterrupt",
     "evalue": "",
     "output_type": "error",
     "traceback": [
      "\u001b[0;31m---------------------------------------------------------------------------\u001b[0m",
      "\u001b[0;31mKeyboardInterrupt\u001b[0m                         Traceback (most recent call last)",
      "\u001b[0;32m<ipython-input-38-8d750dea75dc>\u001b[0m in \u001b[0;36m<module>\u001b[0;34m\u001b[0m\n\u001b[0;32m----> 1\u001b[0;31m \u001b[0mmodel\u001b[0m \u001b[0;34m=\u001b[0m \u001b[0mFastText\u001b[0m\u001b[0;34m.\u001b[0m\u001b[0mload\u001b[0m\u001b[0;34m(\u001b[0m\u001b[0mfname\u001b[0m\u001b[0;34m)\u001b[0m\u001b[0;34m\u001b[0m\u001b[0;34m\u001b[0m\u001b[0m\n\u001b[0m",
      "\u001b[0;32m~/anaconda3/envs/lapki/lib/python3.7/site-packages/gensim/models/fasttext.py\u001b[0m in \u001b[0;36mload\u001b[0;34m(cls, *args, **kwargs)\u001b[0m\n\u001b[1;32m   1023\u001b[0m         \"\"\"\n\u001b[1;32m   1024\u001b[0m         \u001b[0;32mtry\u001b[0m\u001b[0;34m:\u001b[0m\u001b[0;34m\u001b[0m\u001b[0;34m\u001b[0m\u001b[0m\n\u001b[0;32m-> 1025\u001b[0;31m             \u001b[0mmodel\u001b[0m \u001b[0;34m=\u001b[0m \u001b[0msuper\u001b[0m\u001b[0;34m(\u001b[0m\u001b[0mFastText\u001b[0m\u001b[0;34m,\u001b[0m \u001b[0mcls\u001b[0m\u001b[0;34m)\u001b[0m\u001b[0;34m.\u001b[0m\u001b[0mload\u001b[0m\u001b[0;34m(\u001b[0m\u001b[0;34m*\u001b[0m\u001b[0margs\u001b[0m\u001b[0;34m,\u001b[0m \u001b[0;34m**\u001b[0m\u001b[0mkwargs\u001b[0m\u001b[0;34m)\u001b[0m\u001b[0;34m\u001b[0m\u001b[0;34m\u001b[0m\u001b[0m\n\u001b[0m\u001b[1;32m   1026\u001b[0m             \u001b[0;32mif\u001b[0m \u001b[0mhasattr\u001b[0m\u001b[0;34m(\u001b[0m\u001b[0mmodel\u001b[0m\u001b[0;34m.\u001b[0m\u001b[0mwv\u001b[0m\u001b[0;34m,\u001b[0m \u001b[0;34m'hash2index'\u001b[0m\u001b[0;34m)\u001b[0m\u001b[0;34m:\u001b[0m\u001b[0;34m\u001b[0m\u001b[0;34m\u001b[0m\u001b[0m\n\u001b[1;32m   1027\u001b[0m                 \u001b[0mgensim\u001b[0m\u001b[0;34m.\u001b[0m\u001b[0mmodels\u001b[0m\u001b[0;34m.\u001b[0m\u001b[0mkeyedvectors\u001b[0m\u001b[0;34m.\u001b[0m\u001b[0m_rollback_optimization\u001b[0m\u001b[0;34m(\u001b[0m\u001b[0mmodel\u001b[0m\u001b[0;34m.\u001b[0m\u001b[0mwv\u001b[0m\u001b[0;34m)\u001b[0m\u001b[0;34m\u001b[0m\u001b[0;34m\u001b[0m\u001b[0m\n",
      "\u001b[0;32m~/anaconda3/envs/lapki/lib/python3.7/site-packages/gensim/models/base_any2vec.py\u001b[0m in \u001b[0;36mload\u001b[0;34m(cls, *args, **kwargs)\u001b[0m\n\u001b[1;32m   1242\u001b[0m \u001b[0;34m\u001b[0m\u001b[0m\n\u001b[1;32m   1243\u001b[0m         \"\"\"\n\u001b[0;32m-> 1244\u001b[0;31m         \u001b[0mmodel\u001b[0m \u001b[0;34m=\u001b[0m \u001b[0msuper\u001b[0m\u001b[0;34m(\u001b[0m\u001b[0mBaseWordEmbeddingsModel\u001b[0m\u001b[0;34m,\u001b[0m \u001b[0mcls\u001b[0m\u001b[0;34m)\u001b[0m\u001b[0;34m.\u001b[0m\u001b[0mload\u001b[0m\u001b[0;34m(\u001b[0m\u001b[0;34m*\u001b[0m\u001b[0margs\u001b[0m\u001b[0;34m,\u001b[0m \u001b[0;34m**\u001b[0m\u001b[0mkwargs\u001b[0m\u001b[0;34m)\u001b[0m\u001b[0;34m\u001b[0m\u001b[0;34m\u001b[0m\u001b[0m\n\u001b[0m\u001b[1;32m   1245\u001b[0m         \u001b[0;32mif\u001b[0m \u001b[0;32mnot\u001b[0m \u001b[0mhasattr\u001b[0m\u001b[0;34m(\u001b[0m\u001b[0mmodel\u001b[0m\u001b[0;34m,\u001b[0m \u001b[0;34m'ns_exponent'\u001b[0m\u001b[0;34m)\u001b[0m\u001b[0;34m:\u001b[0m\u001b[0;34m\u001b[0m\u001b[0;34m\u001b[0m\u001b[0m\n\u001b[1;32m   1246\u001b[0m             \u001b[0mmodel\u001b[0m\u001b[0;34m.\u001b[0m\u001b[0mns_exponent\u001b[0m \u001b[0;34m=\u001b[0m \u001b[0;36m0.75\u001b[0m\u001b[0;34m\u001b[0m\u001b[0;34m\u001b[0m\u001b[0m\n",
      "\u001b[0;32m~/anaconda3/envs/lapki/lib/python3.7/site-packages/gensim/models/base_any2vec.py\u001b[0m in \u001b[0;36mload\u001b[0;34m(cls, fname_or_handle, **kwargs)\u001b[0m\n\u001b[1;32m    601\u001b[0m \u001b[0;34m\u001b[0m\u001b[0m\n\u001b[1;32m    602\u001b[0m         \"\"\"\n\u001b[0;32m--> 603\u001b[0;31m         \u001b[0;32mreturn\u001b[0m \u001b[0msuper\u001b[0m\u001b[0;34m(\u001b[0m\u001b[0mBaseAny2VecModel\u001b[0m\u001b[0;34m,\u001b[0m \u001b[0mcls\u001b[0m\u001b[0;34m)\u001b[0m\u001b[0;34m.\u001b[0m\u001b[0mload\u001b[0m\u001b[0;34m(\u001b[0m\u001b[0mfname_or_handle\u001b[0m\u001b[0;34m,\u001b[0m \u001b[0;34m**\u001b[0m\u001b[0mkwargs\u001b[0m\u001b[0;34m)\u001b[0m\u001b[0;34m\u001b[0m\u001b[0;34m\u001b[0m\u001b[0m\n\u001b[0m\u001b[1;32m    604\u001b[0m \u001b[0;34m\u001b[0m\u001b[0m\n\u001b[1;32m    605\u001b[0m     \u001b[0;32mdef\u001b[0m \u001b[0msave\u001b[0m\u001b[0;34m(\u001b[0m\u001b[0mself\u001b[0m\u001b[0;34m,\u001b[0m \u001b[0mfname_or_handle\u001b[0m\u001b[0;34m,\u001b[0m \u001b[0;34m**\u001b[0m\u001b[0mkwargs\u001b[0m\u001b[0;34m)\u001b[0m\u001b[0;34m:\u001b[0m\u001b[0;34m\u001b[0m\u001b[0;34m\u001b[0m\u001b[0m\n",
      "\u001b[0;32m~/anaconda3/envs/lapki/lib/python3.7/site-packages/gensim/utils.py\u001b[0m in \u001b[0;36mload\u001b[0;34m(cls, fname, mmap)\u001b[0m\n\u001b[1;32m    425\u001b[0m \u001b[0;34m\u001b[0m\u001b[0m\n\u001b[1;32m    426\u001b[0m         \u001b[0mobj\u001b[0m \u001b[0;34m=\u001b[0m \u001b[0munpickle\u001b[0m\u001b[0;34m(\u001b[0m\u001b[0mfname\u001b[0m\u001b[0;34m)\u001b[0m\u001b[0;34m\u001b[0m\u001b[0;34m\u001b[0m\u001b[0m\n\u001b[0;32m--> 427\u001b[0;31m         \u001b[0mobj\u001b[0m\u001b[0;34m.\u001b[0m\u001b[0m_load_specials\u001b[0m\u001b[0;34m(\u001b[0m\u001b[0mfname\u001b[0m\u001b[0;34m,\u001b[0m \u001b[0mmmap\u001b[0m\u001b[0;34m,\u001b[0m \u001b[0mcompress\u001b[0m\u001b[0;34m,\u001b[0m \u001b[0msubname\u001b[0m\u001b[0;34m)\u001b[0m\u001b[0;34m\u001b[0m\u001b[0;34m\u001b[0m\u001b[0m\n\u001b[0m\u001b[1;32m    428\u001b[0m         \u001b[0mlogger\u001b[0m\u001b[0;34m.\u001b[0m\u001b[0minfo\u001b[0m\u001b[0;34m(\u001b[0m\u001b[0;34m\"loaded %s\"\u001b[0m\u001b[0;34m,\u001b[0m \u001b[0mfname\u001b[0m\u001b[0;34m)\u001b[0m\u001b[0;34m\u001b[0m\u001b[0;34m\u001b[0m\u001b[0m\n\u001b[1;32m    429\u001b[0m         \u001b[0;32mreturn\u001b[0m \u001b[0mobj\u001b[0m\u001b[0;34m\u001b[0m\u001b[0;34m\u001b[0m\u001b[0m\n",
      "\u001b[0;32m~/anaconda3/envs/lapki/lib/python3.7/site-packages/gensim/utils.py\u001b[0m in \u001b[0;36m_load_specials\u001b[0;34m(self, fname, mmap, compress, subname)\u001b[0m\n\u001b[1;32m    456\u001b[0m             \u001b[0mlogger\u001b[0m\u001b[0;34m.\u001b[0m\u001b[0minfo\u001b[0m\u001b[0;34m(\u001b[0m\u001b[0;34m\"loading %s recursively from %s.* with mmap=%s\"\u001b[0m\u001b[0;34m,\u001b[0m \u001b[0mattrib\u001b[0m\u001b[0;34m,\u001b[0m \u001b[0mcfname\u001b[0m\u001b[0;34m,\u001b[0m \u001b[0mmmap\u001b[0m\u001b[0;34m)\u001b[0m\u001b[0;34m\u001b[0m\u001b[0;34m\u001b[0m\u001b[0m\n\u001b[1;32m    457\u001b[0m             \u001b[0;32mwith\u001b[0m \u001b[0mignore_deprecation_warning\u001b[0m\u001b[0;34m(\u001b[0m\u001b[0;34m)\u001b[0m\u001b[0;34m:\u001b[0m\u001b[0;34m\u001b[0m\u001b[0;34m\u001b[0m\u001b[0m\n\u001b[0;32m--> 458\u001b[0;31m                 \u001b[0mgetattr\u001b[0m\u001b[0;34m(\u001b[0m\u001b[0mself\u001b[0m\u001b[0;34m,\u001b[0m \u001b[0mattrib\u001b[0m\u001b[0;34m)\u001b[0m\u001b[0;34m.\u001b[0m\u001b[0m_load_specials\u001b[0m\u001b[0;34m(\u001b[0m\u001b[0mcfname\u001b[0m\u001b[0;34m,\u001b[0m \u001b[0mmmap\u001b[0m\u001b[0;34m,\u001b[0m \u001b[0mcompress\u001b[0m\u001b[0;34m,\u001b[0m \u001b[0msubname\u001b[0m\u001b[0;34m)\u001b[0m\u001b[0;34m\u001b[0m\u001b[0;34m\u001b[0m\u001b[0m\n\u001b[0m\u001b[1;32m    459\u001b[0m \u001b[0;34m\u001b[0m\u001b[0m\n\u001b[1;32m    460\u001b[0m         \u001b[0;32mfor\u001b[0m \u001b[0mattrib\u001b[0m \u001b[0;32min\u001b[0m \u001b[0mgetattr\u001b[0m\u001b[0;34m(\u001b[0m\u001b[0mself\u001b[0m\u001b[0;34m,\u001b[0m \u001b[0;34m'__numpys'\u001b[0m\u001b[0;34m,\u001b[0m \u001b[0;34m[\u001b[0m\u001b[0;34m]\u001b[0m\u001b[0;34m)\u001b[0m\u001b[0;34m:\u001b[0m\u001b[0;34m\u001b[0m\u001b[0;34m\u001b[0m\u001b[0m\n",
      "\u001b[0;32m~/anaconda3/envs/lapki/lib/python3.7/site-packages/gensim/utils.py\u001b[0m in \u001b[0;36m_load_specials\u001b[0;34m(self, fname, mmap, compress, subname)\u001b[0m\n\u001b[1;32m    467\u001b[0m                 \u001b[0mval\u001b[0m \u001b[0;34m=\u001b[0m \u001b[0mnp\u001b[0m\u001b[0;34m.\u001b[0m\u001b[0mload\u001b[0m\u001b[0;34m(\u001b[0m\u001b[0msubname\u001b[0m\u001b[0;34m(\u001b[0m\u001b[0mfname\u001b[0m\u001b[0;34m,\u001b[0m \u001b[0mattrib\u001b[0m\u001b[0;34m)\u001b[0m\u001b[0;34m)\u001b[0m\u001b[0;34m[\u001b[0m\u001b[0;34m'val'\u001b[0m\u001b[0;34m]\u001b[0m\u001b[0;34m\u001b[0m\u001b[0;34m\u001b[0m\u001b[0m\n\u001b[1;32m    468\u001b[0m             \u001b[0;32melse\u001b[0m\u001b[0;34m:\u001b[0m\u001b[0;34m\u001b[0m\u001b[0;34m\u001b[0m\u001b[0m\n\u001b[0;32m--> 469\u001b[0;31m                 \u001b[0mval\u001b[0m \u001b[0;34m=\u001b[0m \u001b[0mnp\u001b[0m\u001b[0;34m.\u001b[0m\u001b[0mload\u001b[0m\u001b[0;34m(\u001b[0m\u001b[0msubname\u001b[0m\u001b[0;34m(\u001b[0m\u001b[0mfname\u001b[0m\u001b[0;34m,\u001b[0m \u001b[0mattrib\u001b[0m\u001b[0;34m)\u001b[0m\u001b[0;34m,\u001b[0m \u001b[0mmmap_mode\u001b[0m\u001b[0;34m=\u001b[0m\u001b[0mmmap\u001b[0m\u001b[0;34m)\u001b[0m\u001b[0;34m\u001b[0m\u001b[0;34m\u001b[0m\u001b[0m\n\u001b[0m\u001b[1;32m    470\u001b[0m \u001b[0;34m\u001b[0m\u001b[0m\n\u001b[1;32m    471\u001b[0m             \u001b[0;32mwith\u001b[0m \u001b[0mignore_deprecation_warning\u001b[0m\u001b[0;34m(\u001b[0m\u001b[0;34m)\u001b[0m\u001b[0;34m:\u001b[0m\u001b[0;34m\u001b[0m\u001b[0;34m\u001b[0m\u001b[0m\n",
      "\u001b[0;32m~/anaconda3/envs/lapki/lib/python3.7/site-packages/numpy/lib/npyio.py\u001b[0m in \u001b[0;36mload\u001b[0;34m(file, mmap_mode, allow_pickle, fix_imports, encoding)\u001b[0m\n\u001b[1;32m    445\u001b[0m             \u001b[0;32melse\u001b[0m\u001b[0;34m:\u001b[0m\u001b[0;34m\u001b[0m\u001b[0;34m\u001b[0m\u001b[0m\n\u001b[1;32m    446\u001b[0m                 return format.read_array(fid, allow_pickle=allow_pickle,\n\u001b[0;32m--> 447\u001b[0;31m                                          pickle_kwargs=pickle_kwargs)\n\u001b[0m\u001b[1;32m    448\u001b[0m         \u001b[0;32melse\u001b[0m\u001b[0;34m:\u001b[0m\u001b[0;34m\u001b[0m\u001b[0;34m\u001b[0m\u001b[0m\n\u001b[1;32m    449\u001b[0m             \u001b[0;31m# Try a pickle\u001b[0m\u001b[0;34m\u001b[0m\u001b[0;34m\u001b[0m\u001b[0;34m\u001b[0m\u001b[0m\n",
      "\u001b[0;32m~/anaconda3/envs/lapki/lib/python3.7/site-packages/numpy/lib/format.py\u001b[0m in \u001b[0;36mread_array\u001b[0;34m(fp, allow_pickle, pickle_kwargs)\u001b[0m\n\u001b[1;32m    706\u001b[0m         \u001b[0;32mif\u001b[0m \u001b[0misfileobj\u001b[0m\u001b[0;34m(\u001b[0m\u001b[0mfp\u001b[0m\u001b[0;34m)\u001b[0m\u001b[0;34m:\u001b[0m\u001b[0;34m\u001b[0m\u001b[0;34m\u001b[0m\u001b[0m\n\u001b[1;32m    707\u001b[0m             \u001b[0;31m# We can use the fast fromfile() function.\u001b[0m\u001b[0;34m\u001b[0m\u001b[0;34m\u001b[0m\u001b[0;34m\u001b[0m\u001b[0m\n\u001b[0;32m--> 708\u001b[0;31m             \u001b[0marray\u001b[0m \u001b[0;34m=\u001b[0m \u001b[0mnumpy\u001b[0m\u001b[0;34m.\u001b[0m\u001b[0mfromfile\u001b[0m\u001b[0;34m(\u001b[0m\u001b[0mfp\u001b[0m\u001b[0;34m,\u001b[0m \u001b[0mdtype\u001b[0m\u001b[0;34m=\u001b[0m\u001b[0mdtype\u001b[0m\u001b[0;34m,\u001b[0m \u001b[0mcount\u001b[0m\u001b[0;34m=\u001b[0m\u001b[0mcount\u001b[0m\u001b[0;34m)\u001b[0m\u001b[0;34m\u001b[0m\u001b[0;34m\u001b[0m\u001b[0m\n\u001b[0m\u001b[1;32m    709\u001b[0m         \u001b[0;32melse\u001b[0m\u001b[0;34m:\u001b[0m\u001b[0;34m\u001b[0m\u001b[0;34m\u001b[0m\u001b[0m\n\u001b[1;32m    710\u001b[0m             \u001b[0;31m# This is not a real file. We have to read it the\u001b[0m\u001b[0;34m\u001b[0m\u001b[0;34m\u001b[0m\u001b[0;34m\u001b[0m\u001b[0m\n",
      "\u001b[0;31mKeyboardInterrupt\u001b[0m: "
     ]
    }
   ],
   "source": [
    "model = FastText.load(fname)"
   ]
  },
  {
   "cell_type": "code",
   "execution_count": null,
   "metadata": {},
   "outputs": [],
   "source": [
    "all_vectors = np.stack([model.wv[a[1]] for a in final_rg.decompressed()])"
   ]
  },
  {
   "cell_type": "code",
   "execution_count": null,
   "metadata": {},
   "outputs": [],
   "source": [
    "all_vectors"
   ]
  },
  {
   "cell_type": "code",
   "execution_count": null,
   "metadata": {},
   "outputs": [],
   "source": [
    "all_vectors.shape"
   ]
  },
  {
   "cell_type": "code",
   "execution_count": null,
   "metadata": {},
   "outputs": [],
   "source": [
    "u = umap.UMAP()"
   ]
  },
  {
   "cell_type": "code",
   "execution_count": null,
   "metadata": {},
   "outputs": [],
   "source": [
    "u.fit(all_vectors)"
   ]
  },
  {
   "cell_type": "code",
   "execution_count": null,
   "metadata": {},
   "outputs": [],
   "source": [
    "new_coords = u.transform(all_vectors)"
   ]
  },
  {
   "cell_type": "code",
   "execution_count": null,
   "metadata": {},
   "outputs": [],
   "source": [
    "plt.scatter(new_coords.T[0], new_coords.T[1], c=[len(a[1]) for a in final_rg.decompressed()])\n",
    "plt.grid(True)\n",
    "plt.xlabel(\"UMAP 1\")\n",
    "plt.ylabel(\"UMAP 2\")\n",
    "plt.title(\"UMAP over FastteRgram\")"
   ]
  },
  {
   "cell_type": "code",
   "execution_count": null,
   "metadata": {},
   "outputs": [],
   "source": [
    "plt.scatter(new_coords.T[0], new_coords.T[1], c=[len(a[1]) for a in final_rg.decompressed()])\n",
    "plt.grid(True)\n",
    "plt.xlabel(\"UMAP 1\")\n",
    "plt.ylabel(\"UMAP 2\")\n",
    "plt.title(\"UMAP over FastteRgram\")"
   ]
  },
  {
   "cell_type": "markdown",
   "metadata": {},
   "source": [
    "### Distances"
   ]
  },
  {
   "cell_type": "code",
   "execution_count": null,
   "metadata": {},
   "outputs": [],
   "source": [
    "nw_rg_dists = get_distances([a[1] for a in final_rg.decompressed()], nw_distance)"
   ]
  },
  {
   "cell_type": "code",
   "execution_count": null,
   "metadata": {},
   "outputs": [],
   "source": [
    "c_rg_dists = get_distances(all_vectors, lambda a,b: 1 - cosine(a,b))"
   ]
  },
  {
   "cell_type": "code",
   "execution_count": null,
   "metadata": {},
   "outputs": [],
   "source": [
    "compute_spearman(nw_rg_dists, c_rg_dists)"
   ]
  },
  {
   "cell_type": "code",
   "execution_count": null,
   "metadata": {},
   "outputs": [],
   "source": [
    "boxplot_of_distances(nw_rg_dists, c_rg_dists, \"FastteRgram\")"
   ]
  },
  {
   "cell_type": "code",
   "execution_count": null,
   "metadata": {},
   "outputs": [],
   "source": [
    "kmers = generate_kmers(1000, [4,5,6,7,8])"
   ]
  },
  {
   "cell_type": "code",
   "execution_count": null,
   "metadata": {},
   "outputs": [],
   "source": [
    "nw_rg_dists_kmr = get_distances(kmers, nw_distance)"
   ]
  },
  {
   "cell_type": "code",
   "execution_count": null,
   "metadata": {},
   "outputs": [],
   "source": [
    "kmers_vectors = np.stack([model.wv[a] for a in kmers])"
   ]
  },
  {
   "cell_type": "code",
   "execution_count": null,
   "metadata": {},
   "outputs": [],
   "source": [
    "c_rg_dists_kmr = get_distances(kmers_vectors, lambda a,b: 1 - cosine(a,b))"
   ]
  },
  {
   "cell_type": "code",
   "execution_count": null,
   "metadata": {},
   "outputs": [],
   "source": [
    "compute_spearman(nw_rg_dists_kmr, c_rg_dists_kmr)"
   ]
  },
  {
   "cell_type": "code",
   "execution_count": null,
   "metadata": {},
   "outputs": [],
   "source": [
    "boxplot_of_distances(nw_rg_dists_kmr, c_rg_dists_kmr, \"FastteRgram on random kmers\")"
   ]
  },
  {
   "cell_type": "markdown",
   "metadata": {},
   "source": [
    "### dna2vec"
   ]
  },
  {
   "cell_type": "code",
   "execution_count": 33,
   "metadata": {},
   "outputs": [],
   "source": [
    "D2VPATH = \"/home/bakirillov/Documents/apps/dna2vec/pretrained/dna2vec-20161219-0153-k3to8-100d-10c-29320Mbp-sliding-Xat.w2v\""
   ]
  },
  {
   "cell_type": "code",
   "execution_count": 34,
   "metadata": {},
   "outputs": [],
   "source": [
    "mk_model = KeyedVectors.load_word2vec_format(D2VPATH, binary=False)\n",
    "vectors = [mk_model[a] for a in kmers]"
   ]
  },
  {
   "cell_type": "code",
   "execution_count": 35,
   "metadata": {},
   "outputs": [],
   "source": [
    "c_rg_dists_kmr_d2v = get_distances(vectors, lambda a,b: 1 - cosine(a,b))"
   ]
  },
  {
   "cell_type": "code",
   "execution_count": 36,
   "metadata": {},
   "outputs": [
    {
     "data": {
      "text/plain": [
       "(0.429048521634258, 0.0)"
      ]
     },
     "execution_count": 36,
     "metadata": {},
     "output_type": "execute_result"
    }
   ],
   "source": [
    "compute_spearman(nw_rg_dists_kmr, c_rg_dists_kmr_d2v)"
   ]
  },
  {
   "cell_type": "code",
   "execution_count": 37,
   "metadata": {},
   "outputs": [
    {
     "data": {
      "image/png": "[encoded data removed]",
      "text/plain": [
       "<Figure size 432x288 with 1 Axes>"
      ]
     },
     "metadata": {
      "needs_background": "light"
     },
     "output_type": "display_data"
    }
   ],
   "source": [
    "boxplot_of_distances(nw_rg_dists_kmr, c_rg_dists_kmr_d2v, \"dna2vec on random kmers\")"
   ]
  }
 ],
 "metadata": {
  "kernelspec": {
   "display_name": "Python 3",
   "language": "python",
   "name": "python3"
  },
  "language_info": {
   "codemirror_mode": {
    "name": "ipython",
    "version": 3
   },
   "file_extension": ".py",
   "mimetype": "text/x-python",
   "name": "python",
   "nbconvert_exporter": "python",
   "pygments_lexer": "ipython3",
   "version": "3.7.2"
  }
 },
 "nbformat": 4,
 "nbformat_minor": 2
}
